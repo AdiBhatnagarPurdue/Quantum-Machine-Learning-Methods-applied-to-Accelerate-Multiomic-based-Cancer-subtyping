{
 "cells": [
  {
   "cell_type": "markdown",
   "metadata": {
    "colab_type": "text",
    "id": "view-in-github"
   },
   "source": [
    "<a href=\"https://colab.research.google.com/github/Vivek-1116/SDAE-and-VAE-for-Cancer-Classification-through-Multi-omics-Feature-Extraction/blob/main/DATA_PRE_PROCESSING.ipynb\" target=\"_parent\"><img src=\"https://colab.research.google.com/assets/colab-badge.svg\" alt=\"Open In Colab\"/></a>"
   ]
  },
  {
   "cell_type": "markdown",
   "metadata": {
    "id": "GK8nM0cEESEz"
   },
   "source": [
    "# Code Implementation on MULTI-OMICS DATA PRE-PROCESSING\n",
    "Dataset for this project is made up of Multi-Omics Cancer Benchmark TCGA Pre-processed data.\n",
    "\n",
    "Data Source : http://acgt.cs.tau.ac.il/multi_omic_benchmark/download.html\n",
    "\n",
    "Data Description : Skin Cutaneous Melanoma (SKCM)  Data\n",
    "\n",
    "Omics Involved : Gene expression, DNA methylation & miRNA expression"
   ]
  },
  {
   "cell_type": "markdown",
   "metadata": {
    "id": "GcfMJqKA8faa"
   },
   "source": [
    "## RAW DATA"
   ]
  },
  {
   "cell_type": "markdown",
   "metadata": {
    "id": "VDohm3utEM3k"
   },
   "source": [
    "IMPORT LIBRARIES"
   ]
  },
  {
   "cell_type": "code",
   "execution_count": 19,
   "metadata": {
    "id": "u7IZeqHgEEjW"
   },
   "outputs": [],
   "source": [
    "import numpy as np #Fundamental package for scientific computing\n",
    "import pandas as pd #For data manipulation and analysis\n",
    "import matplotlib.pyplot as plt #2D plotting library\n",
    "import seaborn as sns #Python data visualization library based on matplotlib\n",
    "import warnings #Typically issued in situations where it is useful to alert the user of some condition in a program\n",
    "from collections import Counter #Supports iterations\n",
    "warnings.filterwarnings('ignore') #Ignores all warnings"
   ]
  },
  {
   "cell_type": "markdown",
   "metadata": {
    "id": "tDJU6G0hqbGJ"
   },
   "source": [
    "IMPORT DATASET (3 DIFFERENT OMICS & 1 CLINICAL DATA)"
   ]
  },
  {
   "cell_type": "code",
   "execution_count": 20,
   "metadata": {},
   "outputs": [
    {
     "name": "stdout",
     "output_type": "stream",
     "text": [
      "RAW MULTIOMICS DATASET\n",
      "CLINICAL DATA : (481, 103)\n",
      "GENE EXPRESSION : (20531, 474)\n",
      "MIRNA : (1046, 453)\n",
      "DNA METHYLATION : (5000, 476)\n"
     ]
    }
   ],
   "source": [
    "data_path = '' #Change this path accordingly\n",
    "\n",
    "print(\"RAW MULTIOMICS DATASET\") \n",
    "\n",
    "dataframe0 = pd.read_csv(data_path + \"melanoma.csv\",sep=',') #Reading clinical dataset \n",
    "print(\"CLINICAL DATA :\", dataframe0.shape)\n",
    "\n",
    "dataframe1 = pd.read_csv(data_path + \"exp.csv\",sep=',') #Reading Gene Expression dataset\n",
    "print(\"GENE EXPRESSION :\", dataframe1.shape)\n",
    "\n",
    "dataframe2 = pd.read_csv(data_path + \"mirna.csv\",sep=',') #Reading miRNA dataset\n",
    "print(\"MIRNA :\", dataframe2.shape)\n",
    "\n",
    "dataframe3 = pd.read_csv(data_path + \"methy.csv\",sep=',') #Reading DNA Methylation dataset \n",
    "print(\"DNA METHYLATION :\", dataframe3.shape)"
   ]
  },
  {
   "cell_type": "markdown",
   "metadata": {
    "id": "lF0gkxurM6QD"
   },
   "source": [
    "DATA TRANSPOSITION AND REMOVAL OF DUPLICATION DATA"
   ]
  },
  {
   "cell_type": "code",
   "execution_count": 21,
   "metadata": {
    "colab": {
     "base_uri": "https://localhost:8080/",
     "height": 101
    },
    "id": "alqWgptAM9pJ",
    "outputId": "f3c86d90-c10e-49b4-e35a-cb155f8aadf3"
   },
   "outputs": [],
   "source": [
    "#taking transpose of data\n",
    "dat1 = np.transpose(dataframe1)\n",
    "dat2 = np.transpose(dataframe2)\n",
    "dat3 = np.transpose(dataframe3)\n",
    "\n",
    "#removing duplicate data\n",
    "d1 = dat1.drop_duplicates() \n",
    "d2 = dat2.drop_duplicates() \n",
    "d3 = dat3.drop_duplicates() "
   ]
  },
  {
   "cell_type": "markdown",
   "metadata": {
    "id": "Ei9CmlMY_8dz"
   },
   "source": [
    "## EXPLORATORY DATA ANALYSIS (EDA)"
   ]
  },
  {
   "cell_type": "markdown",
   "metadata": {
    "id": "-v7jy3yPEspx"
   },
   "source": [
    "REPLACING ZEROS WITH NaNs"
   ]
  },
  {
   "cell_type": "code",
   "execution_count": 22,
   "metadata": {
    "id": "DmfSsYazQMvq"
   },
   "outputs": [],
   "source": [
    "d1_new = d1.replace(0, np.nan) \n",
    "d2_new = d2.replace(0, np.nan) \n",
    "d3_new = d3.replace(0, np.nan) "
   ]
  },
  {
   "cell_type": "markdown",
   "metadata": {
    "id": "EAlPrC_1D4fb"
   },
   "source": [
    "DROPPING COLUMNS CONTAINING NULL VALUES"
   ]
  },
  {
   "cell_type": "code",
   "execution_count": 23,
   "metadata": {
    "id": "VsqdQIt5C_5O"
   },
   "outputs": [],
   "source": [
    "#Dropping columns containing NaN values\n",
    "GENE = d1_new.dropna(axis=1,how='any',thresh=None,subset=None, inplace=False)\n",
    "MIRNA = d2_new.dropna(axis=1,how='any',thresh=None,subset=None, inplace=False)\n",
    "METHY = d3_new.dropna(axis=1,how='any',thresh=None,subset=None, inplace=False)"
   ]
  },
  {
   "cell_type": "markdown",
   "metadata": {
    "id": "sXFy9NwRsQm3"
   },
   "source": [
    "DROPPING ALL COLUMNS EXCEPT SAMPLE ID & TYPE IN CLINICAL DATA"
   ]
  },
  {
   "cell_type": "code",
   "execution_count": 24,
   "metadata": {
    "id": "oCH0dQ4jLQ9f"
   },
   "outputs": [
    {
     "data": {
      "text/plain": [
       "array(['Metastatic', 'Primary Tumor', 'Additional Metastatic', nan,\n",
       "       'Solid Tissue Normal'], dtype=object)"
      ]
     },
     "execution_count": 24,
     "metadata": {},
     "output_type": "execute_result"
    }
   ],
   "source": [
    "dataframe0.drop(dataframe0.columns.difference(['sampleID','sample_type']), 1, inplace=True) #Dropping all columns except Sample_ID & Sample type\n",
    "dataframe0['sample_type'].unique()"
   ]
  },
  {
   "cell_type": "markdown",
   "metadata": {
    "id": "3orrilm4seL7"
   },
   "source": [
    "REPLACING SAMPLE TYPE ID WITH VALUES "
   ]
  },
  {
   "cell_type": "code",
   "execution_count": 25,
   "metadata": {
    "id": "mviTAbRiMCMQ"
   },
   "outputs": [],
   "source": [
    "d4=dataframe0.replace(to_replace=[\"Primary Tumor\", \"Metastatic\", \"Additional Metastatic\", \"Solid Tissue Normal\"],value=[\"1\", \"1\", \"1\", \"0\"]) #Replacing \"-\" in patient ID into \".\" to sync IDs with omics\n",
    "Sample=d4.rename(columns={\"sampleID\":\"PatientID\",\"sample_type\":\"Class\"}) #renaming columns\n",
    "Sample['PatientID']=Sample['PatientID'].str.replace('\\-','.') #setting up sampleIDs to match other omics data\n",
    "Sample = Sample.drop_duplicates() #there are duplicate indices, to preserve a data driven approach we remove the duplicate rows"
   ]
  },
  {
   "cell_type": "markdown",
   "metadata": {
    "id": "PXes1c8Ls7kY"
   },
   "source": [
    "STORING PROCESSED MULTIOMICS DATA"
   ]
  },
  {
   "cell_type": "code",
   "execution_count": 26,
   "metadata": {
    "id": "6r-6DfJSTl8R"
   },
   "outputs": [],
   "source": [
    "data_path = './PROCESSED/'\n",
    "Processed_Gene=GENE.to_csv(data_path + 'processed_Gene_latest.csv')\n",
    "Processed_MiRNA=MIRNA.to_csv(data_path + 'processed_MiRNA_latest.csv')\n",
    "Processed_Methy=METHY.to_csv(data_path + 'processed_Methy_latest.csv')"
   ]
  },
  {
   "cell_type": "markdown",
   "metadata": {
    "id": "bvoCfCV6-qWz"
   },
   "source": [
    "## MULTI-OMICS DATA INTEGRATION"
   ]
  },
  {
   "cell_type": "markdown",
   "metadata": {
    "id": "-mZUUgpstD5o"
   },
   "source": [
    "IMPORT PRE-PROCESSED MULTIOMICS DATA FOR INTEGRATION"
   ]
  },
  {
   "cell_type": "code",
   "execution_count": 27,
   "metadata": {
    "colab": {
     "base_uri": "https://localhost:8080/",
     "height": 84
    },
    "id": "LYH6_POfB1tS",
    "outputId": "3d0a124a-bc51-4692-bdab-c75d500b8064"
   },
   "outputs": [
    {
     "name": "stdout",
     "output_type": "stream",
     "text": [
      "----PRE-PROCESSED----\n",
      "GENE EXPRESSION : (473, 12210)\n",
      "MIRNA : (452, 197)\n",
      "DNA METHYLATION : (475, 5001)\n"
     ]
    }
   ],
   "source": [
    "print(\"----PRE-PROCESSED----\") \n",
    "\n",
    "dframe1 = pd.read_csv(data_path + \"processed_Gene_latest.csv\",skiprows=1)\n",
    "print(\"GENE EXPRESSION :\", dframe1.shape)\n",
    "\n",
    "dframe2 = pd.read_csv(data_path + \"processed_MiRNA_latest.csv\",skiprows=1)\n",
    "print(\"MIRNA :\", dframe2.shape)\n",
    "\n",
    "dframe3 = pd.read_csv(data_path + \"processed_Methy_latest.csv\",skiprows=1)\n",
    "print(\"DNA METHYLATION :\", dframe3.shape)"
   ]
  },
  {
   "cell_type": "markdown",
   "metadata": {
    "id": "Fzn8HJ1BtNqh"
   },
   "source": [
    "SETTING PATIENT ID AS DATA INDEX"
   ]
  },
  {
   "cell_type": "code",
   "execution_count": 28,
   "metadata": {
    "id": "V7Xk5n2gS2nk"
   },
   "outputs": [],
   "source": [
    "Gene = dframe1.set_index('sampleID')\n",
    "MiRNA = dframe2.set_index('sampleID')\n",
    "Methy = dframe3.set_index('sampleID')\n",
    "Clinical = Sample.set_index('PatientID')"
   ]
  },
  {
   "cell_type": "markdown",
   "metadata": {
    "id": "LsGFtQZ2tTFT"
   },
   "source": [
    "INTEGRATION OF MULTIOMICS"
   ]
  },
  {
   "cell_type": "code",
   "execution_count": 29,
   "metadata": {
    "id": "3WFzi10U5N5v"
   },
   "outputs": [],
   "source": [
    "integrate = [Gene,MiRNA,Methy,Clinical] #Integrating all 3 omics with class embedded\n",
    "Multiomics = pd.concat(integrate, axis=1, join='inner')"
   ]
  },
  {
   "cell_type": "markdown",
   "metadata": {
    "id": "2dGG0UyDtWoT"
   },
   "source": [
    "MULTIOMICS DATASET"
   ]
  },
  {
   "cell_type": "code",
   "execution_count": 30,
   "metadata": {},
   "outputs": [
    {
     "data": {
      "text/html": [
       "<div>\n",
       "<style scoped>\n",
       "    .dataframe tbody tr th:only-of-type {\n",
       "        vertical-align: middle;\n",
       "    }\n",
       "\n",
       "    .dataframe tbody tr th {\n",
       "        vertical-align: top;\n",
       "    }\n",
       "\n",
       "    .dataframe thead th {\n",
       "        text-align: right;\n",
       "    }\n",
       "</style>\n",
       "<table border=\"1\" class=\"dataframe\">\n",
       "  <thead>\n",
       "    <tr style=\"text-align: right;\">\n",
       "      <th></th>\n",
       "      <th>X..10357</th>\n",
       "      <th>X..10431</th>\n",
       "      <th>X..155060</th>\n",
       "      <th>X..390284</th>\n",
       "      <th>X..57714</th>\n",
       "      <th>X..653553</th>\n",
       "      <th>X..8225</th>\n",
       "      <th>A1BG.1</th>\n",
       "      <th>A2LD1.87769</th>\n",
       "      <th>A2M.2</th>\n",
       "      <th>...</th>\n",
       "      <th>rs7746156</th>\n",
       "      <th>rs798149</th>\n",
       "      <th>rs845016</th>\n",
       "      <th>rs877309</th>\n",
       "      <th>rs9292570</th>\n",
       "      <th>rs9363764</th>\n",
       "      <th>rs939290</th>\n",
       "      <th>rs951295</th>\n",
       "      <th>rs966367</th>\n",
       "      <th>Class</th>\n",
       "    </tr>\n",
       "  </thead>\n",
       "  <tbody>\n",
       "    <tr>\n",
       "      <th>TCGA.3N.A9WC.06</th>\n",
       "      <td>84.6612</td>\n",
       "      <td>560.4738</td>\n",
       "      <td>631.1352</td>\n",
       "      <td>5.2193</td>\n",
       "      <td>1140.6203</td>\n",
       "      <td>359.7310</td>\n",
       "      <td>834.2869</td>\n",
       "      <td>195.1822</td>\n",
       "      <td>160.7548</td>\n",
       "      <td>169236.6356</td>\n",
       "      <td>...</td>\n",
       "      <td>0.516283</td>\n",
       "      <td>0.017910</td>\n",
       "      <td>0.239217</td>\n",
       "      <td>0.408610</td>\n",
       "      <td>0.502200</td>\n",
       "      <td>0.049230</td>\n",
       "      <td>0.509335</td>\n",
       "      <td>0.041922</td>\n",
       "      <td>0.922029</td>\n",
       "      <td>1</td>\n",
       "    </tr>\n",
       "    <tr>\n",
       "      <th>TCGA.3N.A9WD.06</th>\n",
       "      <td>118.8794</td>\n",
       "      <td>629.7872</td>\n",
       "      <td>216.3121</td>\n",
       "      <td>3.5461</td>\n",
       "      <td>224.1135</td>\n",
       "      <td>465.2482</td>\n",
       "      <td>793.6170</td>\n",
       "      <td>360.8794</td>\n",
       "      <td>97.1986</td>\n",
       "      <td>18257.8865</td>\n",
       "      <td>...</td>\n",
       "      <td>0.499297</td>\n",
       "      <td>0.018198</td>\n",
       "      <td>0.918989</td>\n",
       "      <td>0.967667</td>\n",
       "      <td>0.967107</td>\n",
       "      <td>0.596673</td>\n",
       "      <td>0.333640</td>\n",
       "      <td>0.971278</td>\n",
       "      <td>0.932022</td>\n",
       "      <td>1</td>\n",
       "    </tr>\n",
       "    <tr>\n",
       "      <th>TCGA.BF.A1PU.01</th>\n",
       "      <td>92.8766</td>\n",
       "      <td>544.8052</td>\n",
       "      <td>72.0779</td>\n",
       "      <td>11.6883</td>\n",
       "      <td>212.9870</td>\n",
       "      <td>687.3377</td>\n",
       "      <td>768.5065</td>\n",
       "      <td>176.3994</td>\n",
       "      <td>163.2338</td>\n",
       "      <td>6716.4513</td>\n",
       "      <td>...</td>\n",
       "      <td>0.471355</td>\n",
       "      <td>0.016100</td>\n",
       "      <td>0.457613</td>\n",
       "      <td>0.154563</td>\n",
       "      <td>0.966827</td>\n",
       "      <td>0.958141</td>\n",
       "      <td>0.969355</td>\n",
       "      <td>0.965634</td>\n",
       "      <td>0.046413</td>\n",
       "      <td>1</td>\n",
       "    </tr>\n",
       "    <tr>\n",
       "      <th>TCGA.BF.A1PV.01</th>\n",
       "      <td>163.9868</td>\n",
       "      <td>771.0699</td>\n",
       "      <td>275.2540</td>\n",
       "      <td>7.1727</td>\n",
       "      <td>342.4985</td>\n",
       "      <td>572.9229</td>\n",
       "      <td>840.1076</td>\n",
       "      <td>216.8470</td>\n",
       "      <td>60.8727</td>\n",
       "      <td>1740.5828</td>\n",
       "      <td>...</td>\n",
       "      <td>0.363542</td>\n",
       "      <td>0.404429</td>\n",
       "      <td>0.449350</td>\n",
       "      <td>0.537597</td>\n",
       "      <td>0.484163</td>\n",
       "      <td>0.870193</td>\n",
       "      <td>0.037020</td>\n",
       "      <td>0.542557</td>\n",
       "      <td>0.423561</td>\n",
       "      <td>1</td>\n",
       "    </tr>\n",
       "    <tr>\n",
       "      <th>TCGA.BF.A1PX.01</th>\n",
       "      <td>121.2026</td>\n",
       "      <td>793.5349</td>\n",
       "      <td>39.6246</td>\n",
       "      <td>3.1283</td>\n",
       "      <td>636.0792</td>\n",
       "      <td>829.3361</td>\n",
       "      <td>893.2916</td>\n",
       "      <td>285.0608</td>\n",
       "      <td>125.6900</td>\n",
       "      <td>32098.0014</td>\n",
       "      <td>...</td>\n",
       "      <td>0.461325</td>\n",
       "      <td>0.956164</td>\n",
       "      <td>0.045105</td>\n",
       "      <td>0.020901</td>\n",
       "      <td>0.522838</td>\n",
       "      <td>0.539248</td>\n",
       "      <td>0.520419</td>\n",
       "      <td>0.502717</td>\n",
       "      <td>0.443220</td>\n",
       "      <td>1</td>\n",
       "    </tr>\n",
       "    <tr>\n",
       "      <th>...</th>\n",
       "      <td>...</td>\n",
       "      <td>...</td>\n",
       "      <td>...</td>\n",
       "      <td>...</td>\n",
       "      <td>...</td>\n",
       "      <td>...</td>\n",
       "      <td>...</td>\n",
       "      <td>...</td>\n",
       "      <td>...</td>\n",
       "      <td>...</td>\n",
       "      <td>...</td>\n",
       "      <td>...</td>\n",
       "      <td>...</td>\n",
       "      <td>...</td>\n",
       "      <td>...</td>\n",
       "      <td>...</td>\n",
       "      <td>...</td>\n",
       "      <td>...</td>\n",
       "      <td>...</td>\n",
       "      <td>...</td>\n",
       "      <td>...</td>\n",
       "    </tr>\n",
       "    <tr>\n",
       "      <th>TCGA.YG.AA3O.06</th>\n",
       "      <td>75.8395</td>\n",
       "      <td>773.6375</td>\n",
       "      <td>726.6582</td>\n",
       "      <td>2.7038</td>\n",
       "      <td>677.9890</td>\n",
       "      <td>425.1796</td>\n",
       "      <td>659.0621</td>\n",
       "      <td>207.9831</td>\n",
       "      <td>86.2831</td>\n",
       "      <td>37319.7533</td>\n",
       "      <td>...</td>\n",
       "      <td>0.955636</td>\n",
       "      <td>0.013256</td>\n",
       "      <td>0.910684</td>\n",
       "      <td>0.961125</td>\n",
       "      <td>0.965712</td>\n",
       "      <td>0.847496</td>\n",
       "      <td>0.968746</td>\n",
       "      <td>0.494386</td>\n",
       "      <td>0.030198</td>\n",
       "      <td>1</td>\n",
       "    </tr>\n",
       "    <tr>\n",
       "      <th>TCGA.YG.AA3P.06</th>\n",
       "      <td>97.4853</td>\n",
       "      <td>709.6430</td>\n",
       "      <td>193.9265</td>\n",
       "      <td>3.1966</td>\n",
       "      <td>462.9728</td>\n",
       "      <td>952.5839</td>\n",
       "      <td>780.5008</td>\n",
       "      <td>33.5642</td>\n",
       "      <td>50.0426</td>\n",
       "      <td>8217.0591</td>\n",
       "      <td>...</td>\n",
       "      <td>0.311615</td>\n",
       "      <td>0.026900</td>\n",
       "      <td>0.938763</td>\n",
       "      <td>0.968597</td>\n",
       "      <td>0.972253</td>\n",
       "      <td>0.018732</td>\n",
       "      <td>0.034404</td>\n",
       "      <td>0.966530</td>\n",
       "      <td>0.932780</td>\n",
       "      <td>1</td>\n",
       "    </tr>\n",
       "    <tr>\n",
       "      <th>TCGA.Z2.A8RT.06</th>\n",
       "      <td>103.9767</td>\n",
       "      <td>706.2016</td>\n",
       "      <td>279.0698</td>\n",
       "      <td>6.2016</td>\n",
       "      <td>338.3721</td>\n",
       "      <td>275.5814</td>\n",
       "      <td>1242.6357</td>\n",
       "      <td>336.4070</td>\n",
       "      <td>37.3178</td>\n",
       "      <td>22129.9496</td>\n",
       "      <td>...</td>\n",
       "      <td>0.465897</td>\n",
       "      <td>0.017411</td>\n",
       "      <td>0.469713</td>\n",
       "      <td>0.967746</td>\n",
       "      <td>0.969364</td>\n",
       "      <td>0.036154</td>\n",
       "      <td>0.967395</td>\n",
       "      <td>0.518290</td>\n",
       "      <td>0.028367</td>\n",
       "      <td>1</td>\n",
       "    </tr>\n",
       "    <tr>\n",
       "      <th>TCGA.Z2.AA3S.06</th>\n",
       "      <td>120.7776</td>\n",
       "      <td>366.0451</td>\n",
       "      <td>304.4136</td>\n",
       "      <td>3.4560</td>\n",
       "      <td>465.6923</td>\n",
       "      <td>360.8611</td>\n",
       "      <td>757.7219</td>\n",
       "      <td>349.4478</td>\n",
       "      <td>152.9786</td>\n",
       "      <td>4040.2938</td>\n",
       "      <td>...</td>\n",
       "      <td>0.473268</td>\n",
       "      <td>0.015918</td>\n",
       "      <td>0.454018</td>\n",
       "      <td>0.015277</td>\n",
       "      <td>0.479150</td>\n",
       "      <td>0.538518</td>\n",
       "      <td>0.956097</td>\n",
       "      <td>0.028433</td>\n",
       "      <td>0.032700</td>\n",
       "      <td>1</td>\n",
       "    </tr>\n",
       "    <tr>\n",
       "      <th>TCGA.Z2.AA3V.06</th>\n",
       "      <td>29.0011</td>\n",
       "      <td>514.6314</td>\n",
       "      <td>37.2732</td>\n",
       "      <td>2.6157</td>\n",
       "      <td>907.6345</td>\n",
       "      <td>1256.8252</td>\n",
       "      <td>1400.6866</td>\n",
       "      <td>717.2209</td>\n",
       "      <td>50.7438</td>\n",
       "      <td>46111.4664</td>\n",
       "      <td>...</td>\n",
       "      <td>0.469096</td>\n",
       "      <td>0.368492</td>\n",
       "      <td>0.038824</td>\n",
       "      <td>0.422645</td>\n",
       "      <td>0.972298</td>\n",
       "      <td>0.942573</td>\n",
       "      <td>0.504474</td>\n",
       "      <td>0.536043</td>\n",
       "      <td>0.471770</td>\n",
       "      <td>1</td>\n",
       "    </tr>\n",
       "  </tbody>\n",
       "</table>\n",
       "<p>450 rows × 17406 columns</p>\n",
       "</div>"
      ],
      "text/plain": [
       "                 X..10357  X..10431  X..155060  X..390284   X..57714  \\\n",
       "TCGA.3N.A9WC.06   84.6612  560.4738   631.1352     5.2193  1140.6203   \n",
       "TCGA.3N.A9WD.06  118.8794  629.7872   216.3121     3.5461   224.1135   \n",
       "TCGA.BF.A1PU.01   92.8766  544.8052    72.0779    11.6883   212.9870   \n",
       "TCGA.BF.A1PV.01  163.9868  771.0699   275.2540     7.1727   342.4985   \n",
       "TCGA.BF.A1PX.01  121.2026  793.5349    39.6246     3.1283   636.0792   \n",
       "...                   ...       ...        ...        ...        ...   \n",
       "TCGA.YG.AA3O.06   75.8395  773.6375   726.6582     2.7038   677.9890   \n",
       "TCGA.YG.AA3P.06   97.4853  709.6430   193.9265     3.1966   462.9728   \n",
       "TCGA.Z2.A8RT.06  103.9767  706.2016   279.0698     6.2016   338.3721   \n",
       "TCGA.Z2.AA3S.06  120.7776  366.0451   304.4136     3.4560   465.6923   \n",
       "TCGA.Z2.AA3V.06   29.0011  514.6314    37.2732     2.6157   907.6345   \n",
       "\n",
       "                 X..653553    X..8225    A1BG.1  A2LD1.87769        A2M.2  \\\n",
       "TCGA.3N.A9WC.06   359.7310   834.2869  195.1822     160.7548  169236.6356   \n",
       "TCGA.3N.A9WD.06   465.2482   793.6170  360.8794      97.1986   18257.8865   \n",
       "TCGA.BF.A1PU.01   687.3377   768.5065  176.3994     163.2338    6716.4513   \n",
       "TCGA.BF.A1PV.01   572.9229   840.1076  216.8470      60.8727    1740.5828   \n",
       "TCGA.BF.A1PX.01   829.3361   893.2916  285.0608     125.6900   32098.0014   \n",
       "...                    ...        ...       ...          ...          ...   \n",
       "TCGA.YG.AA3O.06   425.1796   659.0621  207.9831      86.2831   37319.7533   \n",
       "TCGA.YG.AA3P.06   952.5839   780.5008   33.5642      50.0426    8217.0591   \n",
       "TCGA.Z2.A8RT.06   275.5814  1242.6357  336.4070      37.3178   22129.9496   \n",
       "TCGA.Z2.AA3S.06   360.8611   757.7219  349.4478     152.9786    4040.2938   \n",
       "TCGA.Z2.AA3V.06  1256.8252  1400.6866  717.2209      50.7438   46111.4664   \n",
       "\n",
       "                 ...  rs7746156  rs798149  rs845016  rs877309  rs9292570  \\\n",
       "TCGA.3N.A9WC.06  ...   0.516283  0.017910  0.239217  0.408610   0.502200   \n",
       "TCGA.3N.A9WD.06  ...   0.499297  0.018198  0.918989  0.967667   0.967107   \n",
       "TCGA.BF.A1PU.01  ...   0.471355  0.016100  0.457613  0.154563   0.966827   \n",
       "TCGA.BF.A1PV.01  ...   0.363542  0.404429  0.449350  0.537597   0.484163   \n",
       "TCGA.BF.A1PX.01  ...   0.461325  0.956164  0.045105  0.020901   0.522838   \n",
       "...              ...        ...       ...       ...       ...        ...   \n",
       "TCGA.YG.AA3O.06  ...   0.955636  0.013256  0.910684  0.961125   0.965712   \n",
       "TCGA.YG.AA3P.06  ...   0.311615  0.026900  0.938763  0.968597   0.972253   \n",
       "TCGA.Z2.A8RT.06  ...   0.465897  0.017411  0.469713  0.967746   0.969364   \n",
       "TCGA.Z2.AA3S.06  ...   0.473268  0.015918  0.454018  0.015277   0.479150   \n",
       "TCGA.Z2.AA3V.06  ...   0.469096  0.368492  0.038824  0.422645   0.972298   \n",
       "\n",
       "                 rs9363764  rs939290  rs951295  rs966367  Class  \n",
       "TCGA.3N.A9WC.06   0.049230  0.509335  0.041922  0.922029      1  \n",
       "TCGA.3N.A9WD.06   0.596673  0.333640  0.971278  0.932022      1  \n",
       "TCGA.BF.A1PU.01   0.958141  0.969355  0.965634  0.046413      1  \n",
       "TCGA.BF.A1PV.01   0.870193  0.037020  0.542557  0.423561      1  \n",
       "TCGA.BF.A1PX.01   0.539248  0.520419  0.502717  0.443220      1  \n",
       "...                    ...       ...       ...       ...    ...  \n",
       "TCGA.YG.AA3O.06   0.847496  0.968746  0.494386  0.030198      1  \n",
       "TCGA.YG.AA3P.06   0.018732  0.034404  0.966530  0.932780      1  \n",
       "TCGA.Z2.A8RT.06   0.036154  0.967395  0.518290  0.028367      1  \n",
       "TCGA.Z2.AA3S.06   0.538518  0.956097  0.028433  0.032700      1  \n",
       "TCGA.Z2.AA3V.06   0.942573  0.504474  0.536043  0.471770      1  \n",
       "\n",
       "[450 rows x 17406 columns]"
      ]
     },
     "execution_count": 30,
     "metadata": {},
     "output_type": "execute_result"
    }
   ],
   "source": [
    "Multiomics"
   ]
  },
  {
   "cell_type": "markdown",
   "metadata": {
    "id": "0VNRvhc5tbFf"
   },
   "source": [
    "SAVE FINALISED DATASET"
   ]
  },
  {
   "cell_type": "code",
   "execution_count": 31,
   "metadata": {
    "id": "e1DrxHuREskj"
   },
   "outputs": [],
   "source": [
    "#Save Finalised Lung Dataset\n",
    "Complete_Data = Multiomics.to_csv(data_path + 'Complete_MultiOmicsnew.csv')"
   ]
  },
  {
   "cell_type": "code",
   "execution_count": 33,
   "metadata": {},
   "outputs": [
    {
     "name": "stdout",
     "output_type": "stream",
     "text": [
      "Males with Cancer :  294  and Normal :  3\n",
      "Females with Cancer :  180  and Normal :  3\n"
     ]
    }
   ],
   "source": [
    "clinical = pd.read_csv('melanoma.csv', sep = ',')\n",
    "clinical.drop(clinical.columns.difference(['sampleID','gender']), 1, inplace=True) #Dropping all columns except Sample_ID & Sample type\n",
    "female_ids = (clinical['sampleID'][clinical['gender']=='FEMALE']).to_list()\n",
    "male_ids = (clinical['sampleID'][clinical['gender']=='MALE']).to_list()\n",
    "df_temp = pd.DataFrame(Multiomics.reset_index())\n",
    "df_temp['index'] = df_temp['index'].str.replace('.','-')\n",
    "\n",
    "male_is = []\n",
    "female_is = []\n",
    "\n",
    "for i in range(len(df_temp)):\n",
    "    if df_temp['index'][i] in male_ids:\n",
    "        male_is.append(i)\n",
    "    elif df_temp['index'][i] in female_ids:\n",
    "        female_is.append(i)\n",
    "Sample['PatientID'] = Sample['PatientID'].str.replace('.','-')\n",
    "male_1 = 0\n",
    "male_0 = 0\n",
    "female_1 = 0\n",
    "female_0 = 0\n",
    "for i in range(len(Sample)):\n",
    "    if Sample['PatientID'][i] in male_ids:\n",
    "        if Sample['Class'][i] == '1':\n",
    "            male_1 += 1\n",
    "        else:\n",
    "            male_0 += 1\n",
    "    elif Sample['PatientID'][i] in female_ids:\n",
    "        if Sample['Class'][i] == '1':\n",
    "            female_1 += 1\n",
    "        else:\n",
    "            female_0 += 1\n",
    "print(\"Males with Cancer : \", male_1, \" and Normal : \", male_0)\n",
    "print(\"Females with Cancer : \", female_1, \" and Normal : \", female_0)\n",
    "\n",
    "\n",
    "df_new = df_temp.iloc[male_is]\n",
    "df_new.set_index('index') \n",
    "df_new.to_csv('./MALE/Complete_MultiOmicsnew.csv')\n",
    "\n",
    "df_new = df_temp.iloc[female_is]\n",
    "df_new.set_index('index') \n",
    "df_new.to_csv('./FEMALE/Complete_MultiOmicsnew.csv')\n"
   ]
  },
  {
   "cell_type": "code",
   "execution_count": null,
   "metadata": {},
   "outputs": [],
   "source": []
  }
 ],
 "metadata": {
  "accelerator": "GPU",
  "colab": {
   "collapsed_sections": [
    "8GsC_HN2IwPD",
    "HXdWzWR0IqU_"
   ],
   "include_colab_link": true,
   "name": "DATA PRE-PROCESSING.ipynb",
   "provenance": []
  },
  "kernelspec": {
   "display_name": "Python 3.9 (Default)",
   "language": "python",
   "name": "python3"
  },
  "language_info": {
   "codemirror_mode": {
    "name": "ipython",
    "version": 3
   },
   "file_extension": ".py",
   "mimetype": "text/x-python",
   "name": "python",
   "nbconvert_exporter": "python",
   "pygments_lexer": "ipython3",
   "version": "3.9.7"
  }
 },
 "nbformat": 4,
 "nbformat_minor": 1
}
