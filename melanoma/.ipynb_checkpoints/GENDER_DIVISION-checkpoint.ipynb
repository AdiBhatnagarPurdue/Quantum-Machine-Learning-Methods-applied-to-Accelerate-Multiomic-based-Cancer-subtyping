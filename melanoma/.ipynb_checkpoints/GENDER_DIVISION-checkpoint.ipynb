{
 "cells": [
  {
   "cell_type": "code",
   "execution_count": 2,
   "id": "ff57828e",
   "metadata": {},
   "outputs": [],
   "source": [
    "import pandas as pd #For data manipulation and analysis\n",
    "data_path = './PROCESSED/'\n",
    "\n",
    "clinical = pd.read_csv('melanoma.csv', sep = ',') #Reading clinical dataset  \n",
    "exp = pd.read_csv(data_path + 'processed_Gene_latest.csv', skiprows=1)\n",
    "methy = pd.read_csv(data_path + 'processed_Methy_latest.csv', skiprows=1)\n",
    "mirna = pd.read_csv(data_path + 'processed_MiRNA_latest.csv', skiprows=1)\n",
    "integrated = pd.read_csv(data_path + 'Complete_MultiOmicsnew.csv', sep = ',')\n",
    "\n",
    "male = 'MALE'\n",
    "female = 'FEMALE'"
   ]
  },
  {
   "cell_type": "code",
   "execution_count": 3,
   "id": "2e43aba3",
   "metadata": {},
   "outputs": [],
   "source": [
    "clinical['sampleID'] = clinical['sampleID'].str.replace('\\-','.')"
   ]
  },
  {
   "cell_type": "code",
   "execution_count": 4,
   "id": "033fea30",
   "metadata": {},
   "outputs": [],
   "source": [
    "# We need to make sure the sampleIDs have the same format\n",
    "male_filter = (clinical.apply(lambda x:x.astype('string').str.contains(male).any(), axis = 1))\n",
    "female_filter = (clinical.apply(lambda x:x.astype('string').str.contains(female).any(), axis = 1))\n",
    "male_temp = clinical[male_filter]\n",
    "female_temp = clinical[female_filter]"
   ]
  },
  {
   "cell_type": "code",
   "execution_count": 5,
   "id": "c4325f72",
   "metadata": {
    "scrolled": true
   },
   "outputs": [],
   "source": [
    "male_clinic = male_temp.set_index('sampleID')\n",
    "female_clinic = female_temp.set_index('sampleID')\n",
    "Gene = exp.set_index('sampleID')\n",
    "MiRNA = mirna.set_index('sampleID')\n",
    "Methy = methy.set_index('sampleID')"
   ]
  },
  {
   "cell_type": "code",
   "execution_count": 6,
   "id": "f3a5534e",
   "metadata": {
    "scrolled": false
   },
   "outputs": [],
   "source": [
    "data_path = './'\n",
    "\n",
    "#integrating files based on sampleID\n",
    "exp_buff = [male_clinic, Gene]\n",
    "mirna_buff = [male_clinic, MiRNA]\n",
    "methy_buff = [male_clinic, Methy]\n",
    "\n",
    "#saving files to dataframes\n",
    "male_exp = pd.concat(exp_buff, axis=1, join = 'inner')\n",
    "male_mirna = pd.concat(mirna_buff, axis=1, join='inner')\n",
    "male_methy = pd.concat(methy_buff, axis=1, join='inner')"
   ]
  },
  {
   "cell_type": "code",
   "execution_count": 7,
   "id": "a4f1b766",
   "metadata": {},
   "outputs": [],
   "source": [
    "male_exp.to_csv(data_path + \"MALE/processed_Gene_latest.csv\")\n",
    "male_mirna.to_csv(data_path + \"MALE/processed_MiRNA_latest.csv\")\n",
    "male_methy.to_csv(data_path + \"MALE/processed_Methy_latest.csv\")\n",
    "male_clinic.to_csv(data_path + \"MALE/Complete_MultiOmicsnew.csv\")"
   ]
  },
  {
   "cell_type": "code",
   "execution_count": 8,
   "id": "7cc78081",
   "metadata": {},
   "outputs": [],
   "source": [
    "#integrating files based on sampleID\n",
    "exp_buff = [female_clinic, Gene]\n",
    "mirna_buff = [female_clinic, MiRNA]\n",
    "methy_buff = [female_clinic, Methy]\n",
    "\n",
    "#saving files to dataframes\n",
    "female_exp = pd.concat(exp_buff, axis=1, join='inner')\n",
    "female_mirna = pd.concat(mirna_buff, axis=1, join='inner')\n",
    "female_methy = pd.concat(methy_buff, axis=1, join='inner')\n",
    "\n",
    "female_exp.to_csv(data_path + \"FEMALE/processed_Gene_latest.csv\")\n",
    "female_mirna.to_csv(data_path + \"FEMALE/processed_MiRNA_latest.csv\")\n",
    "female_methy.to_csv(data_path + \"FEMALE/processed_Methy_latest.csv\")\n",
    "female_clinic.to_csv(data_path + \"FEMALE/Complete_MultiOmicsnew.csv\")"
   ]
  }
 ],
 "metadata": {
  "kernelspec": {
   "display_name": "Python 3.8 - Learning [learning/conda-2020.11-py38-cpu]",
   "language": "python",
   "name": "sys_learning38"
  }
 },
 "nbformat": 4,
 "nbformat_minor": 5
}
