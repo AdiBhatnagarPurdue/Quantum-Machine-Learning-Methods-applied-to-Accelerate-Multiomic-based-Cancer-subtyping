{
 "cells": [
  {
   "cell_type": "markdown",
   "metadata": {
    "colab_type": "text",
    "id": "view-in-github"
   },
   "source": [
    "<a href=\"https://colab.research.google.com/github/Vivek-1116/SDAE-and-VAE-for-Cancer-Classification-through-Multi-omics-Feature-Extraction/blob/main/DATA_PRE_PROCESSING.ipynb\" target=\"_parent\"><img src=\"https://colab.research.google.com/assets/colab-badge.svg\" alt=\"Open In Colab\"/></a>"
   ]
  },
  {
   "cell_type": "markdown",
   "metadata": {
    "id": "GK8nM0cEESEz"
   },
   "source": [
    "# Code Implementation on MULTI-OMICS DATA PRE-PROCESSING\n",
    "Dataset for this project is made up of Multi-Omics Cancer Benchmark TCGA Pre-processed data.\n",
    "\n",
    "Data Source : http://acgt.cs.tau.ac.il/multi_omic_benchmark/download.html\n",
    "\n",
    "Data Description : Glioblastoma Multiforme (GBM) Data\n",
    "\n",
    "Omics Involved : Gene expression, DNA methylation & miRNA expression"
   ]
  },
  {
   "cell_type": "markdown",
   "metadata": {
    "id": "GcfMJqKA8faa"
   },
   "source": [
    "## RAW DATA"
   ]
  },
  {
   "cell_type": "markdown",
   "metadata": {
    "id": "VDohm3utEM3k"
   },
   "source": [
    "IMPORT LIBRARIES"
   ]
  },
  {
   "cell_type": "code",
   "execution_count": 1,
   "metadata": {
    "id": "u7IZeqHgEEjW"
   },
   "outputs": [],
   "source": [
    "import numpy as np #Fundamental package for scientific computing\n",
    "import pandas as pd #For data manipulation and analysis\n",
    "import matplotlib.pyplot as plt #2D plotting library\n",
    "import seaborn as sns #Python data visualization library based on matplotlib\n",
    "import warnings #Typically issued in situations where it is useful to alert the user of some condition in a program\n",
    "from collections import Counter #Supports iterations\n",
    "warnings.filterwarnings('ignore') #Ignores all warnings"
   ]
  },
  {
   "cell_type": "markdown",
   "metadata": {
    "id": "tDJU6G0hqbGJ"
   },
   "source": [
    "IMPORT DATASET (3 DIFFERENT OMICS & 1 CLINICAL DATA)"
   ]
  },
  {
   "cell_type": "code",
   "execution_count": 2,
   "metadata": {},
   "outputs": [
    {
     "name": "stdout",
     "output_type": "stream",
     "text": [
      "RAW MULTIOMICS DATASET\n",
      "CLINICAL DATA : (629, 138)\n",
      "GENE EXPRESSION : (12042, 539)\n",
      "MIRNA : (534, 576)\n",
      "DNA METHYLATION : (5000, 286)\n"
     ]
    }
   ],
   "source": [
    "data_path = '' #Change this path accordingly\n",
    "\n",
    "print(\"RAW MULTIOMICS DATASET\") \n",
    "\n",
    "dataframe0 = pd.read_csv(data_path + \"gbm.csv\",sep=',') #Reading clinical dataset \n",
    "print(\"CLINICAL DATA :\", dataframe0.shape)\n",
    "\n",
    "dataframe1 = pd.read_csv(data_path + \"exp.csv\",sep=',') #Reading Gene Expression dataset\n",
    "print(\"GENE EXPRESSION :\", dataframe1.shape)\n",
    "\n",
    "dataframe2 = pd.read_csv(data_path + \"mirna.csv\",sep=',') #Reading miRNA dataset\n",
    "print(\"MIRNA :\", dataframe2.shape)\n",
    "\n",
    "dataframe3 = pd.read_csv(data_path + \"methy.csv\",sep=',') #Reading DNA Methylation dataset \n",
    "print(\"DNA METHYLATION :\", dataframe3.shape)"
   ]
  },
  {
   "cell_type": "markdown",
   "metadata": {
    "id": "lF0gkxurM6QD"
   },
   "source": [
    "DATA TRANSPOSITION AND REMOVAL OF DUPLICATION DATA"
   ]
  },
  {
   "cell_type": "code",
   "execution_count": 3,
   "metadata": {
    "colab": {
     "base_uri": "https://localhost:8080/",
     "height": 101
    },
    "id": "alqWgptAM9pJ",
    "outputId": "f3c86d90-c10e-49b4-e35a-cb155f8aadf3"
   },
   "outputs": [],
   "source": [
    "#taking transpose of data\n",
    "dat1 = np.transpose(dataframe1)\n",
    "dat2 = np.transpose(dataframe2)\n",
    "dat3 = np.transpose(dataframe3)\n",
    "\n",
    "#removing duplicate data\n",
    "d1 = dat1.drop_duplicates() \n",
    "d2 = dat2.drop_duplicates() \n",
    "d3 = dat3.drop_duplicates() "
   ]
  },
  {
   "cell_type": "markdown",
   "metadata": {
    "id": "Ei9CmlMY_8dz"
   },
   "source": [
    "## EXPLORATORY DATA ANALYSIS (EDA)"
   ]
  },
  {
   "cell_type": "markdown",
   "metadata": {
    "id": "-v7jy3yPEspx"
   },
   "source": [
    "REPLACING ZEROS WITH NaNs"
   ]
  },
  {
   "cell_type": "code",
   "execution_count": 4,
   "metadata": {
    "id": "DmfSsYazQMvq"
   },
   "outputs": [],
   "source": [
    "d1_new = d1.replace(0, np.nan) \n",
    "d2_new = d2.replace(0, np.nan) \n",
    "d3_new = d3.replace(0, np.nan) "
   ]
  },
  {
   "cell_type": "markdown",
   "metadata": {
    "id": "EAlPrC_1D4fb"
   },
   "source": [
    "DROPPING COLUMNS CONTAINING NULL VALUES"
   ]
  },
  {
   "cell_type": "code",
   "execution_count": 5,
   "metadata": {
    "id": "VsqdQIt5C_5O"
   },
   "outputs": [],
   "source": [
    "#Dropping columns containing NaN values\n",
    "GENE = d1_new.dropna(axis=1,how='any',thresh=None,subset=None, inplace=False)\n",
    "MIRNA = d2_new.dropna(axis=1,how='any',thresh=None,subset=None, inplace=False)\n",
    "METHY = d3_new.dropna(axis=1,how='any',thresh=None,subset=None, inplace=False)"
   ]
  },
  {
   "cell_type": "markdown",
   "metadata": {
    "id": "sXFy9NwRsQm3"
   },
   "source": [
    "DROPPING ALL COLUMNS EXCEPT SAMPLE ID & TYPE IN CLINICAL DATA"
   ]
  },
  {
   "cell_type": "code",
   "execution_count": 6,
   "metadata": {
    "id": "oCH0dQ4jLQ9f"
   },
   "outputs": [
    {
     "data": {
      "text/plain": [
       "array(['Primary Tumor', nan, 'Recurrent Tumor', 'Solid Tissue Normal'],\n",
       "      dtype=object)"
      ]
     },
     "execution_count": 6,
     "metadata": {},
     "output_type": "execute_result"
    }
   ],
   "source": [
    "dataframe0.drop(dataframe0.columns.difference(['sampleID','sample_type']), 1, inplace=True) #Dropping all columns except Sample_ID & Sample type\n",
    "dataframe0['sample_type'].unique()"
   ]
  },
  {
   "cell_type": "markdown",
   "metadata": {
    "id": "3orrilm4seL7"
   },
   "source": [
    "REPLACING SAMPLE TYPE ID WITH VALUES "
   ]
  },
  {
   "cell_type": "code",
   "execution_count": 7,
   "metadata": {
    "id": "mviTAbRiMCMQ"
   },
   "outputs": [],
   "source": [
    "d4=dataframe0.replace(to_replace=[\"Primary Tumor\",\"Recurrent Tumor\",\"Solid Tissue Normal\"],value=[\"1\",\"1\",\"0\"]) #Replacing \"-\" in patient ID into \".\" to sync IDs with omics\n",
    "Sample=d4.rename(columns={\"sampleID\":\"PatientID\",\"sample_type\":\"Class\"}) #renaming columns\n",
    "Sample['PatientID']=Sample['PatientID'].str.replace('\\-','.') #setting up sampleIDs to match other omics data\n",
    "Sample = Sample.drop_duplicates() #there are duplicate indices, to preserve a data driven approach we remove the duplicate rows"
   ]
  },
  {
   "cell_type": "markdown",
   "metadata": {
    "id": "PXes1c8Ls7kY"
   },
   "source": [
    "STORING PROCESSED MULTIOMICS DATA"
   ]
  },
  {
   "cell_type": "code",
   "execution_count": 8,
   "metadata": {
    "id": "6r-6DfJSTl8R"
   },
   "outputs": [],
   "source": [
    "data_path = './PROCESSED/'\n",
    "Processed_Gene=GENE.to_csv(data_path + 'processed_Gene_latest.csv')\n",
    "Processed_MiRNA=MIRNA.to_csv(data_path + 'processed_MiRNA_latest.csv')\n",
    "Processed_Methy=METHY.to_csv(data_path + 'processed_Methy_latest.csv')"
   ]
  },
  {
   "cell_type": "markdown",
   "metadata": {
    "id": "bvoCfCV6-qWz"
   },
   "source": [
    "## MULTI-OMICS DATA INTEGRATION"
   ]
  },
  {
   "cell_type": "markdown",
   "metadata": {
    "id": "-mZUUgpstD5o"
   },
   "source": [
    "IMPORT PRE-PROCESSED MULTIOMICS DATA FOR INTEGRATION"
   ]
  },
  {
   "cell_type": "code",
   "execution_count": 9,
   "metadata": {
    "colab": {
     "base_uri": "https://localhost:8080/",
     "height": 84
    },
    "id": "LYH6_POfB1tS",
    "outputId": "3d0a124a-bc51-4692-bdab-c75d500b8064"
   },
   "outputs": [
    {
     "name": "stdout",
     "output_type": "stream",
     "text": [
      "----PRE-PROCESSED----\n",
      "GENE EXPRESSION : (538, 12043)\n",
      "MIRNA : (575, 535)\n",
      "DNA METHYLATION : (285, 5001)\n"
     ]
    }
   ],
   "source": [
    "print(\"----PRE-PROCESSED----\") \n",
    "\n",
    "dframe1 = pd.read_csv(data_path + \"processed_Gene_latest.csv\",skiprows=1)\n",
    "print(\"GENE EXPRESSION :\", dframe1.shape)\n",
    "\n",
    "dframe2 = pd.read_csv(data_path + \"processed_MiRNA_latest.csv\",skiprows=1)\n",
    "print(\"MIRNA :\", dframe2.shape)\n",
    "\n",
    "dframe3 = pd.read_csv(data_path + \"processed_Methy_latest.csv\",skiprows=1)\n",
    "print(\"DNA METHYLATION :\", dframe3.shape)"
   ]
  },
  {
   "cell_type": "markdown",
   "metadata": {
    "id": "Fzn8HJ1BtNqh"
   },
   "source": [
    "SETTING PATIENT ID AS DATA INDEX"
   ]
  },
  {
   "cell_type": "code",
   "execution_count": 10,
   "metadata": {
    "id": "V7Xk5n2gS2nk"
   },
   "outputs": [],
   "source": [
    "Gene = dframe1.set_index('sampleID')\n",
    "MiRNA = dframe2.set_index('sampleID')\n",
    "Methy = dframe3.set_index('sampleID')\n",
    "Clinical = Sample.set_index('PatientID')"
   ]
  },
  {
   "cell_type": "markdown",
   "metadata": {
    "id": "LsGFtQZ2tTFT"
   },
   "source": [
    "INTEGRATION OF MULTIOMICS"
   ]
  },
  {
   "cell_type": "code",
   "execution_count": 11,
   "metadata": {
    "id": "3WFzi10U5N5v"
   },
   "outputs": [],
   "source": [
    "integrate = [Gene,MiRNA,Methy,Clinical] #Integrating all 3 omics with class embedded\n",
    "Multiomics = pd.concat(integrate, axis=1, join='inner')"
   ]
  },
  {
   "cell_type": "markdown",
   "metadata": {
    "id": "2dGG0UyDtWoT"
   },
   "source": [
    "MULTIOMICS DATASET"
   ]
  },
  {
   "cell_type": "code",
   "execution_count": 12,
   "metadata": {},
   "outputs": [
    {
     "data": {
      "text/html": [
       "<div>\n",
       "<style scoped>\n",
       "    .dataframe tbody tr th:only-of-type {\n",
       "        vertical-align: middle;\n",
       "    }\n",
       "\n",
       "    .dataframe tbody tr th {\n",
       "        vertical-align: top;\n",
       "    }\n",
       "\n",
       "    .dataframe thead th {\n",
       "        text-align: right;\n",
       "    }\n",
       "</style>\n",
       "<table border=\"1\" class=\"dataframe\">\n",
       "  <thead>\n",
       "    <tr style=\"text-align: right;\">\n",
       "      <th></th>\n",
       "      <th>AACS</th>\n",
       "      <th>FSTL1</th>\n",
       "      <th>ELMO2</th>\n",
       "      <th>CREB3L1</th>\n",
       "      <th>RPS11</th>\n",
       "      <th>PNMA1</th>\n",
       "      <th>MMP2</th>\n",
       "      <th>SAMD4A</th>\n",
       "      <th>SMARCD3</th>\n",
       "      <th>A4GNT</th>\n",
       "      <th>...</th>\n",
       "      <th>cg27622610</th>\n",
       "      <th>cg27626299</th>\n",
       "      <th>cg27626424</th>\n",
       "      <th>cg27631256</th>\n",
       "      <th>cg27631817</th>\n",
       "      <th>cg27634151</th>\n",
       "      <th>cg27637521</th>\n",
       "      <th>cg27644292</th>\n",
       "      <th>cg27652350</th>\n",
       "      <th>Class</th>\n",
       "    </tr>\n",
       "  </thead>\n",
       "  <tbody>\n",
       "    <tr>\n",
       "      <th>TCGA.02.0001.01</th>\n",
       "      <td>6.500551</td>\n",
       "      <td>8.729663</td>\n",
       "      <td>5.511362</td>\n",
       "      <td>4.882953</td>\n",
       "      <td>10.984784</td>\n",
       "      <td>7.535193</td>\n",
       "      <td>8.674010</td>\n",
       "      <td>5.032552</td>\n",
       "      <td>4.710970</td>\n",
       "      <td>5.108478</td>\n",
       "      <td>...</td>\n",
       "      <td>0.615740</td>\n",
       "      <td>0.057134</td>\n",
       "      <td>0.959526</td>\n",
       "      <td>0.684796</td>\n",
       "      <td>0.554642</td>\n",
       "      <td>0.397459</td>\n",
       "      <td>0.187017</td>\n",
       "      <td>0.497505</td>\n",
       "      <td>0.394196</td>\n",
       "      <td>1</td>\n",
       "    </tr>\n",
       "    <tr>\n",
       "      <th>TCGA.02.0003.01</th>\n",
       "      <td>6.539245</td>\n",
       "      <td>9.794400</td>\n",
       "      <td>6.213981</td>\n",
       "      <td>4.836276</td>\n",
       "      <td>10.811245</td>\n",
       "      <td>6.997933</td>\n",
       "      <td>9.348590</td>\n",
       "      <td>5.026961</td>\n",
       "      <td>5.327734</td>\n",
       "      <td>4.348606</td>\n",
       "      <td>...</td>\n",
       "      <td>0.559221</td>\n",
       "      <td>0.213944</td>\n",
       "      <td>0.324858</td>\n",
       "      <td>0.822721</td>\n",
       "      <td>0.565593</td>\n",
       "      <td>0.796378</td>\n",
       "      <td>0.154289</td>\n",
       "      <td>0.487170</td>\n",
       "      <td>0.708835</td>\n",
       "      <td>1</td>\n",
       "    </tr>\n",
       "    <tr>\n",
       "      <th>TCGA.02.0007.01</th>\n",
       "      <td>7.186891</td>\n",
       "      <td>4.945053</td>\n",
       "      <td>5.230444</td>\n",
       "      <td>5.818606</td>\n",
       "      <td>10.477304</td>\n",
       "      <td>8.356117</td>\n",
       "      <td>4.429521</td>\n",
       "      <td>5.175938</td>\n",
       "      <td>4.440470</td>\n",
       "      <td>4.824183</td>\n",
       "      <td>...</td>\n",
       "      <td>0.608953</td>\n",
       "      <td>0.564084</td>\n",
       "      <td>0.927312</td>\n",
       "      <td>0.846220</td>\n",
       "      <td>0.540277</td>\n",
       "      <td>0.336352</td>\n",
       "      <td>0.018567</td>\n",
       "      <td>0.539949</td>\n",
       "      <td>0.286335</td>\n",
       "      <td>1</td>\n",
       "    </tr>\n",
       "    <tr>\n",
       "      <th>TCGA.02.0009.01</th>\n",
       "      <td>7.675038</td>\n",
       "      <td>10.840095</td>\n",
       "      <td>6.620676</td>\n",
       "      <td>5.333213</td>\n",
       "      <td>10.637267</td>\n",
       "      <td>6.942901</td>\n",
       "      <td>9.452231</td>\n",
       "      <td>5.164914</td>\n",
       "      <td>4.952207</td>\n",
       "      <td>4.204604</td>\n",
       "      <td>...</td>\n",
       "      <td>0.398277</td>\n",
       "      <td>0.454173</td>\n",
       "      <td>0.750603</td>\n",
       "      <td>0.785953</td>\n",
       "      <td>0.267711</td>\n",
       "      <td>0.167398</td>\n",
       "      <td>0.732823</td>\n",
       "      <td>0.267666</td>\n",
       "      <td>0.118891</td>\n",
       "      <td>1</td>\n",
       "    </tr>\n",
       "    <tr>\n",
       "      <th>TCGA.02.0010.01</th>\n",
       "      <td>7.996010</td>\n",
       "      <td>8.931571</td>\n",
       "      <td>7.552416</td>\n",
       "      <td>6.087341</td>\n",
       "      <td>11.001533</td>\n",
       "      <td>8.044375</td>\n",
       "      <td>4.501725</td>\n",
       "      <td>4.970135</td>\n",
       "      <td>8.638965</td>\n",
       "      <td>4.729682</td>\n",
       "      <td>...</td>\n",
       "      <td>0.023956</td>\n",
       "      <td>0.040229</td>\n",
       "      <td>0.942546</td>\n",
       "      <td>0.871800</td>\n",
       "      <td>0.690687</td>\n",
       "      <td>0.020685</td>\n",
       "      <td>0.909901</td>\n",
       "      <td>0.497682</td>\n",
       "      <td>0.975305</td>\n",
       "      <td>1</td>\n",
       "    </tr>\n",
       "    <tr>\n",
       "      <th>...</th>\n",
       "      <td>...</td>\n",
       "      <td>...</td>\n",
       "      <td>...</td>\n",
       "      <td>...</td>\n",
       "      <td>...</td>\n",
       "      <td>...</td>\n",
       "      <td>...</td>\n",
       "      <td>...</td>\n",
       "      <td>...</td>\n",
       "      <td>...</td>\n",
       "      <td>...</td>\n",
       "      <td>...</td>\n",
       "      <td>...</td>\n",
       "      <td>...</td>\n",
       "      <td>...</td>\n",
       "      <td>...</td>\n",
       "      <td>...</td>\n",
       "      <td>...</td>\n",
       "      <td>...</td>\n",
       "      <td>...</td>\n",
       "      <td>...</td>\n",
       "    </tr>\n",
       "    <tr>\n",
       "      <th>TCGA.41.2575.01</th>\n",
       "      <td>7.470726</td>\n",
       "      <td>9.022293</td>\n",
       "      <td>7.268008</td>\n",
       "      <td>4.886906</td>\n",
       "      <td>11.152242</td>\n",
       "      <td>9.087012</td>\n",
       "      <td>8.191436</td>\n",
       "      <td>5.380936</td>\n",
       "      <td>9.408020</td>\n",
       "      <td>4.376040</td>\n",
       "      <td>...</td>\n",
       "      <td>0.093729</td>\n",
       "      <td>0.162311</td>\n",
       "      <td>0.701911</td>\n",
       "      <td>0.751347</td>\n",
       "      <td>0.149494</td>\n",
       "      <td>0.440628</td>\n",
       "      <td>0.441923</td>\n",
       "      <td>0.545321</td>\n",
       "      <td>0.504936</td>\n",
       "      <td>1</td>\n",
       "    </tr>\n",
       "    <tr>\n",
       "      <th>TCGA.41.3392.01</th>\n",
       "      <td>7.757464</td>\n",
       "      <td>10.136861</td>\n",
       "      <td>7.792163</td>\n",
       "      <td>4.692225</td>\n",
       "      <td>11.214499</td>\n",
       "      <td>10.424835</td>\n",
       "      <td>7.918696</td>\n",
       "      <td>5.615078</td>\n",
       "      <td>10.191229</td>\n",
       "      <td>4.121623</td>\n",
       "      <td>...</td>\n",
       "      <td>0.364413</td>\n",
       "      <td>0.493149</td>\n",
       "      <td>0.662230</td>\n",
       "      <td>0.780301</td>\n",
       "      <td>0.321311</td>\n",
       "      <td>0.569706</td>\n",
       "      <td>0.739629</td>\n",
       "      <td>0.196059</td>\n",
       "      <td>0.093535</td>\n",
       "      <td>1</td>\n",
       "    </tr>\n",
       "    <tr>\n",
       "      <th>TCGA.41.3393.01</th>\n",
       "      <td>7.147460</td>\n",
       "      <td>9.759453</td>\n",
       "      <td>7.701716</td>\n",
       "      <td>4.831633</td>\n",
       "      <td>10.938819</td>\n",
       "      <td>9.655464</td>\n",
       "      <td>8.573679</td>\n",
       "      <td>6.090131</td>\n",
       "      <td>8.512957</td>\n",
       "      <td>4.155312</td>\n",
       "      <td>...</td>\n",
       "      <td>0.462505</td>\n",
       "      <td>0.512235</td>\n",
       "      <td>0.897433</td>\n",
       "      <td>0.645096</td>\n",
       "      <td>0.176945</td>\n",
       "      <td>0.141038</td>\n",
       "      <td>0.293696</td>\n",
       "      <td>0.480987</td>\n",
       "      <td>0.610692</td>\n",
       "      <td>1</td>\n",
       "    </tr>\n",
       "    <tr>\n",
       "      <th>TCGA.41.3915.01</th>\n",
       "      <td>6.700266</td>\n",
       "      <td>11.117519</td>\n",
       "      <td>6.831318</td>\n",
       "      <td>4.405531</td>\n",
       "      <td>11.047735</td>\n",
       "      <td>9.554216</td>\n",
       "      <td>7.930944</td>\n",
       "      <td>5.740704</td>\n",
       "      <td>7.871436</td>\n",
       "      <td>4.428249</td>\n",
       "      <td>...</td>\n",
       "      <td>0.350215</td>\n",
       "      <td>0.127673</td>\n",
       "      <td>0.848065</td>\n",
       "      <td>0.708810</td>\n",
       "      <td>0.576530</td>\n",
       "      <td>0.411164</td>\n",
       "      <td>0.608434</td>\n",
       "      <td>0.130900</td>\n",
       "      <td>0.510658</td>\n",
       "      <td>1</td>\n",
       "    </tr>\n",
       "    <tr>\n",
       "      <th>TCGA.41.4097.01</th>\n",
       "      <td>6.978482</td>\n",
       "      <td>10.749286</td>\n",
       "      <td>7.414549</td>\n",
       "      <td>4.483042</td>\n",
       "      <td>10.629632</td>\n",
       "      <td>9.593150</td>\n",
       "      <td>7.379835</td>\n",
       "      <td>5.640690</td>\n",
       "      <td>7.976962</td>\n",
       "      <td>4.071653</td>\n",
       "      <td>...</td>\n",
       "      <td>0.789316</td>\n",
       "      <td>0.596916</td>\n",
       "      <td>0.929150</td>\n",
       "      <td>0.680467</td>\n",
       "      <td>0.610846</td>\n",
       "      <td>0.361882</td>\n",
       "      <td>0.555208</td>\n",
       "      <td>0.460593</td>\n",
       "      <td>0.650599</td>\n",
       "      <td>1</td>\n",
       "    </tr>\n",
       "  </tbody>\n",
       "</table>\n",
       "<p>274 rows × 17577 columns</p>\n",
       "</div>"
      ],
      "text/plain": [
       "                     AACS      FSTL1     ELMO2   CREB3L1      RPS11  \\\n",
       "TCGA.02.0001.01  6.500551   8.729663  5.511362  4.882953  10.984784   \n",
       "TCGA.02.0003.01  6.539245   9.794400  6.213981  4.836276  10.811245   \n",
       "TCGA.02.0007.01  7.186891   4.945053  5.230444  5.818606  10.477304   \n",
       "TCGA.02.0009.01  7.675038  10.840095  6.620676  5.333213  10.637267   \n",
       "TCGA.02.0010.01  7.996010   8.931571  7.552416  6.087341  11.001533   \n",
       "...                   ...        ...       ...       ...        ...   \n",
       "TCGA.41.2575.01  7.470726   9.022293  7.268008  4.886906  11.152242   \n",
       "TCGA.41.3392.01  7.757464  10.136861  7.792163  4.692225  11.214499   \n",
       "TCGA.41.3393.01  7.147460   9.759453  7.701716  4.831633  10.938819   \n",
       "TCGA.41.3915.01  6.700266  11.117519  6.831318  4.405531  11.047735   \n",
       "TCGA.41.4097.01  6.978482  10.749286  7.414549  4.483042  10.629632   \n",
       "\n",
       "                     PNMA1      MMP2    SAMD4A    SMARCD3     A4GNT  ...  \\\n",
       "TCGA.02.0001.01   7.535193  8.674010  5.032552   4.710970  5.108478  ...   \n",
       "TCGA.02.0003.01   6.997933  9.348590  5.026961   5.327734  4.348606  ...   \n",
       "TCGA.02.0007.01   8.356117  4.429521  5.175938   4.440470  4.824183  ...   \n",
       "TCGA.02.0009.01   6.942901  9.452231  5.164914   4.952207  4.204604  ...   \n",
       "TCGA.02.0010.01   8.044375  4.501725  4.970135   8.638965  4.729682  ...   \n",
       "...                    ...       ...       ...        ...       ...  ...   \n",
       "TCGA.41.2575.01   9.087012  8.191436  5.380936   9.408020  4.376040  ...   \n",
       "TCGA.41.3392.01  10.424835  7.918696  5.615078  10.191229  4.121623  ...   \n",
       "TCGA.41.3393.01   9.655464  8.573679  6.090131   8.512957  4.155312  ...   \n",
       "TCGA.41.3915.01   9.554216  7.930944  5.740704   7.871436  4.428249  ...   \n",
       "TCGA.41.4097.01   9.593150  7.379835  5.640690   7.976962  4.071653  ...   \n",
       "\n",
       "                 cg27622610  cg27626299  cg27626424  cg27631256  cg27631817  \\\n",
       "TCGA.02.0001.01    0.615740    0.057134    0.959526    0.684796    0.554642   \n",
       "TCGA.02.0003.01    0.559221    0.213944    0.324858    0.822721    0.565593   \n",
       "TCGA.02.0007.01    0.608953    0.564084    0.927312    0.846220    0.540277   \n",
       "TCGA.02.0009.01    0.398277    0.454173    0.750603    0.785953    0.267711   \n",
       "TCGA.02.0010.01    0.023956    0.040229    0.942546    0.871800    0.690687   \n",
       "...                     ...         ...         ...         ...         ...   \n",
       "TCGA.41.2575.01    0.093729    0.162311    0.701911    0.751347    0.149494   \n",
       "TCGA.41.3392.01    0.364413    0.493149    0.662230    0.780301    0.321311   \n",
       "TCGA.41.3393.01    0.462505    0.512235    0.897433    0.645096    0.176945   \n",
       "TCGA.41.3915.01    0.350215    0.127673    0.848065    0.708810    0.576530   \n",
       "TCGA.41.4097.01    0.789316    0.596916    0.929150    0.680467    0.610846   \n",
       "\n",
       "                 cg27634151  cg27637521  cg27644292  cg27652350  Class  \n",
       "TCGA.02.0001.01    0.397459    0.187017    0.497505    0.394196      1  \n",
       "TCGA.02.0003.01    0.796378    0.154289    0.487170    0.708835      1  \n",
       "TCGA.02.0007.01    0.336352    0.018567    0.539949    0.286335      1  \n",
       "TCGA.02.0009.01    0.167398    0.732823    0.267666    0.118891      1  \n",
       "TCGA.02.0010.01    0.020685    0.909901    0.497682    0.975305      1  \n",
       "...                     ...         ...         ...         ...    ...  \n",
       "TCGA.41.2575.01    0.440628    0.441923    0.545321    0.504936      1  \n",
       "TCGA.41.3392.01    0.569706    0.739629    0.196059    0.093535      1  \n",
       "TCGA.41.3393.01    0.141038    0.293696    0.480987    0.610692      1  \n",
       "TCGA.41.3915.01    0.411164    0.608434    0.130900    0.510658      1  \n",
       "TCGA.41.4097.01    0.361882    0.555208    0.460593    0.650599      1  \n",
       "\n",
       "[274 rows x 17577 columns]"
      ]
     },
     "execution_count": 12,
     "metadata": {},
     "output_type": "execute_result"
    }
   ],
   "source": [
    "Multiomics"
   ]
  },
  {
   "cell_type": "markdown",
   "metadata": {
    "id": "0VNRvhc5tbFf"
   },
   "source": [
    "SAVE FINALISED DATASET"
   ]
  },
  {
   "cell_type": "code",
   "execution_count": 13,
   "metadata": {
    "id": "e1DrxHuREskj"
   },
   "outputs": [],
   "source": [
    "#Save Finalised Lung Dataset\n",
    "Complete_Data = Multiomics.to_csv(data_path + 'Complete_MultiOmicsnew.csv')"
   ]
  },
  {
   "cell_type": "code",
   "execution_count": 15,
   "metadata": {},
   "outputs": [
    {
     "name": "stdout",
     "output_type": "stream",
     "text": [
      "Males with Cancer :  374  and Normal :  1\n",
      "Females with Cancer :  235  and Normal :  0\n"
     ]
    }
   ],
   "source": [
    "clinical = pd.read_csv('gbm.csv', sep = ',')\n",
    "clinical.drop(clinical.columns.difference(['sampleID','gender']), 1, inplace=True) #Dropping all columns except Sample_ID & Sample type\n",
    "female_ids = (clinical['sampleID'][clinical.gender=='FEMALE']).to_list()\n",
    "male_ids = (clinical['sampleID'][clinical.gender=='MALE']).to_list()\n",
    "df_temp = pd.DataFrame(Multiomics.reset_index())\n",
    "df_temp['index'] = df_temp['index'].str.replace('.','-')\n",
    "\n",
    "male_is = []\n",
    "female_is = []\n",
    "\n",
    "for i in range(len(df_temp)):\n",
    "    if df_temp['index'][i] in male_ids:\n",
    "        male_is.append(i)\n",
    "    elif df_temp['index'][i] in female_ids:\n",
    "        female_is.append(i)\n",
    "Sample['PatientID'] = Sample['PatientID'].str.replace('.','-')\n",
    "male_1 = 0\n",
    "male_0 = 0\n",
    "female_1 = 0\n",
    "female_0 = 0\n",
    "for i in range(len(Sample)):\n",
    "    if Sample['PatientID'][i] in male_ids:\n",
    "        if Sample['Class'][i] == '1':\n",
    "            male_1 += 1\n",
    "        else:\n",
    "            male_0 += 1\n",
    "    elif Sample['PatientID'][i] in female_ids:\n",
    "        if Sample['Class'][i] == '1':\n",
    "            female_1 += 1\n",
    "        else:\n",
    "            female_0 += 1\n",
    "print(\"Males with Cancer : \", male_1, \" and Normal : \", male_0)\n",
    "print(\"Females with Cancer : \", female_1, \" and Normal : \", female_0)\n",
    "\n",
    "\n",
    "df_new = df_temp.iloc[male_is]\n",
    "df_new.set_index('index') \n",
    "df_new.to_csv('./MALE/Complete_MultiOmicsnew.csv')\n",
    "\n",
    "df_new = df_temp.iloc[female_is]\n",
    "df_new.set_index('index') \n",
    "df_new.to_csv('./FEMALE/Complete_MultiOmicsnew.csv')\n"
   ]
  },
  {
   "cell_type": "code",
   "execution_count": null,
   "metadata": {},
   "outputs": [],
   "source": []
  }
 ],
 "metadata": {
  "accelerator": "GPU",
  "colab": {
   "collapsed_sections": [
    "8GsC_HN2IwPD",
    "HXdWzWR0IqU_"
   ],
   "include_colab_link": true,
   "name": "DATA PRE-PROCESSING.ipynb",
   "provenance": []
  },
  "kernelspec": {
   "display_name": "Python 3.9 (Default)",
   "language": "python",
   "name": "python3"
  },
  "language_info": {
   "codemirror_mode": {
    "name": "ipython",
    "version": 3
   },
   "file_extension": ".py",
   "mimetype": "text/x-python",
   "name": "python",
   "nbconvert_exporter": "python",
   "pygments_lexer": "ipython3",
   "version": "3.9.7"
  }
 },
 "nbformat": 4,
 "nbformat_minor": 1
}
