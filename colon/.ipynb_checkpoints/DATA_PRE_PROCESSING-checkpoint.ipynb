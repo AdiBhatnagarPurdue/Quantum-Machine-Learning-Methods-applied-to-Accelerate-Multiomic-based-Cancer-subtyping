{
 "cells": [
  {
   "cell_type": "markdown",
   "metadata": {
    "colab_type": "text",
    "id": "view-in-github"
   },
   "source": [
    "<a href=\"https://colab.research.google.com/github/Vivek-1116/SDAE-and-VAE-for-Cancer-Classification-through-Multi-omics-Feature-Extraction/blob/main/DATA_PRE_PROCESSING.ipynb\" target=\"_parent\"><img src=\"https://colab.research.google.com/assets/colab-badge.svg\" alt=\"Open In Colab\"/></a>"
   ]
  },
  {
   "cell_type": "markdown",
   "metadata": {
    "id": "GK8nM0cEESEz"
   },
   "source": [
    "# Code Implementation on MULTI-OMICS DATA PRE-PROCESSING\n",
    "Dataset for this project is made up of Multi-Omics Cancer Benchmark TCGA Pre-processed data.\n",
    "\n",
    "Data Source : http://acgt.cs.tau.ac.il/multi_omic_benchmark/download.html\n",
    "\n",
    "Data Description : \tColon Adenocarcinoma (COAD) Data\n",
    "\n",
    "Omics Involved : Gene expression, DNA methylation & miRNA expression"
   ]
  },
  {
   "cell_type": "markdown",
   "metadata": {
    "id": "GcfMJqKA8faa"
   },
   "source": [
    "## RAW DATA"
   ]
  },
  {
   "cell_type": "markdown",
   "metadata": {
    "id": "VDohm3utEM3k"
   },
   "source": [
    "IMPORT LIBRARIES"
   ]
  },
  {
   "cell_type": "code",
   "execution_count": 1,
   "metadata": {
    "id": "u7IZeqHgEEjW"
   },
   "outputs": [],
   "source": [
    "import numpy as np #Fundamental package for scientific computing\n",
    "import pandas as pd #For data manipulation and analysis\n",
    "import matplotlib.pyplot as plt #2D plotting library\n",
    "import seaborn as sns #Python data visualization library based on matplotlib\n",
    "import warnings #Typically issued in situations where it is useful to alert the user of some condition in a program\n",
    "from collections import Counter #Supports iterations\n",
    "warnings.filterwarnings('ignore') #Ignores all warnings"
   ]
  },
  {
   "cell_type": "markdown",
   "metadata": {
    "id": "tDJU6G0hqbGJ"
   },
   "source": [
    "IMPORT DATASET (3 DIFFERENT OMICS & 1 CLINICAL DATA)"
   ]
  },
  {
   "cell_type": "code",
   "execution_count": 2,
   "metadata": {},
   "outputs": [
    {
     "name": "stdout",
     "output_type": "stream",
     "text": [
      "RAW MULTIOMICS DATASET\n",
      "CLINICAL DATA : (551, 142)\n",
      "GENE EXPRESSION : (20531, 329)\n",
      "MIRNA : (705, 222)\n",
      "DNA METHYLATION : (5000, 336)\n"
     ]
    }
   ],
   "source": [
    "data_path = '' #Change this path accordingly\n",
    "\n",
    "print(\"RAW MULTIOMICS DATASET\") \n",
    "\n",
    "dataframe0 = pd.read_csv(data_path + \"colon.csv\",sep=',') #Reading clinical dataset \n",
    "print(\"CLINICAL DATA :\", dataframe0.shape)\n",
    "\n",
    "dataframe1 = pd.read_csv(data_path + \"exp.csv\",sep=',') #Reading Gene Expression dataset\n",
    "print(\"GENE EXPRESSION :\", dataframe1.shape)\n",
    "\n",
    "dataframe2 = pd.read_csv(data_path + \"mirna.csv\",sep=',') #Reading miRNA dataset\n",
    "print(\"MIRNA :\", dataframe2.shape)\n",
    "\n",
    "dataframe3 = pd.read_csv(data_path + \"methy.csv\",sep=',') #Reading DNA Methylation dataset \n",
    "print(\"DNA METHYLATION :\", dataframe3.shape)"
   ]
  },
  {
   "cell_type": "markdown",
   "metadata": {
    "id": "lF0gkxurM6QD"
   },
   "source": [
    "DATA TRANSPOSITION AND REMOVAL OF DUPLICATION DATA"
   ]
  },
  {
   "cell_type": "code",
   "execution_count": 3,
   "metadata": {
    "colab": {
     "base_uri": "https://localhost:8080/",
     "height": 101
    },
    "id": "alqWgptAM9pJ",
    "outputId": "f3c86d90-c10e-49b4-e35a-cb155f8aadf3"
   },
   "outputs": [],
   "source": [
    "#taking transpose of data\n",
    "dat1 = np.transpose(dataframe1)\n",
    "dat2 = np.transpose(dataframe2)\n",
    "dat3 = np.transpose(dataframe3)\n",
    "\n",
    "#removing duplicate data\n",
    "d1 = dat1.drop_duplicates() \n",
    "d2 = dat2.drop_duplicates() \n",
    "d3 = dat3.drop_duplicates() "
   ]
  },
  {
   "cell_type": "markdown",
   "metadata": {
    "id": "Ei9CmlMY_8dz"
   },
   "source": [
    "## EXPLORATORY DATA ANALYSIS (EDA)"
   ]
  },
  {
   "cell_type": "markdown",
   "metadata": {
    "id": "-v7jy3yPEspx"
   },
   "source": [
    "REPLACING ZEROS WITH NaNs"
   ]
  },
  {
   "cell_type": "code",
   "execution_count": 4,
   "metadata": {
    "id": "DmfSsYazQMvq"
   },
   "outputs": [],
   "source": [
    "d1_new = d1.replace(0, np.nan) \n",
    "d2_new = d2.replace(0, np.nan) \n",
    "d3_new = d3.replace(0, np.nan) "
   ]
  },
  {
   "cell_type": "markdown",
   "metadata": {
    "id": "EAlPrC_1D4fb"
   },
   "source": [
    "DROPPING COLUMNS CONTAINING NULL VALUES"
   ]
  },
  {
   "cell_type": "code",
   "execution_count": 5,
   "metadata": {
    "id": "VsqdQIt5C_5O"
   },
   "outputs": [],
   "source": [
    "#Dropping columns containing NaN values\n",
    "GENE = d1_new.dropna(axis=1,how='any',thresh=None,subset=None, inplace=False)\n",
    "MIRNA = d2_new.dropna(axis=1,how='any',thresh=None,subset=None, inplace=False)\n",
    "METHY = d3_new.dropna(axis=1,how='any',thresh=None,subset=None, inplace=False)"
   ]
  },
  {
   "cell_type": "markdown",
   "metadata": {
    "id": "sXFy9NwRsQm3"
   },
   "source": [
    "DROPPING ALL COLUMNS EXCEPT SAMPLE ID & TYPE IN CLINICAL DATA"
   ]
  },
  {
   "cell_type": "code",
   "execution_count": 6,
   "metadata": {
    "id": "oCH0dQ4jLQ9f"
   },
   "outputs": [
    {
     "data": {
      "text/html": [
       "<div>\n",
       "<style scoped>\n",
       "    .dataframe tbody tr th:only-of-type {\n",
       "        vertical-align: middle;\n",
       "    }\n",
       "\n",
       "    .dataframe tbody tr th {\n",
       "        vertical-align: top;\n",
       "    }\n",
       "\n",
       "    .dataframe thead th {\n",
       "        text-align: right;\n",
       "    }\n",
       "</style>\n",
       "<table border=\"1\" class=\"dataframe\">\n",
       "  <thead>\n",
       "    <tr style=\"text-align: right;\">\n",
       "      <th></th>\n",
       "      <th>sampleID</th>\n",
       "      <th>sample_type</th>\n",
       "    </tr>\n",
       "  </thead>\n",
       "  <tbody>\n",
       "    <tr>\n",
       "      <th>0</th>\n",
       "      <td>TCGA-3L-AA1B-01</td>\n",
       "      <td>Primary Tumor</td>\n",
       "    </tr>\n",
       "    <tr>\n",
       "      <th>1</th>\n",
       "      <td>TCGA-4N-A93T-01</td>\n",
       "      <td>Primary Tumor</td>\n",
       "    </tr>\n",
       "    <tr>\n",
       "      <th>2</th>\n",
       "      <td>TCGA-4T-AA8H-01</td>\n",
       "      <td>Primary Tumor</td>\n",
       "    </tr>\n",
       "    <tr>\n",
       "      <th>3</th>\n",
       "      <td>TCGA-5M-AAT4-01</td>\n",
       "      <td>Primary Tumor</td>\n",
       "    </tr>\n",
       "    <tr>\n",
       "      <th>4</th>\n",
       "      <td>TCGA-5M-AAT5-01</td>\n",
       "      <td>Primary Tumor</td>\n",
       "    </tr>\n",
       "    <tr>\n",
       "      <th>...</th>\n",
       "      <td>...</td>\n",
       "      <td>...</td>\n",
       "    </tr>\n",
       "    <tr>\n",
       "      <th>546</th>\n",
       "      <td>TCGA-QL-A97D-01</td>\n",
       "      <td>Primary Tumor</td>\n",
       "    </tr>\n",
       "    <tr>\n",
       "      <th>547</th>\n",
       "      <td>TCGA-RU-A8FL-01</td>\n",
       "      <td>Primary Tumor</td>\n",
       "    </tr>\n",
       "    <tr>\n",
       "      <th>548</th>\n",
       "      <td>TCGA-SS-A7HO-01</td>\n",
       "      <td>Primary Tumor</td>\n",
       "    </tr>\n",
       "    <tr>\n",
       "      <th>549</th>\n",
       "      <td>TCGA-T9-A92H-01</td>\n",
       "      <td>Primary Tumor</td>\n",
       "    </tr>\n",
       "    <tr>\n",
       "      <th>550</th>\n",
       "      <td>TCGA-WS-AB45-01</td>\n",
       "      <td>Primary Tumor</td>\n",
       "    </tr>\n",
       "  </tbody>\n",
       "</table>\n",
       "<p>551 rows × 2 columns</p>\n",
       "</div>"
      ],
      "text/plain": [
       "            sampleID    sample_type\n",
       "0    TCGA-3L-AA1B-01  Primary Tumor\n",
       "1    TCGA-4N-A93T-01  Primary Tumor\n",
       "2    TCGA-4T-AA8H-01  Primary Tumor\n",
       "3    TCGA-5M-AAT4-01  Primary Tumor\n",
       "4    TCGA-5M-AAT5-01  Primary Tumor\n",
       "..               ...            ...\n",
       "546  TCGA-QL-A97D-01  Primary Tumor\n",
       "547  TCGA-RU-A8FL-01  Primary Tumor\n",
       "548  TCGA-SS-A7HO-01  Primary Tumor\n",
       "549  TCGA-T9-A92H-01  Primary Tumor\n",
       "550  TCGA-WS-AB45-01  Primary Tumor\n",
       "\n",
       "[551 rows x 2 columns]"
      ]
     },
     "execution_count": 6,
     "metadata": {},
     "output_type": "execute_result"
    }
   ],
   "source": [
    "dataframe0.drop(dataframe0.columns.difference(['sampleID','sample_type']), 1, inplace=True) #Dropping all columns except Sample_ID & Sample type\n",
    "dataframe0"
   ]
  },
  {
   "cell_type": "code",
   "execution_count": 8,
   "metadata": {},
   "outputs": [
    {
     "data": {
      "text/plain": [
       "array(['Primary Tumor', 'Solid Tissue Normal', nan, 'Recurrent Tumor',\n",
       "       'Metastatic'], dtype=object)"
      ]
     },
     "execution_count": 8,
     "metadata": {},
     "output_type": "execute_result"
    }
   ],
   "source": [
    "dataframe0['sample_type'].unique()"
   ]
  },
  {
   "cell_type": "markdown",
   "metadata": {
    "id": "3orrilm4seL7"
   },
   "source": [
    "REPLACING SAMPLE TYPE ID WITH VALUES "
   ]
  },
  {
   "cell_type": "code",
   "execution_count": 17,
   "metadata": {
    "id": "mviTAbRiMCMQ"
   },
   "outputs": [],
   "source": [
    "d4=dataframe0.replace(to_replace=[\"Primary Tumor\", \"Recurrent Tumor\", \"Metastatic\",\"Solid Tissue Normal\"],value=[\"1\", \"1\", \"1\", \"0\"]) #Replacing \"-\" in patient ID into \".\" to sync IDs with omics\n",
    "Sample=d4.rename(columns={\"sampleID\":\"PatientID\",\"sample_type\":\"Class\"}) #renaming columns\n",
    "Sample['PatientID']=Sample['PatientID'].str.replace('\\-','.') #setting up sampleIDs to match other omics data\n",
    "Sample = Sample.drop_duplicates() #there are duplicate indices, to preserve a data driven approach we remove the duplicate rows"
   ]
  },
  {
   "cell_type": "markdown",
   "metadata": {
    "id": "PXes1c8Ls7kY"
   },
   "source": [
    "STORING PROCESSED MULTIOMICS DATA"
   ]
  },
  {
   "cell_type": "code",
   "execution_count": 18,
   "metadata": {
    "id": "6r-6DfJSTl8R"
   },
   "outputs": [],
   "source": [
    "data_path = './PROCESSED/'\n",
    "Processed_Gene=GENE.to_csv(data_path + 'processed_Gene_latest.csv')\n",
    "Processed_MiRNA=MIRNA.to_csv(data_path + 'processed_MiRNA_latest.csv')\n",
    "Processed_Methy=METHY.to_csv(data_path + 'processed_Methy_latest.csv')"
   ]
  },
  {
   "cell_type": "markdown",
   "metadata": {
    "id": "bvoCfCV6-qWz"
   },
   "source": [
    "## MULTI-OMICS DATA INTEGRATION"
   ]
  },
  {
   "cell_type": "markdown",
   "metadata": {
    "id": "-mZUUgpstD5o"
   },
   "source": [
    "IMPORT PRE-PROCESSED MULTIOMICS DATA FOR INTEGRATION"
   ]
  },
  {
   "cell_type": "code",
   "execution_count": 19,
   "metadata": {
    "colab": {
     "base_uri": "https://localhost:8080/",
     "height": 84
    },
    "id": "LYH6_POfB1tS",
    "outputId": "3d0a124a-bc51-4692-bdab-c75d500b8064"
   },
   "outputs": [
    {
     "name": "stdout",
     "output_type": "stream",
     "text": [
      "----PRE-PROCESSED----\n",
      "GENE EXPRESSION : (606, 12582)\n",
      "MIRNA : (326, 203)\n",
      "DNA METHYLATION : (480, 5001)\n"
     ]
    }
   ],
   "source": [
    "print(\"----PRE-PROCESSED----\") \n",
    "\n",
    "dframe1 = pd.read_csv(data_path + \"processed_Gene_latest.csv\",skiprows=1)\n",
    "print(\"GENE EXPRESSION :\", dframe1.shape)\n",
    "\n",
    "dframe2 = pd.read_csv(data_path + \"processed_MiRNA_latest.csv\",skiprows=1)\n",
    "print(\"MIRNA :\", dframe2.shape)\n",
    "\n",
    "dframe3 = pd.read_csv(data_path + \"processed_Methy_latest.csv\",skiprows=1)\n",
    "print(\"DNA METHYLATION :\", dframe3.shape)"
   ]
  },
  {
   "cell_type": "markdown",
   "metadata": {
    "id": "Fzn8HJ1BtNqh"
   },
   "source": [
    "SETTING PATIENT ID AS DATA INDEX"
   ]
  },
  {
   "cell_type": "code",
   "execution_count": 20,
   "metadata": {
    "id": "V7Xk5n2gS2nk"
   },
   "outputs": [],
   "source": [
    "Gene = dframe1.set_index('sampleID')\n",
    "MiRNA = dframe2.set_index('sampleID')\n",
    "Methy = dframe3.set_index('sampleID')\n",
    "Clinical = Sample.set_index('PatientID')"
   ]
  },
  {
   "cell_type": "markdown",
   "metadata": {
    "id": "LsGFtQZ2tTFT"
   },
   "source": [
    "INTEGRATION OF MULTIOMICS"
   ]
  },
  {
   "cell_type": "code",
   "execution_count": 22,
   "metadata": {
    "id": "3WFzi10U5N5v"
   },
   "outputs": [],
   "source": [
    "integrate = [Gene,MiRNA,Methy,Clinical] #Integrating all 3 omics with class embedded\n",
    "Multiomics = pd.concat(integrate, axis=1, join='inner')"
   ]
  },
  {
   "cell_type": "markdown",
   "metadata": {
    "id": "2dGG0UyDtWoT"
   },
   "source": [
    "MULTIOMICS DATASET"
   ]
  },
  {
   "cell_type": "code",
   "execution_count": 23,
   "metadata": {},
   "outputs": [
    {
     "data": {
      "text/html": [
       "<div>\n",
       "<style scoped>\n",
       "    .dataframe tbody tr th:only-of-type {\n",
       "        vertical-align: middle;\n",
       "    }\n",
       "\n",
       "    .dataframe tbody tr th {\n",
       "        vertical-align: top;\n",
       "    }\n",
       "\n",
       "    .dataframe thead th {\n",
       "        text-align: right;\n",
       "    }\n",
       "</style>\n",
       "<table border=\"1\" class=\"dataframe\">\n",
       "  <thead>\n",
       "    <tr style=\"text-align: right;\">\n",
       "      <th></th>\n",
       "      <th>?|10431</th>\n",
       "      <th>?|155060</th>\n",
       "      <th>?|57714</th>\n",
       "      <th>?|8225</th>\n",
       "      <th>A1BG|1</th>\n",
       "      <th>A2LD1|87769</th>\n",
       "      <th>A2M|2</th>\n",
       "      <th>A4GALT|53947</th>\n",
       "      <th>AAAS|8086</th>\n",
       "      <th>AACS|65985</th>\n",
       "      <th>...</th>\n",
       "      <th>rs798149</th>\n",
       "      <th>rs845016</th>\n",
       "      <th>rs877309</th>\n",
       "      <th>rs9292570</th>\n",
       "      <th>rs9363764</th>\n",
       "      <th>rs939290</th>\n",
       "      <th>rs951295</th>\n",
       "      <th>rs966367</th>\n",
       "      <th>rs9839873</th>\n",
       "      <th>Class</th>\n",
       "    </tr>\n",
       "  </thead>\n",
       "  <tbody>\n",
       "    <tr>\n",
       "      <th>TCGA.3Z.A93Z.01</th>\n",
       "      <td>563.9369</td>\n",
       "      <td>118.5585</td>\n",
       "      <td>386.4128</td>\n",
       "      <td>668.6949</td>\n",
       "      <td>194.9691</td>\n",
       "      <td>58.3258</td>\n",
       "      <td>34620.5940</td>\n",
       "      <td>2551.2028</td>\n",
       "      <td>680.6135</td>\n",
       "      <td>496.1892</td>\n",
       "      <td>...</td>\n",
       "      <td>0.011549</td>\n",
       "      <td>0.464841</td>\n",
       "      <td>0.013510</td>\n",
       "      <td>0.570923</td>\n",
       "      <td>0.038504</td>\n",
       "      <td>0.968961</td>\n",
       "      <td>0.610308</td>\n",
       "      <td>0.950195</td>\n",
       "      <td>0.071204</td>\n",
       "      <td>1</td>\n",
       "    </tr>\n",
       "    <tr>\n",
       "      <th>TCGA.6D.AA2E.01</th>\n",
       "      <td>1313.5456</td>\n",
       "      <td>155.9633</td>\n",
       "      <td>352.4015</td>\n",
       "      <td>943.3351</td>\n",
       "      <td>39.3092</td>\n",
       "      <td>368.2677</td>\n",
       "      <td>11289.9137</td>\n",
       "      <td>1124.1230</td>\n",
       "      <td>652.4555</td>\n",
       "      <td>1185.6449</td>\n",
       "      <td>...</td>\n",
       "      <td>0.017880</td>\n",
       "      <td>0.037182</td>\n",
       "      <td>0.498076</td>\n",
       "      <td>0.029897</td>\n",
       "      <td>0.047727</td>\n",
       "      <td>0.962949</td>\n",
       "      <td>0.966669</td>\n",
       "      <td>0.460533</td>\n",
       "      <td>0.045127</td>\n",
       "      <td>1</td>\n",
       "    </tr>\n",
       "    <tr>\n",
       "      <th>TCGA.A3.3358.01</th>\n",
       "      <td>590.3308</td>\n",
       "      <td>114.1858</td>\n",
       "      <td>969.4656</td>\n",
       "      <td>543.5751</td>\n",
       "      <td>33.4288</td>\n",
       "      <td>206.0051</td>\n",
       "      <td>28250.4198</td>\n",
       "      <td>1040.3944</td>\n",
       "      <td>777.0356</td>\n",
       "      <td>493.6387</td>\n",
       "      <td>...</td>\n",
       "      <td>0.399119</td>\n",
       "      <td>0.054097</td>\n",
       "      <td>0.527032</td>\n",
       "      <td>0.964637</td>\n",
       "      <td>0.934363</td>\n",
       "      <td>0.416363</td>\n",
       "      <td>0.042030</td>\n",
       "      <td>0.054702</td>\n",
       "      <td>0.926809</td>\n",
       "      <td>1</td>\n",
       "    </tr>\n",
       "    <tr>\n",
       "      <th>TCGA.A3.3387.01</th>\n",
       "      <td>742.1875</td>\n",
       "      <td>239.5833</td>\n",
       "      <td>953.7760</td>\n",
       "      <td>469.7266</td>\n",
       "      <td>45.2507</td>\n",
       "      <td>73.5449</td>\n",
       "      <td>36164.3913</td>\n",
       "      <td>887.3698</td>\n",
       "      <td>628.5807</td>\n",
       "      <td>480.7943</td>\n",
       "      <td>...</td>\n",
       "      <td>0.975046</td>\n",
       "      <td>0.435898</td>\n",
       "      <td>0.016245</td>\n",
       "      <td>0.969929</td>\n",
       "      <td>0.952760</td>\n",
       "      <td>0.969980</td>\n",
       "      <td>0.955977</td>\n",
       "      <td>0.466632</td>\n",
       "      <td>0.956798</td>\n",
       "      <td>1</td>\n",
       "    </tr>\n",
       "    <tr>\n",
       "      <th>TCGA.A3.A6NI.01</th>\n",
       "      <td>709.1303</td>\n",
       "      <td>192.7102</td>\n",
       "      <td>765.4276</td>\n",
       "      <td>1020.2093</td>\n",
       "      <td>58.6972</td>\n",
       "      <td>118.1920</td>\n",
       "      <td>19953.5583</td>\n",
       "      <td>1711.6564</td>\n",
       "      <td>850.5955</td>\n",
       "      <td>852.7607</td>\n",
       "      <td>...</td>\n",
       "      <td>0.015277</td>\n",
       "      <td>0.947796</td>\n",
       "      <td>0.975618</td>\n",
       "      <td>0.502672</td>\n",
       "      <td>0.561695</td>\n",
       "      <td>0.320215</td>\n",
       "      <td>0.527224</td>\n",
       "      <td>0.027687</td>\n",
       "      <td>0.051922</td>\n",
       "      <td>1</td>\n",
       "    </tr>\n",
       "    <tr>\n",
       "      <th>...</th>\n",
       "      <td>...</td>\n",
       "      <td>...</td>\n",
       "      <td>...</td>\n",
       "      <td>...</td>\n",
       "      <td>...</td>\n",
       "      <td>...</td>\n",
       "      <td>...</td>\n",
       "      <td>...</td>\n",
       "      <td>...</td>\n",
       "      <td>...</td>\n",
       "      <td>...</td>\n",
       "      <td>...</td>\n",
       "      <td>...</td>\n",
       "      <td>...</td>\n",
       "      <td>...</td>\n",
       "      <td>...</td>\n",
       "      <td>...</td>\n",
       "      <td>...</td>\n",
       "      <td>...</td>\n",
       "      <td>...</td>\n",
       "      <td>...</td>\n",
       "    </tr>\n",
       "    <tr>\n",
       "      <th>TCGA.MM.A563.01</th>\n",
       "      <td>649.2462</td>\n",
       "      <td>526.1307</td>\n",
       "      <td>391.4573</td>\n",
       "      <td>774.8744</td>\n",
       "      <td>79.1608</td>\n",
       "      <td>185.4623</td>\n",
       "      <td>38801.8643</td>\n",
       "      <td>1467.3367</td>\n",
       "      <td>794.4724</td>\n",
       "      <td>387.9397</td>\n",
       "      <td>...</td>\n",
       "      <td>0.970485</td>\n",
       "      <td>0.071422</td>\n",
       "      <td>0.018349</td>\n",
       "      <td>0.963343</td>\n",
       "      <td>0.319284</td>\n",
       "      <td>0.966108</td>\n",
       "      <td>0.518787</td>\n",
       "      <td>0.938153</td>\n",
       "      <td>0.055331</td>\n",
       "      <td>1</td>\n",
       "    </tr>\n",
       "    <tr>\n",
       "      <th>TCGA.MM.A564.01</th>\n",
       "      <td>654.3055</td>\n",
       "      <td>1088.6235</td>\n",
       "      <td>111.8793</td>\n",
       "      <td>766.8133</td>\n",
       "      <td>51.5462</td>\n",
       "      <td>71.1251</td>\n",
       "      <td>41505.7134</td>\n",
       "      <td>1881.2068</td>\n",
       "      <td>830.2954</td>\n",
       "      <td>213.0735</td>\n",
       "      <td>...</td>\n",
       "      <td>0.972684</td>\n",
       "      <td>0.921329</td>\n",
       "      <td>0.542840</td>\n",
       "      <td>0.015981</td>\n",
       "      <td>0.060126</td>\n",
       "      <td>0.970482</td>\n",
       "      <td>0.961747</td>\n",
       "      <td>0.937980</td>\n",
       "      <td>0.477689</td>\n",
       "      <td>1</td>\n",
       "    </tr>\n",
       "    <tr>\n",
       "      <th>TCGA.MM.A84U.01</th>\n",
       "      <td>1256.3380</td>\n",
       "      <td>289.5775</td>\n",
       "      <td>362.2535</td>\n",
       "      <td>580.2817</td>\n",
       "      <td>90.5352</td>\n",
       "      <td>129.6056</td>\n",
       "      <td>33272.3718</td>\n",
       "      <td>2143.0986</td>\n",
       "      <td>777.4648</td>\n",
       "      <td>529.0141</td>\n",
       "      <td>...</td>\n",
       "      <td>0.963856</td>\n",
       "      <td>0.382685</td>\n",
       "      <td>0.519187</td>\n",
       "      <td>0.031377</td>\n",
       "      <td>0.537401</td>\n",
       "      <td>0.955410</td>\n",
       "      <td>0.578344</td>\n",
       "      <td>0.466122</td>\n",
       "      <td>0.604406</td>\n",
       "      <td>1</td>\n",
       "    </tr>\n",
       "    <tr>\n",
       "      <th>TCGA.MW.A4EC.01</th>\n",
       "      <td>581.0354</td>\n",
       "      <td>227.1656</td>\n",
       "      <td>241.9272</td>\n",
       "      <td>779.9077</td>\n",
       "      <td>93.1543</td>\n",
       "      <td>327.9016</td>\n",
       "      <td>24265.9969</td>\n",
       "      <td>1621.3224</td>\n",
       "      <td>633.9313</td>\n",
       "      <td>499.4362</td>\n",
       "      <td>...</td>\n",
       "      <td>0.399915</td>\n",
       "      <td>0.062725</td>\n",
       "      <td>0.511418</td>\n",
       "      <td>0.019866</td>\n",
       "      <td>0.554819</td>\n",
       "      <td>0.039046</td>\n",
       "      <td>0.498525</td>\n",
       "      <td>0.941791</td>\n",
       "      <td>0.448202</td>\n",
       "      <td>1</td>\n",
       "    </tr>\n",
       "    <tr>\n",
       "      <th>TCGA.T7.A92I.01</th>\n",
       "      <td>1088.8424</td>\n",
       "      <td>124.1400</td>\n",
       "      <td>961.1128</td>\n",
       "      <td>650.9124</td>\n",
       "      <td>189.8863</td>\n",
       "      <td>136.7006</td>\n",
       "      <td>4996.8621</td>\n",
       "      <td>897.0984</td>\n",
       "      <td>691.8935</td>\n",
       "      <td>788.2142</td>\n",
       "      <td>...</td>\n",
       "      <td>0.963479</td>\n",
       "      <td>0.043406</td>\n",
       "      <td>0.970992</td>\n",
       "      <td>0.978142</td>\n",
       "      <td>0.046116</td>\n",
       "      <td>0.967449</td>\n",
       "      <td>0.036224</td>\n",
       "      <td>0.940341</td>\n",
       "      <td>0.059419</td>\n",
       "      <td>1</td>\n",
       "    </tr>\n",
       "  </tbody>\n",
       "</table>\n",
       "<p>208 rows × 17784 columns</p>\n",
       "</div>"
      ],
      "text/plain": [
       "                   ?|10431   ?|155060   ?|57714     ?|8225    A1BG|1  \\\n",
       "TCGA.3Z.A93Z.01   563.9369   118.5585  386.4128   668.6949  194.9691   \n",
       "TCGA.6D.AA2E.01  1313.5456   155.9633  352.4015   943.3351   39.3092   \n",
       "TCGA.A3.3358.01   590.3308   114.1858  969.4656   543.5751   33.4288   \n",
       "TCGA.A3.3387.01   742.1875   239.5833  953.7760   469.7266   45.2507   \n",
       "TCGA.A3.A6NI.01   709.1303   192.7102  765.4276  1020.2093   58.6972   \n",
       "...                    ...        ...       ...        ...       ...   \n",
       "TCGA.MM.A563.01   649.2462   526.1307  391.4573   774.8744   79.1608   \n",
       "TCGA.MM.A564.01   654.3055  1088.6235  111.8793   766.8133   51.5462   \n",
       "TCGA.MM.A84U.01  1256.3380   289.5775  362.2535   580.2817   90.5352   \n",
       "TCGA.MW.A4EC.01   581.0354   227.1656  241.9272   779.9077   93.1543   \n",
       "TCGA.T7.A92I.01  1088.8424   124.1400  961.1128   650.9124  189.8863   \n",
       "\n",
       "                 A2LD1|87769       A2M|2  A4GALT|53947  AAAS|8086  AACS|65985  \\\n",
       "TCGA.3Z.A93Z.01      58.3258  34620.5940     2551.2028   680.6135    496.1892   \n",
       "TCGA.6D.AA2E.01     368.2677  11289.9137     1124.1230   652.4555   1185.6449   \n",
       "TCGA.A3.3358.01     206.0051  28250.4198     1040.3944   777.0356    493.6387   \n",
       "TCGA.A3.3387.01      73.5449  36164.3913      887.3698   628.5807    480.7943   \n",
       "TCGA.A3.A6NI.01     118.1920  19953.5583     1711.6564   850.5955    852.7607   \n",
       "...                      ...         ...           ...        ...         ...   \n",
       "TCGA.MM.A563.01     185.4623  38801.8643     1467.3367   794.4724    387.9397   \n",
       "TCGA.MM.A564.01      71.1251  41505.7134     1881.2068   830.2954    213.0735   \n",
       "TCGA.MM.A84U.01     129.6056  33272.3718     2143.0986   777.4648    529.0141   \n",
       "TCGA.MW.A4EC.01     327.9016  24265.9969     1621.3224   633.9313    499.4362   \n",
       "TCGA.T7.A92I.01     136.7006   4996.8621      897.0984   691.8935    788.2142   \n",
       "\n",
       "                 ...  rs798149  rs845016  rs877309  rs9292570  rs9363764  \\\n",
       "TCGA.3Z.A93Z.01  ...  0.011549  0.464841  0.013510   0.570923   0.038504   \n",
       "TCGA.6D.AA2E.01  ...  0.017880  0.037182  0.498076   0.029897   0.047727   \n",
       "TCGA.A3.3358.01  ...  0.399119  0.054097  0.527032   0.964637   0.934363   \n",
       "TCGA.A3.3387.01  ...  0.975046  0.435898  0.016245   0.969929   0.952760   \n",
       "TCGA.A3.A6NI.01  ...  0.015277  0.947796  0.975618   0.502672   0.561695   \n",
       "...              ...       ...       ...       ...        ...        ...   \n",
       "TCGA.MM.A563.01  ...  0.970485  0.071422  0.018349   0.963343   0.319284   \n",
       "TCGA.MM.A564.01  ...  0.972684  0.921329  0.542840   0.015981   0.060126   \n",
       "TCGA.MM.A84U.01  ...  0.963856  0.382685  0.519187   0.031377   0.537401   \n",
       "TCGA.MW.A4EC.01  ...  0.399915  0.062725  0.511418   0.019866   0.554819   \n",
       "TCGA.T7.A92I.01  ...  0.963479  0.043406  0.970992   0.978142   0.046116   \n",
       "\n",
       "                 rs939290  rs951295  rs966367  rs9839873  Class  \n",
       "TCGA.3Z.A93Z.01  0.968961  0.610308  0.950195   0.071204      1  \n",
       "TCGA.6D.AA2E.01  0.962949  0.966669  0.460533   0.045127      1  \n",
       "TCGA.A3.3358.01  0.416363  0.042030  0.054702   0.926809      1  \n",
       "TCGA.A3.3387.01  0.969980  0.955977  0.466632   0.956798      1  \n",
       "TCGA.A3.A6NI.01  0.320215  0.527224  0.027687   0.051922      1  \n",
       "...                   ...       ...       ...        ...    ...  \n",
       "TCGA.MM.A563.01  0.966108  0.518787  0.938153   0.055331      1  \n",
       "TCGA.MM.A564.01  0.970482  0.961747  0.937980   0.477689      1  \n",
       "TCGA.MM.A84U.01  0.955410  0.578344  0.466122   0.604406      1  \n",
       "TCGA.MW.A4EC.01  0.039046  0.498525  0.941791   0.448202      1  \n",
       "TCGA.T7.A92I.01  0.967449  0.036224  0.940341   0.059419      1  \n",
       "\n",
       "[208 rows x 17784 columns]"
      ]
     },
     "execution_count": 23,
     "metadata": {},
     "output_type": "execute_result"
    }
   ],
   "source": [
    "Multiomics"
   ]
  },
  {
   "cell_type": "markdown",
   "metadata": {
    "id": "0VNRvhc5tbFf"
   },
   "source": [
    "SAVE FINALISED DATASET"
   ]
  },
  {
   "cell_type": "code",
   "execution_count": 24,
   "metadata": {
    "id": "e1DrxHuREskj"
   },
   "outputs": [],
   "source": [
    "#Save Finalised Lung Dataset\n",
    "Complete_Data = Multiomics.to_csv(data_path + 'Complete_MultiOmicsnew.csv')"
   ]
  }
 ],
 "metadata": {
  "accelerator": "GPU",
  "colab": {
   "collapsed_sections": [
    "8GsC_HN2IwPD",
    "HXdWzWR0IqU_"
   ],
   "include_colab_link": true,
   "name": "DATA PRE-PROCESSING.ipynb",
   "provenance": []
  },
  "kernelspec": {
   "display_name": "Python 3.9 (Default)",
   "language": "python",
   "name": "python3"
  },
  "language_info": {
   "codemirror_mode": {
    "name": "ipython",
    "version": 3
   },
   "file_extension": ".py",
   "mimetype": "text/x-python",
   "name": "python",
   "nbconvert_exporter": "python",
   "pygments_lexer": "ipython3",
   "version": "3.9.7"
  }
 },
 "nbformat": 4,
 "nbformat_minor": 1
}
