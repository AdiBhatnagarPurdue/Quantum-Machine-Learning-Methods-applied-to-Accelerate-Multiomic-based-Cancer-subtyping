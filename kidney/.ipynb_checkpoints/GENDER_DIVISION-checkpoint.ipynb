{
 "cells": [
  {
   "cell_type": "code",
   "execution_count": 82,
   "id": "ff57828e",
   "metadata": {},
   "outputs": [
    {
     "name": "stderr",
     "output_type": "stream",
     "text": [
      "/apps/spack/bell/external/learning/ml-toolkit/conda-2020.07-py38/cpu/install/caffe-1.0/lib/python3.8/site-packages/IPython/core/interactiveshell.py:3145: DtypeWarning: Columns (17784) have mixed types.Specify dtype option on import or set low_memory=False.\n",
      "  has_raised = await self.run_ast_nodes(code_ast.body, cell_name,\n"
     ]
    }
   ],
   "source": [
    "import pandas as pd #For data manipulation and analysis\n",
    "data_path = './PROCESSED/'\n",
    "\n",
    "clinical = pd.read_csv('kidney.csv', sep = ',') #Reading clinical dataset  \n",
    "exp = pd.read_csv(data_path + 'processed_Gene_latest.csv', skiprows=1)\n",
    "methy = pd.read_csv(data_path + 'processed_Methy_latest.csv', skiprows=1)\n",
    "mirna = pd.read_csv(data_path + 'processed_MiRNA_latest.csv', skiprows=1)\n",
    "integrated = pd.read_csv(data_path + 'Complete_MultiOmicsnew.csv', sep = ',')\n",
    "\n",
    "male = 'male'\n",
    "female = 'female'"
   ]
  },
  {
   "cell_type": "code",
   "execution_count": 83,
   "id": "2e43aba3",
   "metadata": {},
   "outputs": [],
   "source": [
    "#renaming columns to maintain generality of code\n",
    "clinical = clinical.rename(columns = {'submitter_id.samples' : 'sampleID', 'sample_type.samples' : 'sample_type'})\n",
    "def strip_A_B(x):\n",
    "    if x[-1] == 'A' or x[-1] == 'B':\n",
    "        return x[:-1]\n",
    "    else:\n",
    "        return x\n",
    "clinical['sampleID'] = clinical['sampleID'].apply(strip_A_B)\n",
    "clinical['sampleID'] = clinical['sampleID'].str.replace('\\-','.')\n",
    "clinical = clinical.drop_duplicates(subset = ['sampleID'])"
   ]
  },
  {
   "cell_type": "code",
   "execution_count": 84,
   "id": "033fea30",
   "metadata": {},
   "outputs": [],
   "source": [
    "male_temp = clinical[clinical['gender.demographic'] == 'male']\n",
    "female_temp = clinical[clinical['gender.demographic'] == 'female']"
   ]
  },
  {
   "cell_type": "code",
   "execution_count": 85,
   "id": "c4325f72",
   "metadata": {
    "scrolled": true
   },
   "outputs": [],
   "source": [
    "male_clinic = male_temp.set_index('sampleID')\n",
    "female_clinic = female_temp.set_index('sampleID')\n",
    "Gene = exp.set_index('sampleID')\n",
    "MiRNA = mirna.set_index('sampleID')\n",
    "Methy = methy.set_index('sampleID')"
   ]
  },
  {
   "cell_type": "code",
   "execution_count": 86,
   "id": "f3a5534e",
   "metadata": {
    "scrolled": false
   },
   "outputs": [],
   "source": [
    "data_path = './'\n",
    "\n",
    "#integrating files based on sampleID\n",
    "exp_buff = [male_clinic, Gene]\n",
    "mirna_buff = [male_clinic, MiRNA]\n",
    "methy_buff = [male_clinic, Methy]\n"
   ]
  },
  {
   "cell_type": "code",
   "execution_count": 87,
   "id": "b6ad04a3",
   "metadata": {},
   "outputs": [],
   "source": [
    "\n",
    "#saving files to dataframes\n",
    "male_exp = pd.concat(exp_buff, axis=1, join = 'inner')\n",
    "male_mirna = pd.concat(mirna_buff, axis=1, join='inner')\n",
    "male_methy = pd.concat(methy_buff, axis=1, join='inner')"
   ]
  },
  {
   "cell_type": "code",
   "execution_count": 90,
   "id": "a4f1b766",
   "metadata": {},
   "outputs": [],
   "source": [
    "male_exp.to_csv(data_path + \"MALE/processed_Gene_latest.csv\")\n",
    "male_mirna.to_csv(data_path + \"MALE/processed_MiRNA_latest.csv\")\n",
    "male_methy.to_csv(data_path + \"MALE/processed_Methy_latest.csv\")\n",
    "male_clinic.to_csv(data_path + \"MALE/Complete_MultiOmicsnew.csv\")"
   ]
  },
  {
   "cell_type": "code",
   "execution_count": 92,
   "id": "7cc78081",
   "metadata": {},
   "outputs": [],
   "source": [
    "#integrating files based on sampleID\n",
    "exp_buff = [female_clinic, Gene]\n",
    "mirna_buff = [female_clinic, MiRNA]\n",
    "methy_buff = [female_clinic, Methy]\n",
    "\n",
    "#saving files to dataframes\n",
    "female_exp = pd.concat(exp_buff, axis=1, join='inner')\n",
    "female_mirna = pd.concat(mirna_buff, axis=1, join='inner')\n",
    "female_methy = pd.concat(methy_buff, axis=1, join='inner')\n",
    "\n",
    "female_exp.to_csv(data_path + \"FEMALE/processed_Gene_latest.csv\")\n",
    "female_mirna.to_csv(data_path + \"FEMALE/processed_MiRNA_latest.csv\")\n",
    "female_methy.to_csv(data_path + \"FEMALE/processed_Methy_latest.csv\")\n",
    "female_clinic.to_csv(data_path + \"FEMALE/Complete_MultiOmicsnew.csv\")"
   ]
  }
 ],
 "metadata": {
  "kernelspec": {
   "display_name": "Python 3.8 - Learning [learning/conda-2020.11-py38-cpu]",
   "language": "python",
   "name": "sys_learning38"
  },
  "language_info": {
   "codemirror_mode": {
    "name": "ipython",
    "version": 3
   },
   "file_extension": ".py",
   "mimetype": "text/x-python",
   "name": "python",
   "nbconvert_exporter": "python",
   "pygments_lexer": "ipython3",
   "version": "3.8.5"
  }
 },
 "nbformat": 4,
 "nbformat_minor": 5
}
