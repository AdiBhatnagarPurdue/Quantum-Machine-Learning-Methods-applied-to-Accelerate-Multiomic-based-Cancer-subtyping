{
 "cells": [
  {
   "cell_type": "markdown",
   "metadata": {
    "colab_type": "text",
    "id": "view-in-github"
   },
   "source": [
    "<a href=\"https://colab.research.google.com/github/Vivek-1116/SDAE-and-VAE-for-Cancer-Classification-through-Multi-omics-Feature-Extraction/blob/main/DATA_PRE_PROCESSING.ipynb\" target=\"_parent\"><img src=\"https://colab.research.google.com/assets/colab-badge.svg\" alt=\"Open In Colab\"/></a>"
   ]
  },
  {
   "cell_type": "markdown",
   "metadata": {
    "id": "GK8nM0cEESEz"
   },
   "source": [
    "# Code Implementation on MULTI-OMICS DATA PRE-PROCESSING\n",
    "Dataset for this project is made up of Multi-Omics Cancer Benchmark TCGA Pre-processed data.\n",
    "\n",
    "Data Source : http://acgt.cs.tau.ac.il/multi_omic_benchmark/download.html\n",
    "\n",
    "Data Description : Lung Squamous Cell Carcinoma (LUSC) Data\n",
    "\n",
    "Omics Involved : Gene expression, DNA methylation & miRNA expression"
   ]
  },
  {
   "cell_type": "markdown",
   "metadata": {
    "id": "GcfMJqKA8faa"
   },
   "source": [
    "## RAW DATA"
   ]
  },
  {
   "cell_type": "markdown",
   "metadata": {
    "id": "VDohm3utEM3k"
   },
   "source": [
    "IMPORT LIBRARIES"
   ]
  },
  {
   "cell_type": "code",
   "execution_count": 1,
   "metadata": {
    "id": "u7IZeqHgEEjW"
   },
   "outputs": [],
   "source": [
    "import numpy as np #Fundamental package for scientific computing\n",
    "import pandas as pd #For data manipulation and analysis\n",
    "import matplotlib.pyplot as plt #2D plotting library\n",
    "import seaborn as sns #Python data visualization library based on matplotlib\n",
    "import warnings #Typically issued in situations where it is useful to alert the user of some condition in a program\n",
    "from collections import Counter #Supports iterations\n",
    "warnings.filterwarnings('ignore') #Ignores all warnings"
   ]
  },
  {
   "cell_type": "code",
   "execution_count": 38,
   "metadata": {},
   "outputs": [],
   "source": [
    "data_path = '' #Change this path accordingly"
   ]
  },
  {
   "cell_type": "markdown",
   "metadata": {
    "id": "tDJU6G0hqbGJ"
   },
   "source": [
    "IMPORT DATASET (3 DIFFERENT OMICS & 1 CLINICAL DATA)"
   ]
  },
  {
   "cell_type": "code",
   "execution_count": 39,
   "metadata": {},
   "outputs": [
    {
     "name": "stdout",
     "output_type": "stream",
     "text": [
      "RAW MULTIOMICS DATASET\n",
      "CLINICAL DATA : (626, 127)\n",
      "GENE EXPRESSION : (20531, 553)\n",
      "MIRNA : (1046, 388)\n",
      "DNA METHYLATION : (5000, 413)\n"
     ]
    }
   ],
   "source": [
    "print(\"RAW MULTIOMICS DATASET\") \n",
    "\n",
    "dataframe0 = pd.read_csv(data_path + \"lung.csv\",sep=',') #Reading clinical dataset \n",
    "print(\"CLINICAL DATA :\", dataframe0.shape)\n",
    "\n",
    "dataframe1 = pd.read_csv(data_path + \"exp.csv\",sep=',') #Reading Gene Expression dataset\n",
    "print(\"GENE EXPRESSION :\", dataframe1.shape)\n",
    "\n",
    "dataframe2 = pd.read_csv(data_path + \"mirna.csv\",sep=',') #Reading miRNA dataset\n",
    "print(\"MIRNA :\", dataframe2.shape)\n",
    "\n",
    "dataframe3 = pd.read_csv(data_path + \"methy.csv\",sep=',') #Reading DNA Methylation dataset \n",
    "print(\"DNA METHYLATION :\", dataframe3.shape)"
   ]
  },
  {
   "cell_type": "code",
   "execution_count": 40,
   "metadata": {},
   "outputs": [
    {
     "name": "stdout",
     "output_type": "stream",
     "text": [
      "GENE EXPRESSION :\n"
     ]
    },
    {
     "data": {
      "text/html": [
       "<div>\n",
       "<style scoped>\n",
       "    .dataframe tbody tr th:only-of-type {\n",
       "        vertical-align: middle;\n",
       "    }\n",
       "\n",
       "    .dataframe tbody tr th {\n",
       "        vertical-align: top;\n",
       "    }\n",
       "\n",
       "    .dataframe thead th {\n",
       "        text-align: right;\n",
       "    }\n",
       "</style>\n",
       "<table border=\"1\" class=\"dataframe\">\n",
       "  <thead>\n",
       "    <tr style=\"text-align: right;\">\n",
       "      <th></th>\n",
       "      <th>sampleID</th>\n",
       "      <th>TCGA.18.3406.01</th>\n",
       "      <th>TCGA.18.3407.01</th>\n",
       "      <th>TCGA.18.3408.01</th>\n",
       "      <th>TCGA.18.3409.01</th>\n",
       "      <th>TCGA.18.3410.01</th>\n",
       "      <th>TCGA.18.3411.01</th>\n",
       "      <th>TCGA.18.3412.01</th>\n",
       "      <th>TCGA.18.3414.01</th>\n",
       "      <th>TCGA.18.3415.01</th>\n",
       "      <th>...</th>\n",
       "      <th>TCGA.NK.A5CX.01</th>\n",
       "      <th>TCGA.NK.A5D1.01</th>\n",
       "      <th>TCGA.NK.A7XE.01</th>\n",
       "      <th>TCGA.O2.A52N.01</th>\n",
       "      <th>TCGA.O2.A52Q.01</th>\n",
       "      <th>TCGA.O2.A52S.01</th>\n",
       "      <th>TCGA.O2.A52V.01</th>\n",
       "      <th>TCGA.O2.A52W.01</th>\n",
       "      <th>TCGA.O2.A5IB.01</th>\n",
       "      <th>TCGA.XC.AA0X.01</th>\n",
       "    </tr>\n",
       "  </thead>\n",
       "  <tbody>\n",
       "    <tr>\n",
       "      <th>0</th>\n",
       "      <td>?|100130426</td>\n",
       "      <td>0.0000</td>\n",
       "      <td>0.0000</td>\n",
       "      <td>0.0000</td>\n",
       "      <td>0.0000</td>\n",
       "      <td>0.0000</td>\n",
       "      <td>0.0000</td>\n",
       "      <td>0.0000</td>\n",
       "      <td>0.0000</td>\n",
       "      <td>0.0000</td>\n",
       "      <td>...</td>\n",
       "      <td>0.0000</td>\n",
       "      <td>0.0000</td>\n",
       "      <td>0.0000</td>\n",
       "      <td>0.0000</td>\n",
       "      <td>0.0000</td>\n",
       "      <td>0.0000</td>\n",
       "      <td>0.0000</td>\n",
       "      <td>0.0000</td>\n",
       "      <td>0.0000</td>\n",
       "      <td>0.0000</td>\n",
       "    </tr>\n",
       "    <tr>\n",
       "      <th>1</th>\n",
       "      <td>?|100133144</td>\n",
       "      <td>75.3622</td>\n",
       "      <td>14.4148</td>\n",
       "      <td>8.4888</td>\n",
       "      <td>2.5897</td>\n",
       "      <td>16.6653</td>\n",
       "      <td>12.9418</td>\n",
       "      <td>47.5782</td>\n",
       "      <td>12.3168</td>\n",
       "      <td>55.1387</td>\n",
       "      <td>...</td>\n",
       "      <td>40.3766</td>\n",
       "      <td>39.5911</td>\n",
       "      <td>20.8723</td>\n",
       "      <td>30.2240</td>\n",
       "      <td>4.2895</td>\n",
       "      <td>19.9503</td>\n",
       "      <td>30.0872</td>\n",
       "      <td>53.6593</td>\n",
       "      <td>72.5666</td>\n",
       "      <td>44.7501</td>\n",
       "    </tr>\n",
       "    <tr>\n",
       "      <th>2</th>\n",
       "      <td>?|100134869</td>\n",
       "      <td>25.4252</td>\n",
       "      <td>6.9933</td>\n",
       "      <td>3.3754</td>\n",
       "      <td>7.1538</td>\n",
       "      <td>19.5722</td>\n",
       "      <td>14.4142</td>\n",
       "      <td>20.8881</td>\n",
       "      <td>25.7116</td>\n",
       "      <td>39.0809</td>\n",
       "      <td>...</td>\n",
       "      <td>17.3322</td>\n",
       "      <td>21.7407</td>\n",
       "      <td>15.7901</td>\n",
       "      <td>4.2022</td>\n",
       "      <td>3.6632</td>\n",
       "      <td>47.1026</td>\n",
       "      <td>15.2957</td>\n",
       "      <td>33.3907</td>\n",
       "      <td>42.1832</td>\n",
       "      <td>23.6304</td>\n",
       "    </tr>\n",
       "    <tr>\n",
       "      <th>3</th>\n",
       "      <td>?|10357</td>\n",
       "      <td>279.9764</td>\n",
       "      <td>198.2540</td>\n",
       "      <td>254.5929</td>\n",
       "      <td>164.3744</td>\n",
       "      <td>200.8033</td>\n",
       "      <td>277.6667</td>\n",
       "      <td>394.3623</td>\n",
       "      <td>205.8704</td>\n",
       "      <td>162.0405</td>\n",
       "      <td>...</td>\n",
       "      <td>142.3695</td>\n",
       "      <td>234.1647</td>\n",
       "      <td>133.6915</td>\n",
       "      <td>131.5628</td>\n",
       "      <td>153.5980</td>\n",
       "      <td>176.7177</td>\n",
       "      <td>188.7215</td>\n",
       "      <td>260.3332</td>\n",
       "      <td>160.1624</td>\n",
       "      <td>76.6488</td>\n",
       "    </tr>\n",
       "    <tr>\n",
       "      <th>4</th>\n",
       "      <td>?|10431</td>\n",
       "      <td>1510.2362</td>\n",
       "      <td>968.6013</td>\n",
       "      <td>1474.1213</td>\n",
       "      <td>944.6154</td>\n",
       "      <td>1156.0568</td>\n",
       "      <td>1119.5816</td>\n",
       "      <td>861.5023</td>\n",
       "      <td>1030.4597</td>\n",
       "      <td>1931.2139</td>\n",
       "      <td>...</td>\n",
       "      <td>935.5667</td>\n",
       "      <td>777.4533</td>\n",
       "      <td>2257.2693</td>\n",
       "      <td>607.6503</td>\n",
       "      <td>1103.4483</td>\n",
       "      <td>1188.3278</td>\n",
       "      <td>1248.0303</td>\n",
       "      <td>789.3606</td>\n",
       "      <td>460.8626</td>\n",
       "      <td>805.9507</td>\n",
       "    </tr>\n",
       "  </tbody>\n",
       "</table>\n",
       "<p>5 rows × 553 columns</p>\n",
       "</div>"
      ],
      "text/plain": [
       "      sampleID  TCGA.18.3406.01  TCGA.18.3407.01  TCGA.18.3408.01  \\\n",
       "0  ?|100130426           0.0000           0.0000           0.0000   \n",
       "1  ?|100133144          75.3622          14.4148           8.4888   \n",
       "2  ?|100134869          25.4252           6.9933           3.3754   \n",
       "3      ?|10357         279.9764         198.2540         254.5929   \n",
       "4      ?|10431        1510.2362         968.6013        1474.1213   \n",
       "\n",
       "   TCGA.18.3409.01  TCGA.18.3410.01  TCGA.18.3411.01  TCGA.18.3412.01  \\\n",
       "0           0.0000           0.0000           0.0000           0.0000   \n",
       "1           2.5897          16.6653          12.9418          47.5782   \n",
       "2           7.1538          19.5722          14.4142          20.8881   \n",
       "3         164.3744         200.8033         277.6667         394.3623   \n",
       "4         944.6154        1156.0568        1119.5816         861.5023   \n",
       "\n",
       "   TCGA.18.3414.01  TCGA.18.3415.01  ...  TCGA.NK.A5CX.01  TCGA.NK.A5D1.01  \\\n",
       "0           0.0000           0.0000  ...           0.0000           0.0000   \n",
       "1          12.3168          55.1387  ...          40.3766          39.5911   \n",
       "2          25.7116          39.0809  ...          17.3322          21.7407   \n",
       "3         205.8704         162.0405  ...         142.3695         234.1647   \n",
       "4        1030.4597        1931.2139  ...         935.5667         777.4533   \n",
       "\n",
       "   TCGA.NK.A7XE.01  TCGA.O2.A52N.01  TCGA.O2.A52Q.01  TCGA.O2.A52S.01  \\\n",
       "0           0.0000           0.0000           0.0000           0.0000   \n",
       "1          20.8723          30.2240           4.2895          19.9503   \n",
       "2          15.7901           4.2022           3.6632          47.1026   \n",
       "3         133.6915         131.5628         153.5980         176.7177   \n",
       "4        2257.2693         607.6503        1103.4483        1188.3278   \n",
       "\n",
       "   TCGA.O2.A52V.01  TCGA.O2.A52W.01  TCGA.O2.A5IB.01  TCGA.XC.AA0X.01  \n",
       "0           0.0000           0.0000           0.0000           0.0000  \n",
       "1          30.0872          53.6593          72.5666          44.7501  \n",
       "2          15.2957          33.3907          42.1832          23.6304  \n",
       "3         188.7215         260.3332         160.1624          76.6488  \n",
       "4        1248.0303         789.3606         460.8626         805.9507  \n",
       "\n",
       "[5 rows x 553 columns]"
      ]
     },
     "execution_count": 40,
     "metadata": {},
     "output_type": "execute_result"
    }
   ],
   "source": [
    "print(\"GENE EXPRESSION :\")\n",
    "dataframe1.head()"
   ]
  },
  {
   "cell_type": "code",
   "execution_count": 41,
   "metadata": {},
   "outputs": [
    {
     "name": "stdout",
     "output_type": "stream",
     "text": [
      "MIRNA  :\n"
     ]
    },
    {
     "data": {
      "text/html": [
       "<div>\n",
       "<style scoped>\n",
       "    .dataframe tbody tr th:only-of-type {\n",
       "        vertical-align: middle;\n",
       "    }\n",
       "\n",
       "    .dataframe tbody tr th {\n",
       "        vertical-align: top;\n",
       "    }\n",
       "\n",
       "    .dataframe thead th {\n",
       "        text-align: right;\n",
       "    }\n",
       "</style>\n",
       "<table border=\"1\" class=\"dataframe\">\n",
       "  <thead>\n",
       "    <tr style=\"text-align: right;\">\n",
       "      <th></th>\n",
       "      <th>sampleID</th>\n",
       "      <th>TCGA.18.5592.01</th>\n",
       "      <th>TCGA.18.5595.01</th>\n",
       "      <th>TCGA.21.5782.01</th>\n",
       "      <th>TCGA.21.5783.01</th>\n",
       "      <th>TCGA.21.5784.01</th>\n",
       "      <th>TCGA.21.5786.01</th>\n",
       "      <th>TCGA.21.5787.01</th>\n",
       "      <th>TCGA.21.A5DI.01</th>\n",
       "      <th>TCGA.22.4593.01</th>\n",
       "      <th>...</th>\n",
       "      <th>TCGA.NK.A5CX.01</th>\n",
       "      <th>TCGA.NK.A5D1.01</th>\n",
       "      <th>TCGA.NK.A7XE.01</th>\n",
       "      <th>TCGA.O2.A52N.01</th>\n",
       "      <th>TCGA.O2.A52Q.01</th>\n",
       "      <th>TCGA.O2.A52S.01</th>\n",
       "      <th>TCGA.O2.A52V.01</th>\n",
       "      <th>TCGA.O2.A52W.01</th>\n",
       "      <th>TCGA.O2.A5IB.01</th>\n",
       "      <th>TCGA.XC.AA0X.01</th>\n",
       "    </tr>\n",
       "  </thead>\n",
       "  <tbody>\n",
       "    <tr>\n",
       "      <th>0</th>\n",
       "      <td>hsa-let-7a-1</td>\n",
       "      <td>5998.824696</td>\n",
       "      <td>5348.668096</td>\n",
       "      <td>3829.339596</td>\n",
       "      <td>4114.228785</td>\n",
       "      <td>5035.557137</td>\n",
       "      <td>4015.422861</td>\n",
       "      <td>4258.855065</td>\n",
       "      <td>4928.943949</td>\n",
       "      <td>7679.403313</td>\n",
       "      <td>...</td>\n",
       "      <td>5775.836490</td>\n",
       "      <td>5505.353638</td>\n",
       "      <td>3229.464808</td>\n",
       "      <td>7378.365469</td>\n",
       "      <td>4047.602479</td>\n",
       "      <td>4451.880261</td>\n",
       "      <td>5131.082659</td>\n",
       "      <td>4156.836712</td>\n",
       "      <td>5322.569378</td>\n",
       "      <td>5334.495709</td>\n",
       "    </tr>\n",
       "    <tr>\n",
       "      <th>1</th>\n",
       "      <td>hsa-let-7a-2</td>\n",
       "      <td>11667.530080</td>\n",
       "      <td>10618.397890</td>\n",
       "      <td>7731.024727</td>\n",
       "      <td>8111.916613</td>\n",
       "      <td>10008.799220</td>\n",
       "      <td>7841.828348</td>\n",
       "      <td>8660.778360</td>\n",
       "      <td>9710.772056</td>\n",
       "      <td>15115.502850</td>\n",
       "      <td>...</td>\n",
       "      <td>11436.777210</td>\n",
       "      <td>10833.499850</td>\n",
       "      <td>6379.716329</td>\n",
       "      <td>14669.397180</td>\n",
       "      <td>8098.918503</td>\n",
       "      <td>8931.195340</td>\n",
       "      <td>10209.391080</td>\n",
       "      <td>8389.022277</td>\n",
       "      <td>10547.798170</td>\n",
       "      <td>10619.614950</td>\n",
       "    </tr>\n",
       "    <tr>\n",
       "      <th>2</th>\n",
       "      <td>hsa-let-7a-3</td>\n",
       "      <td>5913.311862</td>\n",
       "      <td>5498.172459</td>\n",
       "      <td>3852.399735</td>\n",
       "      <td>4126.215855</td>\n",
       "      <td>5005.512379</td>\n",
       "      <td>3954.410924</td>\n",
       "      <td>4345.840549</td>\n",
       "      <td>4951.473175</td>\n",
       "      <td>7519.926886</td>\n",
       "      <td>...</td>\n",
       "      <td>5800.563250</td>\n",
       "      <td>5499.186326</td>\n",
       "      <td>3229.221075</td>\n",
       "      <td>7398.416586</td>\n",
       "      <td>4083.607719</td>\n",
       "      <td>4419.330479</td>\n",
       "      <td>5178.294211</td>\n",
       "      <td>4248.410318</td>\n",
       "      <td>5400.827010</td>\n",
       "      <td>5323.701784</td>\n",
       "    </tr>\n",
       "    <tr>\n",
       "      <th>3</th>\n",
       "      <td>hsa-let-7b</td>\n",
       "      <td>16781.396390</td>\n",
       "      <td>24295.057030</td>\n",
       "      <td>13874.291040</td>\n",
       "      <td>12566.112020</td>\n",
       "      <td>23486.098880</td>\n",
       "      <td>8205.507344</td>\n",
       "      <td>7951.159940</td>\n",
       "      <td>17202.190110</td>\n",
       "      <td>16340.200020</td>\n",
       "      <td>...</td>\n",
       "      <td>19234.258720</td>\n",
       "      <td>5418.600119</td>\n",
       "      <td>8983.274297</td>\n",
       "      <td>11987.226100</td>\n",
       "      <td>3413.393594</td>\n",
       "      <td>6637.365662</td>\n",
       "      <td>7411.215183</td>\n",
       "      <td>7046.492717</td>\n",
       "      <td>18204.615870</td>\n",
       "      <td>11409.868080</td>\n",
       "    </tr>\n",
       "    <tr>\n",
       "      <th>4</th>\n",
       "      <td>hsa-let-7c</td>\n",
       "      <td>403.700120</td>\n",
       "      <td>3577.340401</td>\n",
       "      <td>1686.103124</td>\n",
       "      <td>1656.879446</td>\n",
       "      <td>2102.854892</td>\n",
       "      <td>829.642709</td>\n",
       "      <td>371.977398</td>\n",
       "      <td>1283.264683</td>\n",
       "      <td>3621.954997</td>\n",
       "      <td>...</td>\n",
       "      <td>2085.599953</td>\n",
       "      <td>1673.808414</td>\n",
       "      <td>1519.920192</td>\n",
       "      <td>480.781227</td>\n",
       "      <td>224.104362</td>\n",
       "      <td>306.432953</td>\n",
       "      <td>888.461497</td>\n",
       "      <td>2244.515827</td>\n",
       "      <td>7155.758773</td>\n",
       "      <td>1407.344141</td>\n",
       "    </tr>\n",
       "  </tbody>\n",
       "</table>\n",
       "<p>5 rows × 388 columns</p>\n",
       "</div>"
      ],
      "text/plain": [
       "       sampleID  TCGA.18.5592.01  TCGA.18.5595.01  TCGA.21.5782.01  \\\n",
       "0  hsa-let-7a-1      5998.824696      5348.668096      3829.339596   \n",
       "1  hsa-let-7a-2     11667.530080     10618.397890      7731.024727   \n",
       "2  hsa-let-7a-3      5913.311862      5498.172459      3852.399735   \n",
       "3    hsa-let-7b     16781.396390     24295.057030     13874.291040   \n",
       "4    hsa-let-7c       403.700120      3577.340401      1686.103124   \n",
       "\n",
       "   TCGA.21.5783.01  TCGA.21.5784.01  TCGA.21.5786.01  TCGA.21.5787.01  \\\n",
       "0      4114.228785      5035.557137      4015.422861      4258.855065   \n",
       "1      8111.916613     10008.799220      7841.828348      8660.778360   \n",
       "2      4126.215855      5005.512379      3954.410924      4345.840549   \n",
       "3     12566.112020     23486.098880      8205.507344      7951.159940   \n",
       "4      1656.879446      2102.854892       829.642709       371.977398   \n",
       "\n",
       "   TCGA.21.A5DI.01  TCGA.22.4593.01  ...  TCGA.NK.A5CX.01  TCGA.NK.A5D1.01  \\\n",
       "0      4928.943949      7679.403313  ...      5775.836490      5505.353638   \n",
       "1      9710.772056     15115.502850  ...     11436.777210     10833.499850   \n",
       "2      4951.473175      7519.926886  ...      5800.563250      5499.186326   \n",
       "3     17202.190110     16340.200020  ...     19234.258720      5418.600119   \n",
       "4      1283.264683      3621.954997  ...      2085.599953      1673.808414   \n",
       "\n",
       "   TCGA.NK.A7XE.01  TCGA.O2.A52N.01  TCGA.O2.A52Q.01  TCGA.O2.A52S.01  \\\n",
       "0      3229.464808      7378.365469      4047.602479      4451.880261   \n",
       "1      6379.716329     14669.397180      8098.918503      8931.195340   \n",
       "2      3229.221075      7398.416586      4083.607719      4419.330479   \n",
       "3      8983.274297     11987.226100      3413.393594      6637.365662   \n",
       "4      1519.920192       480.781227       224.104362       306.432953   \n",
       "\n",
       "   TCGA.O2.A52V.01  TCGA.O2.A52W.01  TCGA.O2.A5IB.01  TCGA.XC.AA0X.01  \n",
       "0      5131.082659      4156.836712      5322.569378      5334.495709  \n",
       "1     10209.391080      8389.022277     10547.798170     10619.614950  \n",
       "2      5178.294211      4248.410318      5400.827010      5323.701784  \n",
       "3      7411.215183      7046.492717     18204.615870     11409.868080  \n",
       "4       888.461497      2244.515827      7155.758773      1407.344141  \n",
       "\n",
       "[5 rows x 388 columns]"
      ]
     },
     "execution_count": 41,
     "metadata": {},
     "output_type": "execute_result"
    }
   ],
   "source": [
    "print(\"MIRNA  :\")\n",
    "dataframe2.head()"
   ]
  },
  {
   "cell_type": "code",
   "execution_count": 42,
   "metadata": {},
   "outputs": [
    {
     "name": "stdout",
     "output_type": "stream",
     "text": [
      "DNA METHYLATION :\n"
     ]
    },
    {
     "data": {
      "text/html": [
       "<div>\n",
       "<style scoped>\n",
       "    .dataframe tbody tr th:only-of-type {\n",
       "        vertical-align: middle;\n",
       "    }\n",
       "\n",
       "    .dataframe tbody tr th {\n",
       "        vertical-align: top;\n",
       "    }\n",
       "\n",
       "    .dataframe thead th {\n",
       "        text-align: right;\n",
       "    }\n",
       "</style>\n",
       "<table border=\"1\" class=\"dataframe\">\n",
       "  <thead>\n",
       "    <tr style=\"text-align: right;\">\n",
       "      <th></th>\n",
       "      <th>sampleID</th>\n",
       "      <th>TCGA.18.3417.11</th>\n",
       "      <th>TCGA.18.3417.01</th>\n",
       "      <th>TCGA.18.4721.11</th>\n",
       "      <th>TCGA.18.4721.01</th>\n",
       "      <th>TCGA.18.5592.11</th>\n",
       "      <th>TCGA.18.5592.01</th>\n",
       "      <th>TCGA.18.5595.11</th>\n",
       "      <th>TCGA.18.5595.01</th>\n",
       "      <th>TCGA.21.5782.01</th>\n",
       "      <th>...</th>\n",
       "      <th>TCGA.NK.A5CX.01</th>\n",
       "      <th>TCGA.NK.A5D1.01</th>\n",
       "      <th>TCGA.NK.A7XE.01</th>\n",
       "      <th>TCGA.O2.A52N.01</th>\n",
       "      <th>TCGA.O2.A52Q.01</th>\n",
       "      <th>TCGA.O2.A52S.01</th>\n",
       "      <th>TCGA.O2.A52V.01</th>\n",
       "      <th>TCGA.O2.A52W.01</th>\n",
       "      <th>TCGA.O2.A5IB.01</th>\n",
       "      <th>TCGA.XC.AA0X.01</th>\n",
       "    </tr>\n",
       "  </thead>\n",
       "  <tbody>\n",
       "    <tr>\n",
       "      <th>0</th>\n",
       "      <td>cg00001747</td>\n",
       "      <td>0.015847</td>\n",
       "      <td>0.149876</td>\n",
       "      <td>0.029427</td>\n",
       "      <td>0.502545</td>\n",
       "      <td>0.026310</td>\n",
       "      <td>0.707292</td>\n",
       "      <td>0.020024</td>\n",
       "      <td>0.814340</td>\n",
       "      <td>0.263798</td>\n",
       "      <td>...</td>\n",
       "      <td>0.582352</td>\n",
       "      <td>0.019218</td>\n",
       "      <td>0.027433</td>\n",
       "      <td>0.152135</td>\n",
       "      <td>0.337585</td>\n",
       "      <td>0.054299</td>\n",
       "      <td>0.319541</td>\n",
       "      <td>0.267496</td>\n",
       "      <td>0.018694</td>\n",
       "      <td>0.204720</td>\n",
       "    </tr>\n",
       "    <tr>\n",
       "      <th>1</th>\n",
       "      <td>cg00002719</td>\n",
       "      <td>0.018211</td>\n",
       "      <td>0.698299</td>\n",
       "      <td>0.018122</td>\n",
       "      <td>0.414059</td>\n",
       "      <td>0.020022</td>\n",
       "      <td>0.365875</td>\n",
       "      <td>0.019219</td>\n",
       "      <td>0.766738</td>\n",
       "      <td>0.380456</td>\n",
       "      <td>...</td>\n",
       "      <td>0.029956</td>\n",
       "      <td>0.025137</td>\n",
       "      <td>0.040911</td>\n",
       "      <td>0.026605</td>\n",
       "      <td>0.045732</td>\n",
       "      <td>0.805444</td>\n",
       "      <td>0.037157</td>\n",
       "      <td>0.490965</td>\n",
       "      <td>0.020165</td>\n",
       "      <td>0.358758</td>\n",
       "    </tr>\n",
       "    <tr>\n",
       "      <th>2</th>\n",
       "      <td>cg00002749</td>\n",
       "      <td>0.947105</td>\n",
       "      <td>0.550682</td>\n",
       "      <td>0.950470</td>\n",
       "      <td>0.674452</td>\n",
       "      <td>0.955821</td>\n",
       "      <td>0.133416</td>\n",
       "      <td>0.949246</td>\n",
       "      <td>0.769248</td>\n",
       "      <td>0.468247</td>\n",
       "      <td>...</td>\n",
       "      <td>0.716054</td>\n",
       "      <td>0.863625</td>\n",
       "      <td>0.634855</td>\n",
       "      <td>0.899422</td>\n",
       "      <td>0.883124</td>\n",
       "      <td>0.321912</td>\n",
       "      <td>0.631143</td>\n",
       "      <td>0.620450</td>\n",
       "      <td>0.902561</td>\n",
       "      <td>0.580539</td>\n",
       "    </tr>\n",
       "    <tr>\n",
       "      <th>3</th>\n",
       "      <td>cg00003298</td>\n",
       "      <td>0.012583</td>\n",
       "      <td>0.085973</td>\n",
       "      <td>0.015727</td>\n",
       "      <td>0.536764</td>\n",
       "      <td>0.017323</td>\n",
       "      <td>0.735382</td>\n",
       "      <td>0.016739</td>\n",
       "      <td>0.347104</td>\n",
       "      <td>0.073598</td>\n",
       "      <td>...</td>\n",
       "      <td>0.169169</td>\n",
       "      <td>0.021419</td>\n",
       "      <td>0.208396</td>\n",
       "      <td>0.614912</td>\n",
       "      <td>0.024274</td>\n",
       "      <td>0.035164</td>\n",
       "      <td>0.377720</td>\n",
       "      <td>0.033130</td>\n",
       "      <td>0.054073</td>\n",
       "      <td>0.278738</td>\n",
       "    </tr>\n",
       "    <tr>\n",
       "      <th>4</th>\n",
       "      <td>cg00009292</td>\n",
       "      <td>0.062456</td>\n",
       "      <td>0.559790</td>\n",
       "      <td>0.066961</td>\n",
       "      <td>0.351668</td>\n",
       "      <td>0.069340</td>\n",
       "      <td>0.632683</td>\n",
       "      <td>0.068826</td>\n",
       "      <td>0.663676</td>\n",
       "      <td>0.258305</td>\n",
       "      <td>...</td>\n",
       "      <td>0.089489</td>\n",
       "      <td>0.073494</td>\n",
       "      <td>0.058466</td>\n",
       "      <td>0.636490</td>\n",
       "      <td>0.252254</td>\n",
       "      <td>0.101868</td>\n",
       "      <td>0.358253</td>\n",
       "      <td>0.624307</td>\n",
       "      <td>0.835780</td>\n",
       "      <td>0.211610</td>\n",
       "    </tr>\n",
       "  </tbody>\n",
       "</table>\n",
       "<p>5 rows × 413 columns</p>\n",
       "</div>"
      ],
      "text/plain": [
       "     sampleID  TCGA.18.3417.11  TCGA.18.3417.01  TCGA.18.4721.11  \\\n",
       "0  cg00001747         0.015847         0.149876         0.029427   \n",
       "1  cg00002719         0.018211         0.698299         0.018122   \n",
       "2  cg00002749         0.947105         0.550682         0.950470   \n",
       "3  cg00003298         0.012583         0.085973         0.015727   \n",
       "4  cg00009292         0.062456         0.559790         0.066961   \n",
       "\n",
       "   TCGA.18.4721.01  TCGA.18.5592.11  TCGA.18.5592.01  TCGA.18.5595.11  \\\n",
       "0         0.502545         0.026310         0.707292         0.020024   \n",
       "1         0.414059         0.020022         0.365875         0.019219   \n",
       "2         0.674452         0.955821         0.133416         0.949246   \n",
       "3         0.536764         0.017323         0.735382         0.016739   \n",
       "4         0.351668         0.069340         0.632683         0.068826   \n",
       "\n",
       "   TCGA.18.5595.01  TCGA.21.5782.01  ...  TCGA.NK.A5CX.01  TCGA.NK.A5D1.01  \\\n",
       "0         0.814340         0.263798  ...         0.582352         0.019218   \n",
       "1         0.766738         0.380456  ...         0.029956         0.025137   \n",
       "2         0.769248         0.468247  ...         0.716054         0.863625   \n",
       "3         0.347104         0.073598  ...         0.169169         0.021419   \n",
       "4         0.663676         0.258305  ...         0.089489         0.073494   \n",
       "\n",
       "   TCGA.NK.A7XE.01  TCGA.O2.A52N.01  TCGA.O2.A52Q.01  TCGA.O2.A52S.01  \\\n",
       "0         0.027433         0.152135         0.337585         0.054299   \n",
       "1         0.040911         0.026605         0.045732         0.805444   \n",
       "2         0.634855         0.899422         0.883124         0.321912   \n",
       "3         0.208396         0.614912         0.024274         0.035164   \n",
       "4         0.058466         0.636490         0.252254         0.101868   \n",
       "\n",
       "   TCGA.O2.A52V.01  TCGA.O2.A52W.01  TCGA.O2.A5IB.01  TCGA.XC.AA0X.01  \n",
       "0         0.319541         0.267496         0.018694         0.204720  \n",
       "1         0.037157         0.490965         0.020165         0.358758  \n",
       "2         0.631143         0.620450         0.902561         0.580539  \n",
       "3         0.377720         0.033130         0.054073         0.278738  \n",
       "4         0.358253         0.624307         0.835780         0.211610  \n",
       "\n",
       "[5 rows x 413 columns]"
      ]
     },
     "execution_count": 42,
     "metadata": {},
     "output_type": "execute_result"
    }
   ],
   "source": [
    "print(\"DNA METHYLATION :\")\n",
    "dataframe3.head()"
   ]
  },
  {
   "cell_type": "code",
   "execution_count": 43,
   "metadata": {},
   "outputs": [
    {
     "name": "stdout",
     "output_type": "stream",
     "text": [
      "CLINICAL :\n"
     ]
    },
    {
     "data": {
      "text/html": [
       "<div>\n",
       "<style scoped>\n",
       "    .dataframe tbody tr th:only-of-type {\n",
       "        vertical-align: middle;\n",
       "    }\n",
       "\n",
       "    .dataframe tbody tr th {\n",
       "        vertical-align: top;\n",
       "    }\n",
       "\n",
       "    .dataframe thead th {\n",
       "        text-align: right;\n",
       "    }\n",
       "</style>\n",
       "<table border=\"1\" class=\"dataframe\">\n",
       "  <thead>\n",
       "    <tr style=\"text-align: right;\">\n",
       "      <th></th>\n",
       "      <th>sampleID</th>\n",
       "      <th>_EVENT</th>\n",
       "      <th>_INTEGRATION</th>\n",
       "      <th>_OS</th>\n",
       "      <th>_OS_IND</th>\n",
       "      <th>_OS_UNIT</th>\n",
       "      <th>_PANCAN_CNA_PANCAN_K8</th>\n",
       "      <th>_PANCAN_Cluster_Cluster_PANCAN</th>\n",
       "      <th>_PANCAN_DNAMethyl_LUSC</th>\n",
       "      <th>_PANCAN_DNAMethyl_PANCAN</th>\n",
       "      <th>...</th>\n",
       "      <th>_GENOMIC_ID_TCGA_LUSC_PDMRNAseqCNV</th>\n",
       "      <th>_GENOMIC_ID_TCGA_LUSC_gistic2</th>\n",
       "      <th>_GENOMIC_ID_TCGA_LUSC_PDMarray</th>\n",
       "      <th>_GENOMIC_ID_TCGA_LUSC_exp_HiSeqV2_exon</th>\n",
       "      <th>_GENOMIC_ID_TCGA_LUSC_PDMarrayCNV</th>\n",
       "      <th>_GENOMIC_ID_TCGA_LUSC_exp_HiSeqV2_PANCAN</th>\n",
       "      <th>_GENOMIC_ID_data/public/TCGA/LUSC/miRNA_GA_gene</th>\n",
       "      <th>_GENOMIC_ID_TCGA_LUSC_gistic2thd</th>\n",
       "      <th>_GENOMIC_ID_TCGA_LUSC_hMethyl450</th>\n",
       "      <th>_GENOMIC_ID_TCGA_LUSC_RPPA</th>\n",
       "    </tr>\n",
       "  </thead>\n",
       "  <tbody>\n",
       "    <tr>\n",
       "      <th>0</th>\n",
       "      <td>TCGA-18-3406-01</td>\n",
       "      <td>1.0</td>\n",
       "      <td>TCGA-18-3406-01</td>\n",
       "      <td>371.0</td>\n",
       "      <td>1.0</td>\n",
       "      <td>days</td>\n",
       "      <td>Squamous</td>\n",
       "      <td>C2-Squamous-like</td>\n",
       "      <td>cluster 1</td>\n",
       "      <td>Cluster 13 (HNSC-LUSC)</td>\n",
       "      <td>...</td>\n",
       "      <td>TCGA-18-3406-01</td>\n",
       "      <td>TCGA-18-3406-01A-01D-0978-01</td>\n",
       "      <td>TCGA-18-3406-01</td>\n",
       "      <td>99516b1e-9ee2-48d9-90e4-e78370eccef6</td>\n",
       "      <td>TCGA-18-3406-01</td>\n",
       "      <td>99516b1e-9ee2-48d9-90e4-e78370eccef6</td>\n",
       "      <td>TCGA-18-3406-01</td>\n",
       "      <td>TCGA-18-3406-01A-01D-0978-01</td>\n",
       "      <td>NaN</td>\n",
       "      <td>NaN</td>\n",
       "    </tr>\n",
       "    <tr>\n",
       "      <th>1</th>\n",
       "      <td>TCGA-18-3406-11</td>\n",
       "      <td>1.0</td>\n",
       "      <td>TCGA-18-3406-11</td>\n",
       "      <td>371.0</td>\n",
       "      <td>1.0</td>\n",
       "      <td>days</td>\n",
       "      <td>NaN</td>\n",
       "      <td>C2-Squamous-like</td>\n",
       "      <td>NaN</td>\n",
       "      <td>NaN</td>\n",
       "      <td>...</td>\n",
       "      <td>NaN</td>\n",
       "      <td>NaN</td>\n",
       "      <td>NaN</td>\n",
       "      <td>NaN</td>\n",
       "      <td>NaN</td>\n",
       "      <td>NaN</td>\n",
       "      <td>NaN</td>\n",
       "      <td>NaN</td>\n",
       "      <td>NaN</td>\n",
       "      <td>NaN</td>\n",
       "    </tr>\n",
       "    <tr>\n",
       "      <th>2</th>\n",
       "      <td>TCGA-18-3407-01</td>\n",
       "      <td>1.0</td>\n",
       "      <td>TCGA-18-3407-01</td>\n",
       "      <td>136.0</td>\n",
       "      <td>1.0</td>\n",
       "      <td>days</td>\n",
       "      <td>High</td>\n",
       "      <td>C2-Squamous-like</td>\n",
       "      <td>cluster 2</td>\n",
       "      <td>Cluster 14 (HNSC)</td>\n",
       "      <td>...</td>\n",
       "      <td>TCGA-18-3407-01</td>\n",
       "      <td>TCGA-18-3407-01A-01D-1969-01</td>\n",
       "      <td>TCGA-18-3407-01</td>\n",
       "      <td>0aea71d4-f403-474a-91d3-f9b0929c0acf</td>\n",
       "      <td>TCGA-18-3407-01</td>\n",
       "      <td>0aea71d4-f403-474a-91d3-f9b0929c0acf</td>\n",
       "      <td>TCGA-18-3407-01</td>\n",
       "      <td>TCGA-18-3407-01A-01D-1969-01</td>\n",
       "      <td>NaN</td>\n",
       "      <td>NaN</td>\n",
       "    </tr>\n",
       "    <tr>\n",
       "      <th>3</th>\n",
       "      <td>TCGA-18-3407-11</td>\n",
       "      <td>1.0</td>\n",
       "      <td>TCGA-18-3407-11</td>\n",
       "      <td>136.0</td>\n",
       "      <td>1.0</td>\n",
       "      <td>days</td>\n",
       "      <td>NaN</td>\n",
       "      <td>C2-Squamous-like</td>\n",
       "      <td>NaN</td>\n",
       "      <td>NaN</td>\n",
       "      <td>...</td>\n",
       "      <td>NaN</td>\n",
       "      <td>NaN</td>\n",
       "      <td>NaN</td>\n",
       "      <td>NaN</td>\n",
       "      <td>NaN</td>\n",
       "      <td>NaN</td>\n",
       "      <td>NaN</td>\n",
       "      <td>NaN</td>\n",
       "      <td>NaN</td>\n",
       "      <td>NaN</td>\n",
       "    </tr>\n",
       "    <tr>\n",
       "      <th>4</th>\n",
       "      <td>TCGA-18-3408-01</td>\n",
       "      <td>1.0</td>\n",
       "      <td>TCGA-18-3408-01</td>\n",
       "      <td>2304.0</td>\n",
       "      <td>1.0</td>\n",
       "      <td>days</td>\n",
       "      <td>Squamous</td>\n",
       "      <td>C2-Squamous-like</td>\n",
       "      <td>cluster 3</td>\n",
       "      <td>Cluster 13 (HNSC-LUSC)</td>\n",
       "      <td>...</td>\n",
       "      <td>TCGA-18-3408-01</td>\n",
       "      <td>TCGA-18-3408-01A-01D-0978-01</td>\n",
       "      <td>TCGA-18-3408-01</td>\n",
       "      <td>43672213-eb65-4206-bc57-56587b08259f</td>\n",
       "      <td>TCGA-18-3408-01</td>\n",
       "      <td>43672213-eb65-4206-bc57-56587b08259f</td>\n",
       "      <td>TCGA-18-3408-01</td>\n",
       "      <td>TCGA-18-3408-01A-01D-0978-01</td>\n",
       "      <td>NaN</td>\n",
       "      <td>NaN</td>\n",
       "    </tr>\n",
       "  </tbody>\n",
       "</table>\n",
       "<p>5 rows × 127 columns</p>\n",
       "</div>"
      ],
      "text/plain": [
       "          sampleID  _EVENT     _INTEGRATION     _OS  _OS_IND _OS_UNIT  \\\n",
       "0  TCGA-18-3406-01     1.0  TCGA-18-3406-01   371.0      1.0     days   \n",
       "1  TCGA-18-3406-11     1.0  TCGA-18-3406-11   371.0      1.0     days   \n",
       "2  TCGA-18-3407-01     1.0  TCGA-18-3407-01   136.0      1.0     days   \n",
       "3  TCGA-18-3407-11     1.0  TCGA-18-3407-11   136.0      1.0     days   \n",
       "4  TCGA-18-3408-01     1.0  TCGA-18-3408-01  2304.0      1.0     days   \n",
       "\n",
       "  _PANCAN_CNA_PANCAN_K8 _PANCAN_Cluster_Cluster_PANCAN _PANCAN_DNAMethyl_LUSC  \\\n",
       "0              Squamous               C2-Squamous-like              cluster 1   \n",
       "1                   NaN               C2-Squamous-like                    NaN   \n",
       "2                  High               C2-Squamous-like              cluster 2   \n",
       "3                   NaN               C2-Squamous-like                    NaN   \n",
       "4              Squamous               C2-Squamous-like              cluster 3   \n",
       "\n",
       "  _PANCAN_DNAMethyl_PANCAN  ... _GENOMIC_ID_TCGA_LUSC_PDMRNAseqCNV  \\\n",
       "0   Cluster 13 (HNSC-LUSC)  ...                    TCGA-18-3406-01   \n",
       "1                      NaN  ...                                NaN   \n",
       "2        Cluster 14 (HNSC)  ...                    TCGA-18-3407-01   \n",
       "3                      NaN  ...                                NaN   \n",
       "4   Cluster 13 (HNSC-LUSC)  ...                    TCGA-18-3408-01   \n",
       "\n",
       "  _GENOMIC_ID_TCGA_LUSC_gistic2 _GENOMIC_ID_TCGA_LUSC_PDMarray  \\\n",
       "0  TCGA-18-3406-01A-01D-0978-01                TCGA-18-3406-01   \n",
       "1                           NaN                            NaN   \n",
       "2  TCGA-18-3407-01A-01D-1969-01                TCGA-18-3407-01   \n",
       "3                           NaN                            NaN   \n",
       "4  TCGA-18-3408-01A-01D-0978-01                TCGA-18-3408-01   \n",
       "\n",
       "  _GENOMIC_ID_TCGA_LUSC_exp_HiSeqV2_exon _GENOMIC_ID_TCGA_LUSC_PDMarrayCNV  \\\n",
       "0   99516b1e-9ee2-48d9-90e4-e78370eccef6                   TCGA-18-3406-01   \n",
       "1                                    NaN                               NaN   \n",
       "2   0aea71d4-f403-474a-91d3-f9b0929c0acf                   TCGA-18-3407-01   \n",
       "3                                    NaN                               NaN   \n",
       "4   43672213-eb65-4206-bc57-56587b08259f                   TCGA-18-3408-01   \n",
       "\n",
       "  _GENOMIC_ID_TCGA_LUSC_exp_HiSeqV2_PANCAN  \\\n",
       "0     99516b1e-9ee2-48d9-90e4-e78370eccef6   \n",
       "1                                      NaN   \n",
       "2     0aea71d4-f403-474a-91d3-f9b0929c0acf   \n",
       "3                                      NaN   \n",
       "4     43672213-eb65-4206-bc57-56587b08259f   \n",
       "\n",
       "   _GENOMIC_ID_data/public/TCGA/LUSC/miRNA_GA_gene  \\\n",
       "0                                  TCGA-18-3406-01   \n",
       "1                                              NaN   \n",
       "2                                  TCGA-18-3407-01   \n",
       "3                                              NaN   \n",
       "4                                  TCGA-18-3408-01   \n",
       "\n",
       "   _GENOMIC_ID_TCGA_LUSC_gistic2thd _GENOMIC_ID_TCGA_LUSC_hMethyl450  \\\n",
       "0      TCGA-18-3406-01A-01D-0978-01                              NaN   \n",
       "1                               NaN                              NaN   \n",
       "2      TCGA-18-3407-01A-01D-1969-01                              NaN   \n",
       "3                               NaN                              NaN   \n",
       "4      TCGA-18-3408-01A-01D-0978-01                              NaN   \n",
       "\n",
       "   _GENOMIC_ID_TCGA_LUSC_RPPA  \n",
       "0                         NaN  \n",
       "1                         NaN  \n",
       "2                         NaN  \n",
       "3                         NaN  \n",
       "4                         NaN  \n",
       "\n",
       "[5 rows x 127 columns]"
      ]
     },
     "execution_count": 43,
     "metadata": {},
     "output_type": "execute_result"
    }
   ],
   "source": [
    "print(\"CLINICAL :\")\n",
    "dataframe0.head()"
   ]
  },
  {
   "cell_type": "markdown",
   "metadata": {
    "id": "7jW2eNJEMbER"
   },
   "source": [
    "DATA TRANSPOSITION"
   ]
  },
  {
   "cell_type": "code",
   "execution_count": 44,
   "metadata": {
    "colab": {
     "base_uri": "https://localhost:8080/",
     "height": 84
    },
    "id": "Azhhj_dCMUy7",
    "outputId": "2e4287a9-a157-4ae5-fa19-f123b6b96f33"
   },
   "outputs": [],
   "source": [
    "#taking transpose of data\n",
    "dat1 = np.transpose(dataframe1)\n",
    "dat2 = np.transpose(dataframe2)\n",
    "dat3 = np.transpose(dataframe3)\n",
    "\n",
    "#removing duplicate data\n",
    "d1 = dat1.drop_duplicates() \n",
    "d2 = dat2.drop_duplicates() \n",
    "d3 = dat3.drop_duplicates() "
   ]
  },
  {
   "cell_type": "markdown",
   "metadata": {
    "id": "Ei9CmlMY_8dz"
   },
   "source": [
    "## EXPLORATORY DATA ANALYSIS (EDA)"
   ]
  },
  {
   "cell_type": "markdown",
   "metadata": {
    "id": "-v7jy3yPEspx"
   },
   "source": [
    "CHECKING FOR NON-NULL OBSERVATIONS & TOTAL NUMBER OF ENTRIES"
   ]
  },
  {
   "cell_type": "code",
   "execution_count": 11,
   "metadata": {},
   "outputs": [
    {
     "name": "stdout",
     "output_type": "stream",
     "text": [
      "Gene Expression:\n",
      "<class 'pandas.core.frame.DataFrame'>\n",
      "Index: 553 entries, sampleID to TCGA.XC.AA0X.01\n",
      "Columns: 20531 entries, 0 to 20530\n",
      "dtypes: object(20531)\n",
      "memory usage: 86.6+ MB\n",
      "MiRNA:\n",
      "<class 'pandas.core.frame.DataFrame'>\n",
      "Index: 388 entries, sampleID to TCGA.XC.AA0X.01\n",
      "Columns: 1046 entries, 0 to 1045\n",
      "dtypes: object(1046)\n",
      "memory usage: 3.1+ MB\n",
      "DNA Methylation:\n",
      "<class 'pandas.core.frame.DataFrame'>\n",
      "Index: 413 entries, sampleID to TCGA.XC.AA0X.01\n",
      "Columns: 5000 entries, 0 to 4999\n",
      "dtypes: object(5000)\n",
      "memory usage: 15.8+ MB\n"
     ]
    }
   ],
   "source": [
    "print(\"Gene Expression:\")\n",
    "d1.info()\n",
    "print(\"MiRNA:\")\n",
    "d2.info()\n",
    "print(\"DNA Methylation:\")\n",
    "d3.info()"
   ]
  },
  {
   "cell_type": "markdown",
   "metadata": {
    "id": "e_23QJTbFnSy"
   },
   "source": [
    "CHECKING FOR MISSING VALUES"
   ]
  },
  {
   "cell_type": "code",
   "execution_count": 13,
   "metadata": {
    "colab": {
     "base_uri": "https://localhost:8080/",
     "height": 235
    },
    "id": "Wq2B7z5kFsor",
    "outputId": "ac48a455-0aec-4b2f-8899-c4e18a6b2543"
   },
   "outputs": [
    {
     "name": "stdout",
     "output_type": "stream",
     "text": [
      "CHECKING MISSING VALUES IN GENE EXPRESSION\n"
     ]
    },
    {
     "data": {
      "text/plain": [
       "0        0\n",
       "1        0\n",
       "2        0\n",
       "3        0\n",
       "4        0\n",
       "        ..\n",
       "20526    0\n",
       "20527    0\n",
       "20528    0\n",
       "20529    0\n",
       "20530    0\n",
       "Length: 20531, dtype: int64"
      ]
     },
     "execution_count": 13,
     "metadata": {},
     "output_type": "execute_result"
    }
   ],
   "source": [
    "#Displays total NaNs found in each column\n",
    "print(\"CHECKING MISSING VALUES IN GENE EXPRESSION\")\n",
    "d1.isnull().sum() "
   ]
  },
  {
   "cell_type": "code",
   "execution_count": 14,
   "metadata": {
    "colab": {
     "base_uri": "https://localhost:8080/",
     "height": 235
    },
    "id": "eiEdL_GOGV47",
    "outputId": "0a5192ee-1974-454d-ebd8-42aa3945ca30"
   },
   "outputs": [
    {
     "name": "stdout",
     "output_type": "stream",
     "text": [
      "CHECKING MISSING VALUES IN MIRNA\n"
     ]
    },
    {
     "data": {
      "text/plain": [
       "0       0\n",
       "1       0\n",
       "2       0\n",
       "3       0\n",
       "4       0\n",
       "       ..\n",
       "1041    0\n",
       "1042    0\n",
       "1043    0\n",
       "1044    0\n",
       "1045    0\n",
       "Length: 1046, dtype: int64"
      ]
     },
     "execution_count": 14,
     "metadata": {},
     "output_type": "execute_result"
    }
   ],
   "source": [
    "#Displays total NaNs found in each column\n",
    "print(\"CHECKING MISSING VALUES IN MIRNA\")\n",
    "d2.isnull().sum()"
   ]
  },
  {
   "cell_type": "code",
   "execution_count": 15,
   "metadata": {
    "colab": {
     "base_uri": "https://localhost:8080/",
     "height": 235
    },
    "id": "hPSnhu6vGXlK",
    "outputId": "93b1ce71-22f5-41be-8a9b-a04315f614ca"
   },
   "outputs": [
    {
     "name": "stdout",
     "output_type": "stream",
     "text": [
      "CHECKING MISSING VALUES IN DNA METHYLATION\n"
     ]
    },
    {
     "data": {
      "text/plain": [
       "0       0\n",
       "1       0\n",
       "2       0\n",
       "3       0\n",
       "4       0\n",
       "       ..\n",
       "4995    0\n",
       "4996    0\n",
       "4997    0\n",
       "4998    0\n",
       "4999    0\n",
       "Length: 5000, dtype: int64"
      ]
     },
     "execution_count": 15,
     "metadata": {},
     "output_type": "execute_result"
    }
   ],
   "source": [
    "#Displays total NaNs found in each column\n",
    "print(\"CHECKING MISSING VALUES IN DNA METHYLATION\")\n",
    "d3.isnull().sum()"
   ]
  },
  {
   "cell_type": "markdown",
   "metadata": {
    "id": "GU4dtIXgGgUr"
   },
   "source": [
    "CHECKING FOR MISSING VALUES IN FORM OF ZEROS"
   ]
  },
  {
   "cell_type": "code",
   "execution_count": 16,
   "metadata": {
    "colab": {
     "base_uri": "https://localhost:8080/",
     "height": 235
    },
    "id": "vOue5OpYNf2q",
    "outputId": "54b5cd49-0b24-4695-855f-5a31d4196988"
   },
   "outputs": [
    {
     "name": "stdout",
     "output_type": "stream",
     "text": [
      "Printing Columns with Missing Values:\n"
     ]
    },
    {
     "data": {
      "text/plain": [
       "0        534\n",
       "1         15\n",
       "2          5\n",
       "3          0\n",
       "4          0\n",
       "        ... \n",
       "20526      0\n",
       "20527      0\n",
       "20528      0\n",
       "20529      0\n",
       "20530    358\n",
       "Length: 20531, dtype: int64"
      ]
     },
     "execution_count": 16,
     "metadata": {},
     "output_type": "execute_result"
    }
   ],
   "source": [
    "zeros_genes = (d1 == 0).sum() #Checking for Zeros in Gene Expression\n",
    "print(\"Printing Columns with Missing Values:\")\n",
    "zeros_genes"
   ]
  },
  {
   "cell_type": "code",
   "execution_count": 17,
   "metadata": {
    "colab": {
     "base_uri": "https://localhost:8080/",
     "height": 235
    },
    "id": "dfzUbA1cN0Ld",
    "outputId": "231c17d2-7f33-4262-b351-512b1a4015c8"
   },
   "outputs": [
    {
     "name": "stdout",
     "output_type": "stream",
     "text": [
      "Printing Columns with Missing Values:\n"
     ]
    },
    {
     "data": {
      "text/plain": [
       "0        0\n",
       "1        0\n",
       "2        0\n",
       "3        0\n",
       "4        0\n",
       "        ..\n",
       "1041    10\n",
       "1042     0\n",
       "1043     0\n",
       "1044     0\n",
       "1045     0\n",
       "Length: 1046, dtype: int64"
      ]
     },
     "execution_count": 17,
     "metadata": {},
     "output_type": "execute_result"
    }
   ],
   "source": [
    "zeros_mirna = (d2 == 0).sum() #Checking for Zeros in MIRNA\n",
    "print(\"Printing Columns with Missing Values:\")\n",
    "zeros_mirna"
   ]
  },
  {
   "cell_type": "code",
   "execution_count": 18,
   "metadata": {
    "colab": {
     "base_uri": "https://localhost:8080/",
     "height": 235
    },
    "id": "LVUBkRsPOAlS",
    "outputId": "6d6112b2-cea3-40d0-fcd7-e5a783200ce2"
   },
   "outputs": [
    {
     "name": "stdout",
     "output_type": "stream",
     "text": [
      "Printing Columns with Missing Values:\n"
     ]
    },
    {
     "data": {
      "text/plain": [
       "0       0\n",
       "1       0\n",
       "2       0\n",
       "3       0\n",
       "4       0\n",
       "       ..\n",
       "4995    0\n",
       "4996    0\n",
       "4997    0\n",
       "4998    0\n",
       "4999    0\n",
       "Length: 5000, dtype: int64"
      ]
     },
     "execution_count": 18,
     "metadata": {},
     "output_type": "execute_result"
    }
   ],
   "source": [
    "zeros_methy = (d3 == 0).sum() #Checking for Zeros in DNA Methylation\n",
    "print(\"Printing Columns with Missing Values:\")\n",
    "zeros_methy"
   ]
  },
  {
   "cell_type": "markdown",
   "metadata": {
    "id": "Ar-6Eq9NQNx9"
   },
   "source": [
    "REPLACING ZEROS WITH NaNs"
   ]
  },
  {
   "cell_type": "code",
   "execution_count": 19,
   "metadata": {},
   "outputs": [],
   "source": [
    "#d0_new = d0.replace(0, np.nan)\n",
    "d1_new = d1.replace(0, np.nan) \n",
    "d2_new = d2.replace(0, np.nan) \n",
    "d3_new = d3.replace(0, np.nan) "
   ]
  },
  {
   "cell_type": "markdown",
   "metadata": {
    "id": "EAlPrC_1D4fb"
   },
   "source": [
    "DROPPING COLUMNS CONTAINING NULL VALUES"
   ]
  },
  {
   "cell_type": "code",
   "execution_count": 20,
   "metadata": {},
   "outputs": [],
   "source": [
    "#Dropping columns containing NaN values\n",
    "\n",
    "GENE = d1_new.dropna(axis=1,how='any',thresh=None,subset=None, inplace=False)\n",
    "MIRNA = d2_new.dropna(axis=1,how='any',thresh=None,subset=None, inplace=False)\n",
    "METHY = d3_new.dropna(axis=1,how='any',thresh=None,subset=None, inplace=False)"
   ]
  },
  {
   "cell_type": "markdown",
   "metadata": {
    "id": "BBLv_dUz9y_6"
   },
   "source": [
    "OMICS DATA WITHOUT NULL VALUES"
   ]
  },
  {
   "cell_type": "code",
   "execution_count": 21,
   "metadata": {},
   "outputs": [
    {
     "name": "stdout",
     "output_type": "stream",
     "text": [
      "<class 'pandas.core.frame.DataFrame'>\n",
      "Index: 553 entries, sampleID to TCGA.XC.AA0X.01\n",
      "Columns: 13434 entries, 3 to 20529\n",
      "dtypes: object(13434)\n",
      "memory usage: 56.7+ MB\n"
     ]
    }
   ],
   "source": [
    "GENE.info()"
   ]
  },
  {
   "cell_type": "code",
   "execution_count": 22,
   "metadata": {
    "colab": {
     "base_uri": "https://localhost:8080/",
     "height": 101
    },
    "id": "90zuKTSGH4ZP",
    "outputId": "f056bf98-e8af-4730-e0f8-e380897af9a4"
   },
   "outputs": [
    {
     "name": "stdout",
     "output_type": "stream",
     "text": [
      "<class 'pandas.core.frame.DataFrame'>\n",
      "Index: 388 entries, sampleID to TCGA.XC.AA0X.01\n",
      "Columns: 230 entries, 0 to 1045\n",
      "dtypes: object(230)\n",
      "memory usage: 700.2+ KB\n"
     ]
    }
   ],
   "source": [
    "MIRNA.info()"
   ]
  },
  {
   "cell_type": "code",
   "execution_count": 23,
   "metadata": {
    "colab": {
     "base_uri": "https://localhost:8080/",
     "height": 101
    },
    "id": "wx8ow3TiH9Mp",
    "outputId": "66397373-605e-45ca-fce3-f04dcc1d682f"
   },
   "outputs": [
    {
     "name": "stdout",
     "output_type": "stream",
     "text": [
      "<class 'pandas.core.frame.DataFrame'>\n",
      "Index: 413 entries, sampleID to TCGA.XC.AA0X.01\n",
      "Columns: 5000 entries, 0 to 4999\n",
      "dtypes: object(5000)\n",
      "memory usage: 15.8+ MB\n"
     ]
    }
   ],
   "source": [
    "METHY.info()"
   ]
  },
  {
   "cell_type": "markdown",
   "metadata": {
    "id": "sXFy9NwRsQm3"
   },
   "source": [
    "DROPPING ALL COLUMNS EXCEPT SAMPLE ID & TYPE IN CLINICAL DATA"
   ]
  },
  {
   "cell_type": "code",
   "execution_count": 24,
   "metadata": {
    "id": "oCH0dQ4jLQ9f"
   },
   "outputs": [],
   "source": [
    "dataframe0.drop(dataframe0.columns.difference(['sampleID','sample_type']), 1, inplace=True) #Dropping all columns except Sample_ID & Sample type"
   ]
  },
  {
   "cell_type": "markdown",
   "metadata": {
    "id": "ENddHU9csYZy"
   },
   "source": [
    "CLINICAL DATA SEGMENTATION"
   ]
  },
  {
   "cell_type": "code",
   "execution_count": 25,
   "metadata": {
    "colab": {
     "base_uri": "https://localhost:8080/",
     "height": 402
    },
    "id": "Q5NDqWGdtBFU",
    "outputId": "ab53517b-92b0-4034-9261-08e88b42c37f"
   },
   "outputs": [
    {
     "data": {
      "text/html": [
       "<div>\n",
       "<style scoped>\n",
       "    .dataframe tbody tr th:only-of-type {\n",
       "        vertical-align: middle;\n",
       "    }\n",
       "\n",
       "    .dataframe tbody tr th {\n",
       "        vertical-align: top;\n",
       "    }\n",
       "\n",
       "    .dataframe thead th {\n",
       "        text-align: right;\n",
       "    }\n",
       "</style>\n",
       "<table border=\"1\" class=\"dataframe\">\n",
       "  <thead>\n",
       "    <tr style=\"text-align: right;\">\n",
       "      <th></th>\n",
       "      <th>sampleID</th>\n",
       "      <th>sample_type</th>\n",
       "    </tr>\n",
       "  </thead>\n",
       "  <tbody>\n",
       "    <tr>\n",
       "      <th>0</th>\n",
       "      <td>TCGA-18-3406-01</td>\n",
       "      <td>Primary Tumor</td>\n",
       "    </tr>\n",
       "    <tr>\n",
       "      <th>1</th>\n",
       "      <td>TCGA-18-3406-11</td>\n",
       "      <td>Solid Tissue Normal</td>\n",
       "    </tr>\n",
       "    <tr>\n",
       "      <th>2</th>\n",
       "      <td>TCGA-18-3407-01</td>\n",
       "      <td>Primary Tumor</td>\n",
       "    </tr>\n",
       "    <tr>\n",
       "      <th>3</th>\n",
       "      <td>TCGA-18-3407-11</td>\n",
       "      <td>Solid Tissue Normal</td>\n",
       "    </tr>\n",
       "    <tr>\n",
       "      <th>4</th>\n",
       "      <td>TCGA-18-3408-01</td>\n",
       "      <td>Primary Tumor</td>\n",
       "    </tr>\n",
       "    <tr>\n",
       "      <th>...</th>\n",
       "      <td>...</td>\n",
       "      <td>...</td>\n",
       "    </tr>\n",
       "    <tr>\n",
       "      <th>621</th>\n",
       "      <td>TCGA-O2-A52V-01</td>\n",
       "      <td>Primary Tumor</td>\n",
       "    </tr>\n",
       "    <tr>\n",
       "      <th>622</th>\n",
       "      <td>TCGA-O2-A52W-01</td>\n",
       "      <td>Primary Tumor</td>\n",
       "    </tr>\n",
       "    <tr>\n",
       "      <th>623</th>\n",
       "      <td>TCGA-O2-A5IB-01</td>\n",
       "      <td>Primary Tumor</td>\n",
       "    </tr>\n",
       "    <tr>\n",
       "      <th>624</th>\n",
       "      <td>TCGA-O2-A5IC-01</td>\n",
       "      <td>Primary Tumor</td>\n",
       "    </tr>\n",
       "    <tr>\n",
       "      <th>625</th>\n",
       "      <td>TCGA-XC-AA0X-01</td>\n",
       "      <td>Primary Tumor</td>\n",
       "    </tr>\n",
       "  </tbody>\n",
       "</table>\n",
       "<p>626 rows × 2 columns</p>\n",
       "</div>"
      ],
      "text/plain": [
       "            sampleID          sample_type\n",
       "0    TCGA-18-3406-01        Primary Tumor\n",
       "1    TCGA-18-3406-11  Solid Tissue Normal\n",
       "2    TCGA-18-3407-01        Primary Tumor\n",
       "3    TCGA-18-3407-11  Solid Tissue Normal\n",
       "4    TCGA-18-3408-01        Primary Tumor\n",
       "..               ...                  ...\n",
       "621  TCGA-O2-A52V-01        Primary Tumor\n",
       "622  TCGA-O2-A52W-01        Primary Tumor\n",
       "623  TCGA-O2-A5IB-01        Primary Tumor\n",
       "624  TCGA-O2-A5IC-01        Primary Tumor\n",
       "625  TCGA-XC-AA0X-01        Primary Tumor\n",
       "\n",
       "[626 rows x 2 columns]"
      ]
     },
     "execution_count": 25,
     "metadata": {},
     "output_type": "execute_result"
    }
   ],
   "source": [
    "dataframe0"
   ]
  },
  {
   "cell_type": "markdown",
   "metadata": {
    "id": "3orrilm4seL7"
   },
   "source": [
    "REPLACING SAMPLE TYPE ID WITH VALUES "
   ]
  },
  {
   "cell_type": "code",
   "execution_count": 26,
   "metadata": {
    "id": "mviTAbRiMCMQ"
   },
   "outputs": [],
   "source": [
    "d4=dataframe0.replace(to_replace=[\"Primary Tumor\",\"Solid Tissue Normal\"],value=[\"1\",\"0\"]) #Replacing \"-\" in patient ID into \".\" to sync IDs with omics"
   ]
  },
  {
   "cell_type": "markdown",
   "metadata": {
    "id": "hFe5ionBspjo"
   },
   "source": [
    "RENAMING COLUMN HEADS"
   ]
  },
  {
   "cell_type": "code",
   "execution_count": 27,
   "metadata": {
    "id": "oEC0BmhMEaZ_"
   },
   "outputs": [],
   "source": [
    "Sample=d4.rename(columns={\"sampleID\":\"PatientID\",\"sample_type\":\"Class\"})"
   ]
  },
  {
   "cell_type": "code",
   "execution_count": 28,
   "metadata": {
    "id": "Eb6vob58_cNJ"
   },
   "outputs": [],
   "source": [
    "Sample['PatientID']=Sample['PatientID'].str.replace('\\-','.')"
   ]
  },
  {
   "cell_type": "markdown",
   "metadata": {
    "id": "nPJC5pntstPq"
   },
   "source": [
    "FINALIZED CLINICAL DATA"
   ]
  },
  {
   "cell_type": "code",
   "execution_count": 29,
   "metadata": {
    "colab": {
     "base_uri": "https://localhost:8080/",
     "height": 402
    },
    "id": "CN4tLF3Eqdb_",
    "outputId": "0a938635-2e8f-41ac-f243-f1d67fa282df"
   },
   "outputs": [
    {
     "data": {
      "text/html": [
       "<div>\n",
       "<style scoped>\n",
       "    .dataframe tbody tr th:only-of-type {\n",
       "        vertical-align: middle;\n",
       "    }\n",
       "\n",
       "    .dataframe tbody tr th {\n",
       "        vertical-align: top;\n",
       "    }\n",
       "\n",
       "    .dataframe thead th {\n",
       "        text-align: right;\n",
       "    }\n",
       "</style>\n",
       "<table border=\"1\" class=\"dataframe\">\n",
       "  <thead>\n",
       "    <tr style=\"text-align: right;\">\n",
       "      <th></th>\n",
       "      <th>PatientID</th>\n",
       "      <th>Class</th>\n",
       "    </tr>\n",
       "  </thead>\n",
       "  <tbody>\n",
       "    <tr>\n",
       "      <th>0</th>\n",
       "      <td>TCGA.18.3406.01</td>\n",
       "      <td>1</td>\n",
       "    </tr>\n",
       "    <tr>\n",
       "      <th>1</th>\n",
       "      <td>TCGA.18.3406.11</td>\n",
       "      <td>0</td>\n",
       "    </tr>\n",
       "    <tr>\n",
       "      <th>2</th>\n",
       "      <td>TCGA.18.3407.01</td>\n",
       "      <td>1</td>\n",
       "    </tr>\n",
       "    <tr>\n",
       "      <th>3</th>\n",
       "      <td>TCGA.18.3407.11</td>\n",
       "      <td>0</td>\n",
       "    </tr>\n",
       "    <tr>\n",
       "      <th>4</th>\n",
       "      <td>TCGA.18.3408.01</td>\n",
       "      <td>1</td>\n",
       "    </tr>\n",
       "    <tr>\n",
       "      <th>...</th>\n",
       "      <td>...</td>\n",
       "      <td>...</td>\n",
       "    </tr>\n",
       "    <tr>\n",
       "      <th>621</th>\n",
       "      <td>TCGA.O2.A52V.01</td>\n",
       "      <td>1</td>\n",
       "    </tr>\n",
       "    <tr>\n",
       "      <th>622</th>\n",
       "      <td>TCGA.O2.A52W.01</td>\n",
       "      <td>1</td>\n",
       "    </tr>\n",
       "    <tr>\n",
       "      <th>623</th>\n",
       "      <td>TCGA.O2.A5IB.01</td>\n",
       "      <td>1</td>\n",
       "    </tr>\n",
       "    <tr>\n",
       "      <th>624</th>\n",
       "      <td>TCGA.O2.A5IC.01</td>\n",
       "      <td>1</td>\n",
       "    </tr>\n",
       "    <tr>\n",
       "      <th>625</th>\n",
       "      <td>TCGA.XC.AA0X.01</td>\n",
       "      <td>1</td>\n",
       "    </tr>\n",
       "  </tbody>\n",
       "</table>\n",
       "<p>626 rows × 2 columns</p>\n",
       "</div>"
      ],
      "text/plain": [
       "           PatientID Class\n",
       "0    TCGA.18.3406.01     1\n",
       "1    TCGA.18.3406.11     0\n",
       "2    TCGA.18.3407.01     1\n",
       "3    TCGA.18.3407.11     0\n",
       "4    TCGA.18.3408.01     1\n",
       "..               ...   ...\n",
       "621  TCGA.O2.A52V.01     1\n",
       "622  TCGA.O2.A52W.01     1\n",
       "623  TCGA.O2.A5IB.01     1\n",
       "624  TCGA.O2.A5IC.01     1\n",
       "625  TCGA.XC.AA0X.01     1\n",
       "\n",
       "[626 rows x 2 columns]"
      ]
     },
     "execution_count": 29,
     "metadata": {},
     "output_type": "execute_result"
    }
   ],
   "source": [
    "Sample"
   ]
  },
  {
   "cell_type": "markdown",
   "metadata": {
    "id": "PXes1c8Ls7kY"
   },
   "source": [
    "STORING PROCESSED MULTIOMICS DATA"
   ]
  },
  {
   "cell_type": "code",
   "execution_count": 31,
   "metadata": {
    "id": "6r-6DfJSTl8R"
   },
   "outputs": [],
   "source": [
    "data_path = './PROCESSED/'\n",
    "Processed_Gene=GENE.to_csv(data_path + 'processed_Gene_latest.csv')\n",
    "Processed_MiRNA=MIRNA.to_csv(data_path + 'processed_MiRNA_latest.csv')\n",
    "Processed_Methy=METHY.to_csv(data_path + 'processed_Methy_latest.csv')"
   ]
  },
  {
   "cell_type": "markdown",
   "metadata": {
    "id": "bvoCfCV6-qWz"
   },
   "source": [
    "MULTI-OMICS DATA INTEGRATION"
   ]
  },
  {
   "cell_type": "markdown",
   "metadata": {
    "id": "-mZUUgpstD5o"
   },
   "source": [
    "IMPORT PRE-PROCESSED MULTIOMICS DATA FOR INTEGRATION"
   ]
  },
  {
   "cell_type": "code",
   "execution_count": 32,
   "metadata": {},
   "outputs": [
    {
     "name": "stdout",
     "output_type": "stream",
     "text": [
      "----PRE-PROCESSED----\n",
      "GENE EXPRESSION : (552, 13435)\n",
      "MIRNA : (387, 231)\n",
      "DNA METHYLATION : (412, 5001)\n"
     ]
    }
   ],
   "source": [
    "print(\"----PRE-PROCESSED----\") \n",
    "\n",
    "dframe1 = pd.read_csv(data_path + \"processed_Gene_latest.csv\",skiprows=1)\n",
    "print(\"GENE EXPRESSION :\", dframe1.shape)\n",
    "\n",
    "dframe2 = pd.read_csv(data_path + \"processed_MiRNA_latest.csv\",skiprows=1)\n",
    "print(\"MIRNA :\", dframe2.shape)\n",
    "\n",
    "dframe3 = pd.read_csv(data_path + \"processed_Methy_latest.csv\",skiprows=1)\n",
    "print(\"DNA METHYLATION :\", dframe3.shape)"
   ]
  },
  {
   "cell_type": "markdown",
   "metadata": {
    "id": "Fzn8HJ1BtNqh"
   },
   "source": [
    "SETTING PATIENT ID AS DATA INDEX"
   ]
  },
  {
   "cell_type": "code",
   "execution_count": 34,
   "metadata": {
    "id": "V7Xk5n2gS2nk"
   },
   "outputs": [],
   "source": [
    "Gene = dframe1.set_index('sampleID')\n",
    "MiRNA = dframe2.set_index('sampleID')\n",
    "Methy = dframe3.set_index('sampleID')\n",
    "Clinical = Sample.set_index('PatientID')"
   ]
  },
  {
   "cell_type": "markdown",
   "metadata": {
    "id": "LsGFtQZ2tTFT"
   },
   "source": [
    "INTEGRATION OF MULTIOMICS"
   ]
  },
  {
   "cell_type": "code",
   "execution_count": 35,
   "metadata": {
    "id": "3WFzi10U5N5v"
   },
   "outputs": [],
   "source": [
    "integrate = [Gene,MiRNA,Methy,Clinical] #Integrating all 3 omics with class embedded\n",
    "Multiomics = pd.concat(integrate, axis=1, join='inner')"
   ]
  },
  {
   "cell_type": "markdown",
   "metadata": {
    "id": "2dGG0UyDtWoT"
   },
   "source": [
    "MULTIOMICS DATASET"
   ]
  },
  {
   "cell_type": "code",
   "execution_count": 36,
   "metadata": {},
   "outputs": [
    {
     "data": {
      "text/html": [
       "<div>\n",
       "<style scoped>\n",
       "    .dataframe tbody tr th:only-of-type {\n",
       "        vertical-align: middle;\n",
       "    }\n",
       "\n",
       "    .dataframe tbody tr th {\n",
       "        vertical-align: top;\n",
       "    }\n",
       "\n",
       "    .dataframe thead th {\n",
       "        text-align: right;\n",
       "    }\n",
       "</style>\n",
       "<table border=\"1\" class=\"dataframe\">\n",
       "  <thead>\n",
       "    <tr style=\"text-align: right;\">\n",
       "      <th></th>\n",
       "      <th>?|10357</th>\n",
       "      <th>?|10431</th>\n",
       "      <th>?|155060</th>\n",
       "      <th>?|57714</th>\n",
       "      <th>?|653553</th>\n",
       "      <th>?|8225</th>\n",
       "      <th>A1BG|1</th>\n",
       "      <th>A2LD1|87769</th>\n",
       "      <th>A2M|2</th>\n",
       "      <th>A4GALT|53947</th>\n",
       "      <th>...</th>\n",
       "      <th>rs798149</th>\n",
       "      <th>rs845016</th>\n",
       "      <th>rs877309</th>\n",
       "      <th>rs9292570</th>\n",
       "      <th>rs9363764</th>\n",
       "      <th>rs939290</th>\n",
       "      <th>rs951295</th>\n",
       "      <th>rs966367</th>\n",
       "      <th>rs9839873</th>\n",
       "      <th>Class</th>\n",
       "    </tr>\n",
       "  </thead>\n",
       "  <tbody>\n",
       "    <tr>\n",
       "      <th>TCGA.18.5592.01</th>\n",
       "      <td>236.8295</td>\n",
       "      <td>1141.0830</td>\n",
       "      <td>88.0285</td>\n",
       "      <td>747.6943</td>\n",
       "      <td>409.8256</td>\n",
       "      <td>498.2193</td>\n",
       "      <td>12.0537</td>\n",
       "      <td>111.0547</td>\n",
       "      <td>2676.6396</td>\n",
       "      <td>2246.0049</td>\n",
       "      <td>...</td>\n",
       "      <td>0.012726</td>\n",
       "      <td>0.481794</td>\n",
       "      <td>0.239229</td>\n",
       "      <td>0.087837</td>\n",
       "      <td>0.536541</td>\n",
       "      <td>0.022941</td>\n",
       "      <td>0.540579</td>\n",
       "      <td>0.026454</td>\n",
       "      <td>0.045728</td>\n",
       "      <td>1</td>\n",
       "    </tr>\n",
       "    <tr>\n",
       "      <th>TCGA.18.5595.01</th>\n",
       "      <td>245.4566</td>\n",
       "      <td>999.4328</td>\n",
       "      <td>68.3494</td>\n",
       "      <td>671.5825</td>\n",
       "      <td>821.0437</td>\n",
       "      <td>423.4260</td>\n",
       "      <td>26.6591</td>\n",
       "      <td>45.0227</td>\n",
       "      <td>7857.6064</td>\n",
       "      <td>193.7039</td>\n",
       "      <td>...</td>\n",
       "      <td>0.013850</td>\n",
       "      <td>0.396258</td>\n",
       "      <td>0.956542</td>\n",
       "      <td>0.482447</td>\n",
       "      <td>0.566233</td>\n",
       "      <td>0.966587</td>\n",
       "      <td>0.532004</td>\n",
       "      <td>0.510593</td>\n",
       "      <td>0.933625</td>\n",
       "      <td>1</td>\n",
       "    </tr>\n",
       "    <tr>\n",
       "      <th>TCGA.21.5782.01</th>\n",
       "      <td>308.5506</td>\n",
       "      <td>923.5955</td>\n",
       "      <td>146.0674</td>\n",
       "      <td>212.3596</td>\n",
       "      <td>1083.1461</td>\n",
       "      <td>767.4157</td>\n",
       "      <td>155.0562</td>\n",
       "      <td>198.5281</td>\n",
       "      <td>9403.2921</td>\n",
       "      <td>1151.6854</td>\n",
       "      <td>...</td>\n",
       "      <td>0.967372</td>\n",
       "      <td>0.933384</td>\n",
       "      <td>0.544448</td>\n",
       "      <td>0.298030</td>\n",
       "      <td>0.932454</td>\n",
       "      <td>0.030718</td>\n",
       "      <td>0.972964</td>\n",
       "      <td>0.466552</td>\n",
       "      <td>0.930599</td>\n",
       "      <td>1</td>\n",
       "    </tr>\n",
       "    <tr>\n",
       "      <th>TCGA.21.5783.01</th>\n",
       "      <td>192.7190</td>\n",
       "      <td>526.9117</td>\n",
       "      <td>150.0900</td>\n",
       "      <td>906.6365</td>\n",
       "      <td>748.4178</td>\n",
       "      <td>607.0371</td>\n",
       "      <td>144.2199</td>\n",
       "      <td>47.5353</td>\n",
       "      <td>5312.0566</td>\n",
       "      <td>340.8233</td>\n",
       "      <td>...</td>\n",
       "      <td>0.967869</td>\n",
       "      <td>0.583177</td>\n",
       "      <td>0.020746</td>\n",
       "      <td>0.357359</td>\n",
       "      <td>0.449217</td>\n",
       "      <td>0.963890</td>\n",
       "      <td>0.455323</td>\n",
       "      <td>0.529334</td>\n",
       "      <td>0.936669</td>\n",
       "      <td>1</td>\n",
       "    </tr>\n",
       "    <tr>\n",
       "      <th>TCGA.21.5784.01</th>\n",
       "      <td>161.6057</td>\n",
       "      <td>1196.5056</td>\n",
       "      <td>51.7527</td>\n",
       "      <td>212.7613</td>\n",
       "      <td>3455.4904</td>\n",
       "      <td>557.7795</td>\n",
       "      <td>144.1336</td>\n",
       "      <td>106.4647</td>\n",
       "      <td>20321.8932</td>\n",
       "      <td>1511.4453</td>\n",
       "      <td>...</td>\n",
       "      <td>0.393124</td>\n",
       "      <td>0.503706</td>\n",
       "      <td>0.018432</td>\n",
       "      <td>0.639100</td>\n",
       "      <td>0.030030</td>\n",
       "      <td>0.590748</td>\n",
       "      <td>0.522493</td>\n",
       "      <td>0.031209</td>\n",
       "      <td>0.955941</td>\n",
       "      <td>1</td>\n",
       "    </tr>\n",
       "    <tr>\n",
       "      <th>...</th>\n",
       "      <td>...</td>\n",
       "      <td>...</td>\n",
       "      <td>...</td>\n",
       "      <td>...</td>\n",
       "      <td>...</td>\n",
       "      <td>...</td>\n",
       "      <td>...</td>\n",
       "      <td>...</td>\n",
       "      <td>...</td>\n",
       "      <td>...</td>\n",
       "      <td>...</td>\n",
       "      <td>...</td>\n",
       "      <td>...</td>\n",
       "      <td>...</td>\n",
       "      <td>...</td>\n",
       "      <td>...</td>\n",
       "      <td>...</td>\n",
       "      <td>...</td>\n",
       "      <td>...</td>\n",
       "      <td>...</td>\n",
       "      <td>...</td>\n",
       "    </tr>\n",
       "    <tr>\n",
       "      <th>TCGA.O2.A52S.01</th>\n",
       "      <td>176.7177</td>\n",
       "      <td>1188.3278</td>\n",
       "      <td>226.8212</td>\n",
       "      <td>1100.5795</td>\n",
       "      <td>172.1854</td>\n",
       "      <td>452.8146</td>\n",
       "      <td>133.1664</td>\n",
       "      <td>75.6954</td>\n",
       "      <td>3629.9421</td>\n",
       "      <td>382.8642</td>\n",
       "      <td>...</td>\n",
       "      <td>0.024437</td>\n",
       "      <td>0.084381</td>\n",
       "      <td>0.030087</td>\n",
       "      <td>0.952404</td>\n",
       "      <td>0.569576</td>\n",
       "      <td>0.043652</td>\n",
       "      <td>0.964282</td>\n",
       "      <td>0.367595</td>\n",
       "      <td>0.931168</td>\n",
       "      <td>1</td>\n",
       "    </tr>\n",
       "    <tr>\n",
       "      <th>TCGA.O2.A52V.01</th>\n",
       "      <td>188.7215</td>\n",
       "      <td>1248.0303</td>\n",
       "      <td>147.4945</td>\n",
       "      <td>510.5578</td>\n",
       "      <td>1253.0728</td>\n",
       "      <td>811.4298</td>\n",
       "      <td>148.8055</td>\n",
       "      <td>86.9041</td>\n",
       "      <td>5406.0132</td>\n",
       "      <td>1188.7803</td>\n",
       "      <td>...</td>\n",
       "      <td>0.965751</td>\n",
       "      <td>0.067980</td>\n",
       "      <td>0.449615</td>\n",
       "      <td>0.472282</td>\n",
       "      <td>0.068062</td>\n",
       "      <td>0.958774</td>\n",
       "      <td>0.514518</td>\n",
       "      <td>0.431195</td>\n",
       "      <td>0.107549</td>\n",
       "      <td>1</td>\n",
       "    </tr>\n",
       "    <tr>\n",
       "      <th>TCGA.O2.A52W.01</th>\n",
       "      <td>260.3332</td>\n",
       "      <td>789.3606</td>\n",
       "      <td>854.3794</td>\n",
       "      <td>388.5008</td>\n",
       "      <td>2354.1107</td>\n",
       "      <td>985.4917</td>\n",
       "      <td>52.7243</td>\n",
       "      <td>81.4992</td>\n",
       "      <td>5299.1080</td>\n",
       "      <td>5458.3557</td>\n",
       "      <td>...</td>\n",
       "      <td>0.971247</td>\n",
       "      <td>0.265095</td>\n",
       "      <td>0.573803</td>\n",
       "      <td>0.506155</td>\n",
       "      <td>0.546692</td>\n",
       "      <td>0.719723</td>\n",
       "      <td>0.530074</td>\n",
       "      <td>0.460235</td>\n",
       "      <td>0.931966</td>\n",
       "      <td>1</td>\n",
       "    </tr>\n",
       "    <tr>\n",
       "      <th>TCGA.O2.A5IB.01</th>\n",
       "      <td>160.1624</td>\n",
       "      <td>460.8626</td>\n",
       "      <td>569.2226</td>\n",
       "      <td>932.1086</td>\n",
       "      <td>201.2780</td>\n",
       "      <td>985.0905</td>\n",
       "      <td>14.9281</td>\n",
       "      <td>43.5304</td>\n",
       "      <td>16530.5698</td>\n",
       "      <td>26.8903</td>\n",
       "      <td>...</td>\n",
       "      <td>0.013990</td>\n",
       "      <td>0.031028</td>\n",
       "      <td>0.014438</td>\n",
       "      <td>0.019634</td>\n",
       "      <td>0.948490</td>\n",
       "      <td>0.945375</td>\n",
       "      <td>0.034040</td>\n",
       "      <td>0.501818</td>\n",
       "      <td>0.902703</td>\n",
       "      <td>1</td>\n",
       "    </tr>\n",
       "    <tr>\n",
       "      <th>TCGA.XC.AA0X.01</th>\n",
       "      <td>76.6488</td>\n",
       "      <td>805.9507</td>\n",
       "      <td>311.6273</td>\n",
       "      <td>616.4687</td>\n",
       "      <td>646.7441</td>\n",
       "      <td>599.7651</td>\n",
       "      <td>52.4964</td>\n",
       "      <td>49.1035</td>\n",
       "      <td>14704.3769</td>\n",
       "      <td>2560.8769</td>\n",
       "      <td>...</td>\n",
       "      <td>0.290415</td>\n",
       "      <td>0.079589</td>\n",
       "      <td>0.963819</td>\n",
       "      <td>0.023277</td>\n",
       "      <td>0.678331</td>\n",
       "      <td>0.607971</td>\n",
       "      <td>0.509492</td>\n",
       "      <td>0.887421</td>\n",
       "      <td>0.734846</td>\n",
       "      <td>1</td>\n",
       "    </tr>\n",
       "  </tbody>\n",
       "</table>\n",
       "<p>344 rows × 18665 columns</p>\n",
       "</div>"
      ],
      "text/plain": [
       "                  ?|10357    ?|10431  ?|155060    ?|57714   ?|653553  \\\n",
       "TCGA.18.5592.01  236.8295  1141.0830   88.0285   747.6943   409.8256   \n",
       "TCGA.18.5595.01  245.4566   999.4328   68.3494   671.5825   821.0437   \n",
       "TCGA.21.5782.01  308.5506   923.5955  146.0674   212.3596  1083.1461   \n",
       "TCGA.21.5783.01  192.7190   526.9117  150.0900   906.6365   748.4178   \n",
       "TCGA.21.5784.01  161.6057  1196.5056   51.7527   212.7613  3455.4904   \n",
       "...                   ...        ...       ...        ...        ...   \n",
       "TCGA.O2.A52S.01  176.7177  1188.3278  226.8212  1100.5795   172.1854   \n",
       "TCGA.O2.A52V.01  188.7215  1248.0303  147.4945   510.5578  1253.0728   \n",
       "TCGA.O2.A52W.01  260.3332   789.3606  854.3794   388.5008  2354.1107   \n",
       "TCGA.O2.A5IB.01  160.1624   460.8626  569.2226   932.1086   201.2780   \n",
       "TCGA.XC.AA0X.01   76.6488   805.9507  311.6273   616.4687   646.7441   \n",
       "\n",
       "                   ?|8225    A1BG|1  A2LD1|87769       A2M|2  A4GALT|53947  \\\n",
       "TCGA.18.5592.01  498.2193   12.0537     111.0547   2676.6396     2246.0049   \n",
       "TCGA.18.5595.01  423.4260   26.6591      45.0227   7857.6064      193.7039   \n",
       "TCGA.21.5782.01  767.4157  155.0562     198.5281   9403.2921     1151.6854   \n",
       "TCGA.21.5783.01  607.0371  144.2199      47.5353   5312.0566      340.8233   \n",
       "TCGA.21.5784.01  557.7795  144.1336     106.4647  20321.8932     1511.4453   \n",
       "...                   ...       ...          ...         ...           ...   \n",
       "TCGA.O2.A52S.01  452.8146  133.1664      75.6954   3629.9421      382.8642   \n",
       "TCGA.O2.A52V.01  811.4298  148.8055      86.9041   5406.0132     1188.7803   \n",
       "TCGA.O2.A52W.01  985.4917   52.7243      81.4992   5299.1080     5458.3557   \n",
       "TCGA.O2.A5IB.01  985.0905   14.9281      43.5304  16530.5698       26.8903   \n",
       "TCGA.XC.AA0X.01  599.7651   52.4964      49.1035  14704.3769     2560.8769   \n",
       "\n",
       "                 ...  rs798149  rs845016  rs877309  rs9292570  rs9363764  \\\n",
       "TCGA.18.5592.01  ...  0.012726  0.481794  0.239229   0.087837   0.536541   \n",
       "TCGA.18.5595.01  ...  0.013850  0.396258  0.956542   0.482447   0.566233   \n",
       "TCGA.21.5782.01  ...  0.967372  0.933384  0.544448   0.298030   0.932454   \n",
       "TCGA.21.5783.01  ...  0.967869  0.583177  0.020746   0.357359   0.449217   \n",
       "TCGA.21.5784.01  ...  0.393124  0.503706  0.018432   0.639100   0.030030   \n",
       "...              ...       ...       ...       ...        ...        ...   \n",
       "TCGA.O2.A52S.01  ...  0.024437  0.084381  0.030087   0.952404   0.569576   \n",
       "TCGA.O2.A52V.01  ...  0.965751  0.067980  0.449615   0.472282   0.068062   \n",
       "TCGA.O2.A52W.01  ...  0.971247  0.265095  0.573803   0.506155   0.546692   \n",
       "TCGA.O2.A5IB.01  ...  0.013990  0.031028  0.014438   0.019634   0.948490   \n",
       "TCGA.XC.AA0X.01  ...  0.290415  0.079589  0.963819   0.023277   0.678331   \n",
       "\n",
       "                 rs939290  rs951295  rs966367  rs9839873  Class  \n",
       "TCGA.18.5592.01  0.022941  0.540579  0.026454   0.045728      1  \n",
       "TCGA.18.5595.01  0.966587  0.532004  0.510593   0.933625      1  \n",
       "TCGA.21.5782.01  0.030718  0.972964  0.466552   0.930599      1  \n",
       "TCGA.21.5783.01  0.963890  0.455323  0.529334   0.936669      1  \n",
       "TCGA.21.5784.01  0.590748  0.522493  0.031209   0.955941      1  \n",
       "...                   ...       ...       ...        ...    ...  \n",
       "TCGA.O2.A52S.01  0.043652  0.964282  0.367595   0.931168      1  \n",
       "TCGA.O2.A52V.01  0.958774  0.514518  0.431195   0.107549      1  \n",
       "TCGA.O2.A52W.01  0.719723  0.530074  0.460235   0.931966      1  \n",
       "TCGA.O2.A5IB.01  0.945375  0.034040  0.501818   0.902703      1  \n",
       "TCGA.XC.AA0X.01  0.607971  0.509492  0.887421   0.734846      1  \n",
       "\n",
       "[344 rows x 18665 columns]"
      ]
     },
     "execution_count": 36,
     "metadata": {},
     "output_type": "execute_result"
    }
   ],
   "source": [
    "Multiomics"
   ]
  },
  {
   "cell_type": "markdown",
   "metadata": {
    "id": "0VNRvhc5tbFf"
   },
   "source": [
    "SAVE FINALISED DATASET"
   ]
  },
  {
   "cell_type": "code",
   "execution_count": 37,
   "metadata": {
    "id": "e1DrxHuREskj"
   },
   "outputs": [],
   "source": [
    "#Save Finalised Lung Dataset\n",
    "Complete_Data = Multiomics.to_csv(data_path + 'Complete_MultiOmicsnew.csv')"
   ]
  }
 ],
 "metadata": {
  "accelerator": "GPU",
  "colab": {
   "collapsed_sections": [
    "8GsC_HN2IwPD",
    "HXdWzWR0IqU_"
   ],
   "include_colab_link": true,
   "name": "DATA PRE-PROCESSING.ipynb",
   "provenance": []
  },
  "kernelspec": {
   "display_name": "Python 3.9 (Default)",
   "language": "python",
   "name": "python3"
  },
  "language_info": {
   "codemirror_mode": {
    "name": "ipython",
    "version": 3
   },
   "file_extension": ".py",
   "mimetype": "text/x-python",
   "name": "python",
   "nbconvert_exporter": "python",
   "pygments_lexer": "ipython3",
   "version": "3.9.7"
  }
 },
 "nbformat": 4,
 "nbformat_minor": 1
}
