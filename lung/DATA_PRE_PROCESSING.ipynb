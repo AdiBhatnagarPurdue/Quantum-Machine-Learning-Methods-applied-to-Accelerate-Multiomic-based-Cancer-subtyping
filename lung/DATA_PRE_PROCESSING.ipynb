{
 "cells": [
  {
   "cell_type": "markdown",
   "metadata": {
    "colab_type": "text",
    "id": "view-in-github"
   },
   "source": [
    "<a href=\"https://colab.research.google.com/github/Vivek-1116/SDAE-and-VAE-for-Cancer-Classification-through-Multi-omics-Feature-Extraction/blob/main/DATA_PRE_PROCESSING.ipynb\" target=\"_parent\"><img src=\"https://colab.research.google.com/assets/colab-badge.svg\" alt=\"Open In Colab\"/></a>"
   ]
  },
  {
   "cell_type": "markdown",
   "metadata": {
    "id": "GK8nM0cEESEz"
   },
   "source": [
    "# Code Implementation on MULTI-OMICS DATA PRE-PROCESSING\n",
    "Dataset for this project is made up of Multi-Omics Cancer Benchmark TCGA Pre-processed data.\n",
    "\n",
    "Data Source : http://acgt.cs.tau.ac.il/multi_omic_benchmark/download.html\n",
    "\n",
    "Data Description : Lung Squamous Cell Carcinoma (LUSC) Data\n",
    "\n",
    "Omics Involved : Gene expression, DNA methylation & miRNA expression"
   ]
  },
  {
   "cell_type": "markdown",
   "metadata": {
    "id": "GcfMJqKA8faa"
   },
   "source": [
    "## RAW DATA"
   ]
  },
  {
   "cell_type": "markdown",
   "metadata": {
    "id": "VDohm3utEM3k"
   },
   "source": [
    "IMPORT LIBRARIES"
   ]
  },
  {
   "cell_type": "code",
   "execution_count": 2,
   "metadata": {
    "id": "u7IZeqHgEEjW"
   },
   "outputs": [],
   "source": [
    "import numpy as np #Fundamental package for scientific computing\n",
    "import pandas as pd #For data manipulation and analysis\n",
    "import matplotlib.pyplot as plt #2D plotting library\n",
    "import seaborn as sns #Python data visualization library based on matplotlib\n",
    "import warnings #Typically issued in situations where it is useful to alert the user of some condition in a program\n",
    "from collections import Counter #Supports iterations\n",
    "warnings.filterwarnings('ignore') #Ignores all warnings"
   ]
  },
  {
   "cell_type": "code",
   "execution_count": 3,
   "metadata": {},
   "outputs": [],
   "source": [
    "data_path = '' #Change this path accordingly"
   ]
  },
  {
   "cell_type": "markdown",
   "metadata": {
    "id": "tDJU6G0hqbGJ"
   },
   "source": [
    "IMPORT DATASET (3 DIFFERENT OMICS & 1 CLINICAL DATA)"
   ]
  },
  {
   "cell_type": "code",
   "execution_count": 4,
   "metadata": {},
   "outputs": [
    {
     "name": "stdout",
     "output_type": "stream",
     "text": [
      "RAW MULTIOMICS DATASET\n",
      "CLINICAL DATA : (626, 127)\n",
      "GENE EXPRESSION : (20531, 553)\n",
      "MIRNA : (1046, 388)\n",
      "DNA METHYLATION : (5000, 413)\n"
     ]
    }
   ],
   "source": [
    "print(\"RAW MULTIOMICS DATASET\") \n",
    "\n",
    "dataframe0 = pd.read_csv(data_path + \"lung.csv\",sep=',') #Reading clinical dataset \n",
    "print(\"CLINICAL DATA :\", dataframe0.shape)\n",
    "\n",
    "dataframe1 = pd.read_csv(data_path + \"exp.csv\",sep=',') #Reading Gene Expression dataset\n",
    "print(\"GENE EXPRESSION :\", dataframe1.shape)\n",
    "\n",
    "dataframe2 = pd.read_csv(data_path + \"mirna.csv\",sep=',') #Reading miRNA dataset\n",
    "print(\"MIRNA :\", dataframe2.shape)\n",
    "\n",
    "dataframe3 = pd.read_csv(data_path + \"methy.csv\",sep=',') #Reading DNA Methylation dataset \n",
    "print(\"DNA METHYLATION :\", dataframe3.shape)"
   ]
  },
  {
   "cell_type": "markdown",
   "metadata": {
    "id": "7jW2eNJEMbER"
   },
   "source": [
    "DATA TRANSPOSITION"
   ]
  },
  {
   "cell_type": "code",
   "execution_count": 5,
   "metadata": {
    "colab": {
     "base_uri": "https://localhost:8080/",
     "height": 84
    },
    "id": "Azhhj_dCMUy7",
    "outputId": "2e4287a9-a157-4ae5-fa19-f123b6b96f33"
   },
   "outputs": [],
   "source": [
    "#taking transpose of data\n",
    "dat1 = np.transpose(dataframe1)\n",
    "dat2 = np.transpose(dataframe2)\n",
    "dat3 = np.transpose(dataframe3)\n",
    "\n",
    "#removing duplicate data\n",
    "d1 = dat1.drop_duplicates() \n",
    "d2 = dat2.drop_duplicates() \n",
    "d3 = dat3.drop_duplicates() "
   ]
  },
  {
   "cell_type": "markdown",
   "metadata": {
    "id": "Ei9CmlMY_8dz"
   },
   "source": [
    "## EXPLORATORY DATA ANALYSIS (EDA)"
   ]
  },
  {
   "cell_type": "markdown",
   "metadata": {
    "id": "Ar-6Eq9NQNx9"
   },
   "source": [
    "REPLACING ZEROS WITH NaNs"
   ]
  },
  {
   "cell_type": "code",
   "execution_count": 6,
   "metadata": {},
   "outputs": [],
   "source": [
    "#d0_new = d0.replace(0, np.nan)\n",
    "d1_new = d1.replace(0, np.nan) \n",
    "d2_new = d2.replace(0, np.nan) \n",
    "d3_new = d3.replace(0, np.nan) "
   ]
  },
  {
   "cell_type": "markdown",
   "metadata": {
    "id": "EAlPrC_1D4fb"
   },
   "source": [
    "DROPPING COLUMNS CONTAINING NULL VALUES"
   ]
  },
  {
   "cell_type": "code",
   "execution_count": 7,
   "metadata": {},
   "outputs": [],
   "source": [
    "#Dropping columns containing NaN values\n",
    "GENE = d1_new.dropna(axis=1,how='any',thresh=None,subset=None, inplace=False)\n",
    "MIRNA = d2_new.dropna(axis=1,how='any',thresh=None,subset=None, inplace=False)\n",
    "METHY = d3_new.dropna(axis=1,how='any',thresh=None,subset=None, inplace=False)"
   ]
  },
  {
   "cell_type": "markdown",
   "metadata": {
    "id": "sXFy9NwRsQm3"
   },
   "source": [
    "DROPPING ALL COLUMNS EXCEPT SAMPLE ID & TYPE IN CLINICAL DATA"
   ]
  },
  {
   "cell_type": "code",
   "execution_count": 8,
   "metadata": {
    "id": "oCH0dQ4jLQ9f"
   },
   "outputs": [
    {
     "data": {
      "text/html": [
       "<div>\n",
       "<style scoped>\n",
       "    .dataframe tbody tr th:only-of-type {\n",
       "        vertical-align: middle;\n",
       "    }\n",
       "\n",
       "    .dataframe tbody tr th {\n",
       "        vertical-align: top;\n",
       "    }\n",
       "\n",
       "    .dataframe thead th {\n",
       "        text-align: right;\n",
       "    }\n",
       "</style>\n",
       "<table border=\"1\" class=\"dataframe\">\n",
       "  <thead>\n",
       "    <tr style=\"text-align: right;\">\n",
       "      <th></th>\n",
       "      <th>sampleID</th>\n",
       "      <th>sample_type</th>\n",
       "    </tr>\n",
       "  </thead>\n",
       "  <tbody>\n",
       "    <tr>\n",
       "      <th>0</th>\n",
       "      <td>TCGA-18-3406-01</td>\n",
       "      <td>Primary Tumor</td>\n",
       "    </tr>\n",
       "    <tr>\n",
       "      <th>1</th>\n",
       "      <td>TCGA-18-3406-11</td>\n",
       "      <td>Solid Tissue Normal</td>\n",
       "    </tr>\n",
       "    <tr>\n",
       "      <th>2</th>\n",
       "      <td>TCGA-18-3407-01</td>\n",
       "      <td>Primary Tumor</td>\n",
       "    </tr>\n",
       "    <tr>\n",
       "      <th>3</th>\n",
       "      <td>TCGA-18-3407-11</td>\n",
       "      <td>Solid Tissue Normal</td>\n",
       "    </tr>\n",
       "    <tr>\n",
       "      <th>4</th>\n",
       "      <td>TCGA-18-3408-01</td>\n",
       "      <td>Primary Tumor</td>\n",
       "    </tr>\n",
       "    <tr>\n",
       "      <th>...</th>\n",
       "      <td>...</td>\n",
       "      <td>...</td>\n",
       "    </tr>\n",
       "    <tr>\n",
       "      <th>621</th>\n",
       "      <td>TCGA-O2-A52V-01</td>\n",
       "      <td>Primary Tumor</td>\n",
       "    </tr>\n",
       "    <tr>\n",
       "      <th>622</th>\n",
       "      <td>TCGA-O2-A52W-01</td>\n",
       "      <td>Primary Tumor</td>\n",
       "    </tr>\n",
       "    <tr>\n",
       "      <th>623</th>\n",
       "      <td>TCGA-O2-A5IB-01</td>\n",
       "      <td>Primary Tumor</td>\n",
       "    </tr>\n",
       "    <tr>\n",
       "      <th>624</th>\n",
       "      <td>TCGA-O2-A5IC-01</td>\n",
       "      <td>Primary Tumor</td>\n",
       "    </tr>\n",
       "    <tr>\n",
       "      <th>625</th>\n",
       "      <td>TCGA-XC-AA0X-01</td>\n",
       "      <td>Primary Tumor</td>\n",
       "    </tr>\n",
       "  </tbody>\n",
       "</table>\n",
       "<p>626 rows × 2 columns</p>\n",
       "</div>"
      ],
      "text/plain": [
       "            sampleID          sample_type\n",
       "0    TCGA-18-3406-01        Primary Tumor\n",
       "1    TCGA-18-3406-11  Solid Tissue Normal\n",
       "2    TCGA-18-3407-01        Primary Tumor\n",
       "3    TCGA-18-3407-11  Solid Tissue Normal\n",
       "4    TCGA-18-3408-01        Primary Tumor\n",
       "..               ...                  ...\n",
       "621  TCGA-O2-A52V-01        Primary Tumor\n",
       "622  TCGA-O2-A52W-01        Primary Tumor\n",
       "623  TCGA-O2-A5IB-01        Primary Tumor\n",
       "624  TCGA-O2-A5IC-01        Primary Tumor\n",
       "625  TCGA-XC-AA0X-01        Primary Tumor\n",
       "\n",
       "[626 rows x 2 columns]"
      ]
     },
     "execution_count": 8,
     "metadata": {},
     "output_type": "execute_result"
    }
   ],
   "source": [
    "dataframe0.drop(dataframe0.columns.difference(['sampleID','sample_type']), 1, inplace=True) #Dropping all columns except Sample_ID & Sample type\n",
    "dataframe0"
   ]
  },
  {
   "cell_type": "markdown",
   "metadata": {
    "id": "3orrilm4seL7"
   },
   "source": [
    "REPLACING SAMPLE TYPE ID WITH VALUES "
   ]
  },
  {
   "cell_type": "code",
   "execution_count": 9,
   "metadata": {
    "id": "mviTAbRiMCMQ"
   },
   "outputs": [],
   "source": [
    "d4=dataframe0.replace(to_replace=[\"Primary Tumor\",\"Solid Tissue Normal\"],value=[\"1\",\"0\"]) #Classifying tumor and normal samples \n",
    "Sample=d4.rename(columns={\"sampleID\":\"PatientID\",\"sample_type\":\"Class\"}) #renaming"
   ]
  },
  {
   "cell_type": "markdown",
   "metadata": {
    "id": "hFe5ionBspjo"
   },
   "source": [
    "RENAMING COLUMN HEADS"
   ]
  },
  {
   "cell_type": "code",
   "execution_count": null,
   "metadata": {
    "id": "oEC0BmhMEaZ_"
   },
   "outputs": [],
   "source": []
  },
  {
   "cell_type": "code",
   "execution_count": 10,
   "metadata": {
    "id": "Eb6vob58_cNJ"
   },
   "outputs": [],
   "source": [
    "Sample['PatientID']=Sample['PatientID'].str.replace('\\-','.')"
   ]
  },
  {
   "cell_type": "markdown",
   "metadata": {
    "id": "nPJC5pntstPq"
   },
   "source": [
    "FINALIZED CLINICAL DATA"
   ]
  },
  {
   "cell_type": "code",
   "execution_count": 11,
   "metadata": {
    "colab": {
     "base_uri": "https://localhost:8080/",
     "height": 402
    },
    "id": "CN4tLF3Eqdb_",
    "outputId": "0a938635-2e8f-41ac-f243-f1d67fa282df"
   },
   "outputs": [
    {
     "data": {
      "text/html": [
       "<div>\n",
       "<style scoped>\n",
       "    .dataframe tbody tr th:only-of-type {\n",
       "        vertical-align: middle;\n",
       "    }\n",
       "\n",
       "    .dataframe tbody tr th {\n",
       "        vertical-align: top;\n",
       "    }\n",
       "\n",
       "    .dataframe thead th {\n",
       "        text-align: right;\n",
       "    }\n",
       "</style>\n",
       "<table border=\"1\" class=\"dataframe\">\n",
       "  <thead>\n",
       "    <tr style=\"text-align: right;\">\n",
       "      <th></th>\n",
       "      <th>PatientID</th>\n",
       "      <th>Class</th>\n",
       "    </tr>\n",
       "  </thead>\n",
       "  <tbody>\n",
       "    <tr>\n",
       "      <th>0</th>\n",
       "      <td>TCGA.18.3406.01</td>\n",
       "      <td>1</td>\n",
       "    </tr>\n",
       "    <tr>\n",
       "      <th>1</th>\n",
       "      <td>TCGA.18.3406.11</td>\n",
       "      <td>0</td>\n",
       "    </tr>\n",
       "    <tr>\n",
       "      <th>2</th>\n",
       "      <td>TCGA.18.3407.01</td>\n",
       "      <td>1</td>\n",
       "    </tr>\n",
       "    <tr>\n",
       "      <th>3</th>\n",
       "      <td>TCGA.18.3407.11</td>\n",
       "      <td>0</td>\n",
       "    </tr>\n",
       "    <tr>\n",
       "      <th>4</th>\n",
       "      <td>TCGA.18.3408.01</td>\n",
       "      <td>1</td>\n",
       "    </tr>\n",
       "    <tr>\n",
       "      <th>...</th>\n",
       "      <td>...</td>\n",
       "      <td>...</td>\n",
       "    </tr>\n",
       "    <tr>\n",
       "      <th>621</th>\n",
       "      <td>TCGA.O2.A52V.01</td>\n",
       "      <td>1</td>\n",
       "    </tr>\n",
       "    <tr>\n",
       "      <th>622</th>\n",
       "      <td>TCGA.O2.A52W.01</td>\n",
       "      <td>1</td>\n",
       "    </tr>\n",
       "    <tr>\n",
       "      <th>623</th>\n",
       "      <td>TCGA.O2.A5IB.01</td>\n",
       "      <td>1</td>\n",
       "    </tr>\n",
       "    <tr>\n",
       "      <th>624</th>\n",
       "      <td>TCGA.O2.A5IC.01</td>\n",
       "      <td>1</td>\n",
       "    </tr>\n",
       "    <tr>\n",
       "      <th>625</th>\n",
       "      <td>TCGA.XC.AA0X.01</td>\n",
       "      <td>1</td>\n",
       "    </tr>\n",
       "  </tbody>\n",
       "</table>\n",
       "<p>626 rows × 2 columns</p>\n",
       "</div>"
      ],
      "text/plain": [
       "           PatientID Class\n",
       "0    TCGA.18.3406.01     1\n",
       "1    TCGA.18.3406.11     0\n",
       "2    TCGA.18.3407.01     1\n",
       "3    TCGA.18.3407.11     0\n",
       "4    TCGA.18.3408.01     1\n",
       "..               ...   ...\n",
       "621  TCGA.O2.A52V.01     1\n",
       "622  TCGA.O2.A52W.01     1\n",
       "623  TCGA.O2.A5IB.01     1\n",
       "624  TCGA.O2.A5IC.01     1\n",
       "625  TCGA.XC.AA0X.01     1\n",
       "\n",
       "[626 rows x 2 columns]"
      ]
     },
     "execution_count": 11,
     "metadata": {},
     "output_type": "execute_result"
    }
   ],
   "source": [
    "Sample"
   ]
  },
  {
   "cell_type": "markdown",
   "metadata": {
    "id": "PXes1c8Ls7kY"
   },
   "source": [
    "STORING PROCESSED MULTIOMICS DATA"
   ]
  },
  {
   "cell_type": "code",
   "execution_count": 12,
   "metadata": {
    "id": "6r-6DfJSTl8R"
   },
   "outputs": [],
   "source": [
    "data_path = './PROCESSED/'\n",
    "Processed_Gene=GENE.to_csv(data_path + 'processed_Gene_latest.csv')\n",
    "Processed_MiRNA=MIRNA.to_csv(data_path + 'processed_MiRNA_latest.csv')\n",
    "Processed_Methy=METHY.to_csv(data_path + 'processed_Methy_latest.csv')"
   ]
  },
  {
   "cell_type": "markdown",
   "metadata": {
    "id": "bvoCfCV6-qWz"
   },
   "source": [
    "MULTI-OMICS DATA INTEGRATION"
   ]
  },
  {
   "cell_type": "markdown",
   "metadata": {
    "id": "-mZUUgpstD5o"
   },
   "source": [
    "IMPORT PRE-PROCESSED MULTIOMICS DATA FOR INTEGRATION"
   ]
  },
  {
   "cell_type": "code",
   "execution_count": 13,
   "metadata": {},
   "outputs": [
    {
     "name": "stdout",
     "output_type": "stream",
     "text": [
      "----PRE-PROCESSED----\n",
      "GENE EXPRESSION : (552, 13435)\n",
      "MIRNA : (387, 231)\n",
      "DNA METHYLATION : (412, 5001)\n"
     ]
    }
   ],
   "source": [
    "print(\"----PRE-PROCESSED----\") \n",
    "\n",
    "dframe1 = pd.read_csv(data_path + \"processed_Gene_latest.csv\",skiprows=1)\n",
    "print(\"GENE EXPRESSION :\", dframe1.shape)\n",
    "\n",
    "dframe2 = pd.read_csv(data_path + \"processed_MiRNA_latest.csv\",skiprows=1)\n",
    "print(\"MIRNA :\", dframe2.shape)\n",
    "\n",
    "dframe3 = pd.read_csv(data_path + \"processed_Methy_latest.csv\",skiprows=1)\n",
    "print(\"DNA METHYLATION :\", dframe3.shape)"
   ]
  },
  {
   "cell_type": "markdown",
   "metadata": {
    "id": "Fzn8HJ1BtNqh"
   },
   "source": [
    "SETTING PATIENT ID AS DATA INDEX"
   ]
  },
  {
   "cell_type": "code",
   "execution_count": 14,
   "metadata": {
    "id": "V7Xk5n2gS2nk"
   },
   "outputs": [],
   "source": [
    "Gene = dframe1.set_index('sampleID')\n",
    "MiRNA = dframe2.set_index('sampleID')\n",
    "Methy = dframe3.set_index('sampleID')\n",
    "Clinical = Sample.set_index('PatientID')"
   ]
  },
  {
   "cell_type": "markdown",
   "metadata": {
    "id": "LsGFtQZ2tTFT"
   },
   "source": [
    "INTEGRATION OF MULTIOMICS"
   ]
  },
  {
   "cell_type": "code",
   "execution_count": 15,
   "metadata": {
    "id": "3WFzi10U5N5v"
   },
   "outputs": [],
   "source": [
    "integrate = [Gene,MiRNA,Methy,Clinical] #Integrating all 3 omics with class embedded\n",
    "Multiomics = pd.concat(integrate, axis=1, join='inner')"
   ]
  },
  {
   "cell_type": "markdown",
   "metadata": {
    "id": "2dGG0UyDtWoT"
   },
   "source": [
    "MULTIOMICS DATASET"
   ]
  },
  {
   "cell_type": "code",
   "execution_count": 16,
   "metadata": {},
   "outputs": [
    {
     "data": {
      "text/html": [
       "<div>\n",
       "<style scoped>\n",
       "    .dataframe tbody tr th:only-of-type {\n",
       "        vertical-align: middle;\n",
       "    }\n",
       "\n",
       "    .dataframe tbody tr th {\n",
       "        vertical-align: top;\n",
       "    }\n",
       "\n",
       "    .dataframe thead th {\n",
       "        text-align: right;\n",
       "    }\n",
       "</style>\n",
       "<table border=\"1\" class=\"dataframe\">\n",
       "  <thead>\n",
       "    <tr style=\"text-align: right;\">\n",
       "      <th></th>\n",
       "      <th>?|10357</th>\n",
       "      <th>?|10431</th>\n",
       "      <th>?|155060</th>\n",
       "      <th>?|57714</th>\n",
       "      <th>?|653553</th>\n",
       "      <th>?|8225</th>\n",
       "      <th>A1BG|1</th>\n",
       "      <th>A2LD1|87769</th>\n",
       "      <th>A2M|2</th>\n",
       "      <th>A4GALT|53947</th>\n",
       "      <th>...</th>\n",
       "      <th>rs798149</th>\n",
       "      <th>rs845016</th>\n",
       "      <th>rs877309</th>\n",
       "      <th>rs9292570</th>\n",
       "      <th>rs9363764</th>\n",
       "      <th>rs939290</th>\n",
       "      <th>rs951295</th>\n",
       "      <th>rs966367</th>\n",
       "      <th>rs9839873</th>\n",
       "      <th>Class</th>\n",
       "    </tr>\n",
       "  </thead>\n",
       "  <tbody>\n",
       "    <tr>\n",
       "      <th>TCGA.18.5592.01</th>\n",
       "      <td>236.8295</td>\n",
       "      <td>1141.0830</td>\n",
       "      <td>88.0285</td>\n",
       "      <td>747.6943</td>\n",
       "      <td>409.8256</td>\n",
       "      <td>498.2193</td>\n",
       "      <td>12.0537</td>\n",
       "      <td>111.0547</td>\n",
       "      <td>2676.6396</td>\n",
       "      <td>2246.0049</td>\n",
       "      <td>...</td>\n",
       "      <td>0.012726</td>\n",
       "      <td>0.481794</td>\n",
       "      <td>0.239229</td>\n",
       "      <td>0.087837</td>\n",
       "      <td>0.536541</td>\n",
       "      <td>0.022941</td>\n",
       "      <td>0.540579</td>\n",
       "      <td>0.026454</td>\n",
       "      <td>0.045728</td>\n",
       "      <td>1</td>\n",
       "    </tr>\n",
       "    <tr>\n",
       "      <th>TCGA.18.5595.01</th>\n",
       "      <td>245.4566</td>\n",
       "      <td>999.4328</td>\n",
       "      <td>68.3494</td>\n",
       "      <td>671.5825</td>\n",
       "      <td>821.0437</td>\n",
       "      <td>423.4260</td>\n",
       "      <td>26.6591</td>\n",
       "      <td>45.0227</td>\n",
       "      <td>7857.6064</td>\n",
       "      <td>193.7039</td>\n",
       "      <td>...</td>\n",
       "      <td>0.013850</td>\n",
       "      <td>0.396258</td>\n",
       "      <td>0.956542</td>\n",
       "      <td>0.482447</td>\n",
       "      <td>0.566233</td>\n",
       "      <td>0.966587</td>\n",
       "      <td>0.532004</td>\n",
       "      <td>0.510593</td>\n",
       "      <td>0.933625</td>\n",
       "      <td>1</td>\n",
       "    </tr>\n",
       "    <tr>\n",
       "      <th>TCGA.21.5782.01</th>\n",
       "      <td>308.5506</td>\n",
       "      <td>923.5955</td>\n",
       "      <td>146.0674</td>\n",
       "      <td>212.3596</td>\n",
       "      <td>1083.1461</td>\n",
       "      <td>767.4157</td>\n",
       "      <td>155.0562</td>\n",
       "      <td>198.5281</td>\n",
       "      <td>9403.2921</td>\n",
       "      <td>1151.6854</td>\n",
       "      <td>...</td>\n",
       "      <td>0.967372</td>\n",
       "      <td>0.933384</td>\n",
       "      <td>0.544448</td>\n",
       "      <td>0.298030</td>\n",
       "      <td>0.932454</td>\n",
       "      <td>0.030718</td>\n",
       "      <td>0.972964</td>\n",
       "      <td>0.466552</td>\n",
       "      <td>0.930599</td>\n",
       "      <td>1</td>\n",
       "    </tr>\n",
       "    <tr>\n",
       "      <th>TCGA.21.5783.01</th>\n",
       "      <td>192.7190</td>\n",
       "      <td>526.9117</td>\n",
       "      <td>150.0900</td>\n",
       "      <td>906.6365</td>\n",
       "      <td>748.4178</td>\n",
       "      <td>607.0371</td>\n",
       "      <td>144.2199</td>\n",
       "      <td>47.5353</td>\n",
       "      <td>5312.0566</td>\n",
       "      <td>340.8233</td>\n",
       "      <td>...</td>\n",
       "      <td>0.967869</td>\n",
       "      <td>0.583177</td>\n",
       "      <td>0.020746</td>\n",
       "      <td>0.357359</td>\n",
       "      <td>0.449217</td>\n",
       "      <td>0.963890</td>\n",
       "      <td>0.455323</td>\n",
       "      <td>0.529334</td>\n",
       "      <td>0.936669</td>\n",
       "      <td>1</td>\n",
       "    </tr>\n",
       "    <tr>\n",
       "      <th>TCGA.21.5784.01</th>\n",
       "      <td>161.6057</td>\n",
       "      <td>1196.5056</td>\n",
       "      <td>51.7527</td>\n",
       "      <td>212.7613</td>\n",
       "      <td>3455.4904</td>\n",
       "      <td>557.7795</td>\n",
       "      <td>144.1336</td>\n",
       "      <td>106.4647</td>\n",
       "      <td>20321.8932</td>\n",
       "      <td>1511.4453</td>\n",
       "      <td>...</td>\n",
       "      <td>0.393124</td>\n",
       "      <td>0.503706</td>\n",
       "      <td>0.018432</td>\n",
       "      <td>0.639100</td>\n",
       "      <td>0.030030</td>\n",
       "      <td>0.590748</td>\n",
       "      <td>0.522493</td>\n",
       "      <td>0.031209</td>\n",
       "      <td>0.955941</td>\n",
       "      <td>1</td>\n",
       "    </tr>\n",
       "    <tr>\n",
       "      <th>...</th>\n",
       "      <td>...</td>\n",
       "      <td>...</td>\n",
       "      <td>...</td>\n",
       "      <td>...</td>\n",
       "      <td>...</td>\n",
       "      <td>...</td>\n",
       "      <td>...</td>\n",
       "      <td>...</td>\n",
       "      <td>...</td>\n",
       "      <td>...</td>\n",
       "      <td>...</td>\n",
       "      <td>...</td>\n",
       "      <td>...</td>\n",
       "      <td>...</td>\n",
       "      <td>...</td>\n",
       "      <td>...</td>\n",
       "      <td>...</td>\n",
       "      <td>...</td>\n",
       "      <td>...</td>\n",
       "      <td>...</td>\n",
       "      <td>...</td>\n",
       "    </tr>\n",
       "    <tr>\n",
       "      <th>TCGA.O2.A52S.01</th>\n",
       "      <td>176.7177</td>\n",
       "      <td>1188.3278</td>\n",
       "      <td>226.8212</td>\n",
       "      <td>1100.5795</td>\n",
       "      <td>172.1854</td>\n",
       "      <td>452.8146</td>\n",
       "      <td>133.1664</td>\n",
       "      <td>75.6954</td>\n",
       "      <td>3629.9421</td>\n",
       "      <td>382.8642</td>\n",
       "      <td>...</td>\n",
       "      <td>0.024437</td>\n",
       "      <td>0.084381</td>\n",
       "      <td>0.030087</td>\n",
       "      <td>0.952404</td>\n",
       "      <td>0.569576</td>\n",
       "      <td>0.043652</td>\n",
       "      <td>0.964282</td>\n",
       "      <td>0.367595</td>\n",
       "      <td>0.931168</td>\n",
       "      <td>1</td>\n",
       "    </tr>\n",
       "    <tr>\n",
       "      <th>TCGA.O2.A52V.01</th>\n",
       "      <td>188.7215</td>\n",
       "      <td>1248.0303</td>\n",
       "      <td>147.4945</td>\n",
       "      <td>510.5578</td>\n",
       "      <td>1253.0728</td>\n",
       "      <td>811.4298</td>\n",
       "      <td>148.8055</td>\n",
       "      <td>86.9041</td>\n",
       "      <td>5406.0132</td>\n",
       "      <td>1188.7803</td>\n",
       "      <td>...</td>\n",
       "      <td>0.965751</td>\n",
       "      <td>0.067980</td>\n",
       "      <td>0.449615</td>\n",
       "      <td>0.472282</td>\n",
       "      <td>0.068062</td>\n",
       "      <td>0.958774</td>\n",
       "      <td>0.514518</td>\n",
       "      <td>0.431195</td>\n",
       "      <td>0.107549</td>\n",
       "      <td>1</td>\n",
       "    </tr>\n",
       "    <tr>\n",
       "      <th>TCGA.O2.A52W.01</th>\n",
       "      <td>260.3332</td>\n",
       "      <td>789.3606</td>\n",
       "      <td>854.3794</td>\n",
       "      <td>388.5008</td>\n",
       "      <td>2354.1107</td>\n",
       "      <td>985.4917</td>\n",
       "      <td>52.7243</td>\n",
       "      <td>81.4992</td>\n",
       "      <td>5299.1080</td>\n",
       "      <td>5458.3557</td>\n",
       "      <td>...</td>\n",
       "      <td>0.971247</td>\n",
       "      <td>0.265095</td>\n",
       "      <td>0.573803</td>\n",
       "      <td>0.506155</td>\n",
       "      <td>0.546692</td>\n",
       "      <td>0.719723</td>\n",
       "      <td>0.530074</td>\n",
       "      <td>0.460235</td>\n",
       "      <td>0.931966</td>\n",
       "      <td>1</td>\n",
       "    </tr>\n",
       "    <tr>\n",
       "      <th>TCGA.O2.A5IB.01</th>\n",
       "      <td>160.1624</td>\n",
       "      <td>460.8626</td>\n",
       "      <td>569.2226</td>\n",
       "      <td>932.1086</td>\n",
       "      <td>201.2780</td>\n",
       "      <td>985.0905</td>\n",
       "      <td>14.9281</td>\n",
       "      <td>43.5304</td>\n",
       "      <td>16530.5698</td>\n",
       "      <td>26.8903</td>\n",
       "      <td>...</td>\n",
       "      <td>0.013990</td>\n",
       "      <td>0.031028</td>\n",
       "      <td>0.014438</td>\n",
       "      <td>0.019634</td>\n",
       "      <td>0.948490</td>\n",
       "      <td>0.945375</td>\n",
       "      <td>0.034040</td>\n",
       "      <td>0.501818</td>\n",
       "      <td>0.902703</td>\n",
       "      <td>1</td>\n",
       "    </tr>\n",
       "    <tr>\n",
       "      <th>TCGA.XC.AA0X.01</th>\n",
       "      <td>76.6488</td>\n",
       "      <td>805.9507</td>\n",
       "      <td>311.6273</td>\n",
       "      <td>616.4687</td>\n",
       "      <td>646.7441</td>\n",
       "      <td>599.7651</td>\n",
       "      <td>52.4964</td>\n",
       "      <td>49.1035</td>\n",
       "      <td>14704.3769</td>\n",
       "      <td>2560.8769</td>\n",
       "      <td>...</td>\n",
       "      <td>0.290415</td>\n",
       "      <td>0.079589</td>\n",
       "      <td>0.963819</td>\n",
       "      <td>0.023277</td>\n",
       "      <td>0.678331</td>\n",
       "      <td>0.607971</td>\n",
       "      <td>0.509492</td>\n",
       "      <td>0.887421</td>\n",
       "      <td>0.734846</td>\n",
       "      <td>1</td>\n",
       "    </tr>\n",
       "  </tbody>\n",
       "</table>\n",
       "<p>344 rows × 18665 columns</p>\n",
       "</div>"
      ],
      "text/plain": [
       "                  ?|10357    ?|10431  ?|155060    ?|57714   ?|653553  \\\n",
       "TCGA.18.5592.01  236.8295  1141.0830   88.0285   747.6943   409.8256   \n",
       "TCGA.18.5595.01  245.4566   999.4328   68.3494   671.5825   821.0437   \n",
       "TCGA.21.5782.01  308.5506   923.5955  146.0674   212.3596  1083.1461   \n",
       "TCGA.21.5783.01  192.7190   526.9117  150.0900   906.6365   748.4178   \n",
       "TCGA.21.5784.01  161.6057  1196.5056   51.7527   212.7613  3455.4904   \n",
       "...                   ...        ...       ...        ...        ...   \n",
       "TCGA.O2.A52S.01  176.7177  1188.3278  226.8212  1100.5795   172.1854   \n",
       "TCGA.O2.A52V.01  188.7215  1248.0303  147.4945   510.5578  1253.0728   \n",
       "TCGA.O2.A52W.01  260.3332   789.3606  854.3794   388.5008  2354.1107   \n",
       "TCGA.O2.A5IB.01  160.1624   460.8626  569.2226   932.1086   201.2780   \n",
       "TCGA.XC.AA0X.01   76.6488   805.9507  311.6273   616.4687   646.7441   \n",
       "\n",
       "                   ?|8225    A1BG|1  A2LD1|87769       A2M|2  A4GALT|53947  \\\n",
       "TCGA.18.5592.01  498.2193   12.0537     111.0547   2676.6396     2246.0049   \n",
       "TCGA.18.5595.01  423.4260   26.6591      45.0227   7857.6064      193.7039   \n",
       "TCGA.21.5782.01  767.4157  155.0562     198.5281   9403.2921     1151.6854   \n",
       "TCGA.21.5783.01  607.0371  144.2199      47.5353   5312.0566      340.8233   \n",
       "TCGA.21.5784.01  557.7795  144.1336     106.4647  20321.8932     1511.4453   \n",
       "...                   ...       ...          ...         ...           ...   \n",
       "TCGA.O2.A52S.01  452.8146  133.1664      75.6954   3629.9421      382.8642   \n",
       "TCGA.O2.A52V.01  811.4298  148.8055      86.9041   5406.0132     1188.7803   \n",
       "TCGA.O2.A52W.01  985.4917   52.7243      81.4992   5299.1080     5458.3557   \n",
       "TCGA.O2.A5IB.01  985.0905   14.9281      43.5304  16530.5698       26.8903   \n",
       "TCGA.XC.AA0X.01  599.7651   52.4964      49.1035  14704.3769     2560.8769   \n",
       "\n",
       "                 ...  rs798149  rs845016  rs877309  rs9292570  rs9363764  \\\n",
       "TCGA.18.5592.01  ...  0.012726  0.481794  0.239229   0.087837   0.536541   \n",
       "TCGA.18.5595.01  ...  0.013850  0.396258  0.956542   0.482447   0.566233   \n",
       "TCGA.21.5782.01  ...  0.967372  0.933384  0.544448   0.298030   0.932454   \n",
       "TCGA.21.5783.01  ...  0.967869  0.583177  0.020746   0.357359   0.449217   \n",
       "TCGA.21.5784.01  ...  0.393124  0.503706  0.018432   0.639100   0.030030   \n",
       "...              ...       ...       ...       ...        ...        ...   \n",
       "TCGA.O2.A52S.01  ...  0.024437  0.084381  0.030087   0.952404   0.569576   \n",
       "TCGA.O2.A52V.01  ...  0.965751  0.067980  0.449615   0.472282   0.068062   \n",
       "TCGA.O2.A52W.01  ...  0.971247  0.265095  0.573803   0.506155   0.546692   \n",
       "TCGA.O2.A5IB.01  ...  0.013990  0.031028  0.014438   0.019634   0.948490   \n",
       "TCGA.XC.AA0X.01  ...  0.290415  0.079589  0.963819   0.023277   0.678331   \n",
       "\n",
       "                 rs939290  rs951295  rs966367  rs9839873  Class  \n",
       "TCGA.18.5592.01  0.022941  0.540579  0.026454   0.045728      1  \n",
       "TCGA.18.5595.01  0.966587  0.532004  0.510593   0.933625      1  \n",
       "TCGA.21.5782.01  0.030718  0.972964  0.466552   0.930599      1  \n",
       "TCGA.21.5783.01  0.963890  0.455323  0.529334   0.936669      1  \n",
       "TCGA.21.5784.01  0.590748  0.522493  0.031209   0.955941      1  \n",
       "...                   ...       ...       ...        ...    ...  \n",
       "TCGA.O2.A52S.01  0.043652  0.964282  0.367595   0.931168      1  \n",
       "TCGA.O2.A52V.01  0.958774  0.514518  0.431195   0.107549      1  \n",
       "TCGA.O2.A52W.01  0.719723  0.530074  0.460235   0.931966      1  \n",
       "TCGA.O2.A5IB.01  0.945375  0.034040  0.501818   0.902703      1  \n",
       "TCGA.XC.AA0X.01  0.607971  0.509492  0.887421   0.734846      1  \n",
       "\n",
       "[344 rows x 18665 columns]"
      ]
     },
     "execution_count": 16,
     "metadata": {},
     "output_type": "execute_result"
    }
   ],
   "source": [
    "Multiomics"
   ]
  },
  {
   "cell_type": "markdown",
   "metadata": {
    "id": "0VNRvhc5tbFf"
   },
   "source": [
    "SAVE FINALISED DATASET"
   ]
  },
  {
   "cell_type": "code",
   "execution_count": 17,
   "metadata": {
    "id": "e1DrxHuREskj"
   },
   "outputs": [],
   "source": [
    "#Save Finalised Lung Dataset\n",
    "Complete_Data = Multiomics.to_csv(data_path + 'Complete_MultiOmicsnew.csv')"
   ]
  },
  {
   "cell_type": "code",
   "execution_count": 19,
   "metadata": {},
   "outputs": [
    {
     "name": "stdout",
     "output_type": "stream",
     "text": [
      "Males with Cancer :  373  and Normal :  85\n",
      "Females with Cancer :  131  and Normal :  34\n"
     ]
    }
   ],
   "source": [
    "clinical = pd.read_csv('lung.csv', sep = ',')\n",
    "clinical.drop(clinical.columns.difference(['sampleID','gender']), 1, inplace=True) #Dropping all columns except Sample_ID & Sample type\n",
    "female_ids = (clinical['sampleID'][clinical['gender']=='FEMALE']).to_list()\n",
    "male_ids = (clinical['sampleID'][clinical['gender']=='MALE']).to_list()\n",
    "df_temp = pd.DataFrame(Multiomics.reset_index())\n",
    "df_temp['index'] = df_temp['index'].str.replace('.','-')\n",
    "\n",
    "male_is = []\n",
    "female_is = []\n",
    "\n",
    "for i in range(len(df_temp)):\n",
    "    if df_temp['index'][i] in male_ids:\n",
    "        male_is.append(i)\n",
    "    elif df_temp['index'][i] in female_ids:\n",
    "        female_is.append(i)\n",
    "Sample['PatientID'] = Sample['PatientID'].str.replace('.','-')\n",
    "male_1 = 0\n",
    "male_0 = 0\n",
    "female_1 = 0\n",
    "female_0 = 0\n",
    "for i in range(len(Sample)):\n",
    "    if Sample['PatientID'][i] in male_ids:\n",
    "        if Sample['Class'][i] == '1':\n",
    "            male_1 += 1\n",
    "        else:\n",
    "            male_0 += 1\n",
    "    elif Sample['PatientID'][i] in female_ids:\n",
    "        if Sample['Class'][i] == '1':\n",
    "            female_1 += 1\n",
    "        else:\n",
    "            female_0 += 1\n",
    "print(\"Males with Cancer : \", male_1, \" and Normal : \", male_0)\n",
    "print(\"Females with Cancer : \", female_1, \" and Normal : \", female_0)\n",
    "\n",
    "\n",
    "df_new = df_temp.iloc[male_is]\n",
    "df_new.set_index('index') \n",
    "df_new.to_csv('./MALE/Complete_MultiOmicsnew.csv')\n",
    "\n",
    "df_new = df_temp.iloc[female_is]\n",
    "df_new.set_index('index') \n",
    "df_new.to_csv('./FEMALE/Complete_MultiOmicsnew.csv')\n"
   ]
  },
  {
   "cell_type": "code",
   "execution_count": null,
   "metadata": {},
   "outputs": [],
   "source": []
  }
 ],
 "metadata": {
  "accelerator": "GPU",
  "colab": {
   "collapsed_sections": [
    "8GsC_HN2IwPD",
    "HXdWzWR0IqU_"
   ],
   "include_colab_link": true,
   "name": "DATA PRE-PROCESSING.ipynb",
   "provenance": []
  },
  "kernelspec": {
   "display_name": "Python 3.9 (Default)",
   "language": "python",
   "name": "python3"
  },
  "language_info": {
   "codemirror_mode": {
    "name": "ipython",
    "version": 3
   },
   "file_extension": ".py",
   "mimetype": "text/x-python",
   "name": "python",
   "nbconvert_exporter": "python",
   "pygments_lexer": "ipython3",
   "version": "3.9.7"
  }
 },
 "nbformat": 4,
 "nbformat_minor": 1
}
